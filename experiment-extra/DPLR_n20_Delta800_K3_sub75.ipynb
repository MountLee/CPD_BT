{
 "cells": [
  {
   "cell_type": "code",
   "execution_count": 1,
   "metadata": {
    "colab": {
     "base_uri": "https://localhost:8080/"
    },
    "id": "im-zBYvoLM2x",
    "outputId": "a17a50c6-38c7-4c8e-935e-d96af4689fd5"
   },
   "outputs": [
    {
     "name": "stdout",
     "output_type": "stream",
     "text": [
      "Mounted at /content/drive\n"
     ]
    }
   ],
   "source": [
    "from google.colab import drive\n",
    "drive.mount('/content/drive')"
   ]
  },
  {
   "cell_type": "code",
   "execution_count": 2,
   "metadata": {
    "id": "yADnUZVCNYL0"
   },
   "outputs": [],
   "source": [
    "import os, sys\n",
    "sys.path.append('/content/drive/MyDrive/CPD_BT')"
   ]
  },
  {
   "cell_type": "code",
   "execution_count": 3,
   "metadata": {
    "colab": {
     "base_uri": "https://localhost:8080/"
    },
    "id": "uIKHDjhONeFr",
    "outputId": "e14cc6e1-9063-40e1-d41e-cbf39484b15b"
   },
   "outputs": [
    {
     "name": "stderr",
     "output_type": "stream",
     "text": [
      "/usr/local/lib/python3.7/dist-packages/statsmodels/tools/_testing.py:19: FutureWarning: pandas.util.testing is deprecated. Use the functions in the public API at pandas.testing instead.\n",
      "  import pandas.util.testing as tm\n"
     ]
    }
   ],
   "source": [
    "import numpy as np\n",
    "import matplotlib.pyplot as plt\n",
    "import scipy.stats as stats\n",
    "import random\n",
    "\n",
    "import itertools\n",
    "\n",
    "from bt_cpd import *\n",
    "\n",
    "import time\n",
    "import bisect\n",
    "\n",
    "import pandas as pd\n",
    "\n",
    "import statsmodels.api as sm\n",
    "from sklearn import linear_model\n",
    "\n",
    "from warnings import simplefilter\n",
    "from sklearn.exceptions import ConvergenceWarning\n",
    "simplefilter(\"ignore\", category=ConvergenceWarning)"
   ]
  },
  {
   "cell_type": "code",
   "execution_count": 4,
   "metadata": {
    "colab": {
     "base_uri": "https://localhost:8080/"
    },
    "id": "Ns9hvspTPlgL",
    "outputId": "69588650-4861-4bf2-83b2-861d4276c95d"
   },
   "outputs": [
    {
     "name": "stdout",
     "output_type": "stream",
     "text": [
      "[ 800 1600 2400]\n"
     ]
    }
   ],
   "source": [
    "T = 4\n",
    "Delta = 800\n",
    "m = np.array([Delta] * T)\n",
    "cp_truth = np.cumsum(m)[:T-1]\n",
    "print(cp_truth)\n",
    "\n",
    "n = 20\n",
    "\n",
    "sub = 0.75"
   ]
  },
  {
   "cell_type": "code",
   "execution_count": 5,
   "metadata": {
    "id": "hfhGQb_ifULO"
   },
   "outputs": [],
   "source": [
    "path = '/content/drive/MyDrive/CPD_BT/experiment_random/'\n",
    "with open(path + 'data_n' + str(n) + '_Delta' + str(Delta) + '_K' + str(T - 1) + '_sub' + str(int(100 * sub)) + '.npy', 'rb') as f:\n",
    "    beta_list = np.load(f)\n",
    "    X_train_list = np.load(f)\n",
    "    Y_train_list = np.load(f)\n",
    "    X_test_list = np.load(f)\n",
    "    Y_test_list = np.load(f)"
   ]
  },
  {
   "cell_type": "code",
   "execution_count": 6,
   "metadata": {
    "colab": {
     "base_uri": "https://localhost:8080/"
    },
    "id": "Xqvln61AntMT",
    "outputId": "5dc37a59-9289-4b4c-e5ee-2de3d6630c60"
   },
   "outputs": [
    {
     "data": {
      "text/plain": [
       "(100, 3200, 20)"
      ]
     },
     "execution_count": 6,
     "metadata": {},
     "output_type": "execute_result"
    }
   ],
   "source": [
    "X_train_list.shape"
   ]
  },
  {
   "cell_type": "code",
   "execution_count": 7,
   "metadata": {
    "colab": {
     "base_uri": "https://localhost:8080/"
    },
    "id": "Qmel4DHRxLGT",
    "outputId": "ebc54a0d-b922-40bb-b882-65ce858e32b2"
   },
   "outputs": [
    {
     "name": "stdout",
     "output_type": "stream",
     "text": [
      "0\n",
      "1\n",
      "2\n",
      "3\n",
      "4\n",
      "5\n",
      "6\n",
      "7\n",
      "8\n",
      "9\n",
      "10\n",
      "11\n",
      "12\n",
      "13\n",
      "14\n",
      "15\n",
      "16\n",
      "17\n",
      "18\n",
      "19\n",
      "20\n",
      "21\n",
      "22\n",
      "23\n",
      "24\n",
      "25\n",
      "26\n",
      "27\n",
      "28\n",
      "29\n",
      "30\n",
      "31\n",
      "32\n",
      "33\n",
      "34\n",
      "35\n",
      "36\n",
      "37\n",
      "38\n",
      "39\n",
      "40\n",
      "41\n",
      "42\n",
      "43\n",
      "44\n",
      "45\n",
      "46\n",
      "47\n",
      "48\n",
      "49\n",
      "50\n",
      "51\n",
      "52\n",
      "53\n",
      "54\n",
      "55\n",
      "56\n",
      "57\n",
      "58\n",
      "59\n",
      "60\n",
      "61\n",
      "62\n",
      "63\n",
      "64\n",
      "65\n",
      "66\n",
      "67\n",
      "68\n",
      "69\n",
      "70\n",
      "71\n",
      "72\n",
      "73\n",
      "74\n",
      "75\n",
      "76\n",
      "77\n",
      "78\n",
      "79\n",
      "80\n",
      "81\n",
      "82\n",
      "83\n",
      "84\n",
      "85\n",
      "86\n",
      "87\n",
      "88\n",
      "89\n",
      "90\n",
      "91\n",
      "92\n",
      "93\n",
      "94\n",
      "95\n",
      "96\n",
      "97\n",
      "98\n",
      "99\n",
      "---------- dplr -----------\n",
      "avg loc error: 114.5, avg time: 120.43382527828217\n",
      "std loc error: 251.71386533125266, std time: 4.357437912805902\n",
      "K < K*: 8, K = K*: 91, K > K*: 1\n"
     ]
    }
   ],
   "source": [
    "np.random.seed(0)\n",
    "\n",
    "grid_n = 90\n",
    "gamma_list = [20, 40]\n",
    "lam_list = [0.1]\n",
    "\n",
    "nt = Delta * T\n",
    "B = 100\n",
    "\n",
    "run_time_d = np.zeros(B)\n",
    "loc_error_d = np.zeros(B)\n",
    "K_d = np.zeros(B)\n",
    "\n",
    "cp_best_list = []\n",
    "param_best_list = []\n",
    "cp_best_cand_list = []\n",
    "\n",
    "for b in range(B):\n",
    "    X_train = X_train_list[b]\n",
    "    Y_train = Y_train_list[b]\n",
    "    X_test = X_test_list[b]\n",
    "    Y_test = Y_test_list[b]\n",
    "\n",
    "    start_time = time.time()\n",
    "    dp_fit = dplr_cv_bt(grid_n, lam_list, gamma_list)\n",
    "    cp_best, param_best, cp_best_cand = dp_fit.fit((Y_train, X_train), (Y_test, X_test))    \n",
    "    run_time_d[b] = time.time() - start_time\n",
    "    loc_error_d[b] = cp_distance(cp_best, cp_truth)\n",
    "    K_d[b] = len(cp_best)\n",
    "\n",
    "    cp_best_list.append(cp_best)\n",
    "    param_best_list.append(param_best)\n",
    "    cp_best_cand_list.append(cp_best_cand)\n",
    "    print(b)\n",
    "\n",
    "\n",
    "print('---------- dplr -----------')\n",
    "print(\"avg loc error: {0}, avg time: {1}\".format(loc_error_d.mean(), run_time_d.mean()))\n",
    "print(\"std loc error: {0}, std time: {1}\".format(loc_error_d.std(), run_time_d.std()))\n",
    "print('K < K*: {0}, K = K*: {1}, K > K*: {2}'.format(sum(K_d < T - 1), sum(K_d == T - 1), sum(K_d > T - 1)))"
   ]
  },
  {
   "cell_type": "code",
   "execution_count": 8,
   "metadata": {
    "colab": {
     "base_uri": "https://localhost:8080/"
    },
    "id": "Qe8Pn9foJDJQ",
    "outputId": "133167f6-3935-48d1-a2bb-988b2e6fd61d"
   },
   "outputs": [
    {
     "data": {
      "text/plain": [
       "array([1607.,    9.,  764.,   33.,   14.,    2.,   10.,    6.,   21.,\n",
       "        741.,  209.,    6.,  782.,   22.,   18.,   22.,   53.,   32.,\n",
       "         40.,  844.,   45.,   21.,   43.,   10.,   83.,    4.,   16.,\n",
       "          8.,  321.,   29.,    4.,   21.,   43.,   25.,  232.,   20.,\n",
       "         22.,    4.,   34.,    4.,   29.,  115.,   13.,   20.,    6.,\n",
       "         22.,   83.,   28.,   20.,   17.,   19.,   16.,   17.,   29.,\n",
       "         12.,   25.,  124.,  794.,   80.,   14.,    8.,    8.,   66.,\n",
       "         17.,   34.,   13.,   79.,   17.,  120.,   61.,  819.,   23.,\n",
       "         46.,   10.,    2.,  138.,   20.,   14.,    4.,  329.,   59.,\n",
       "         30.,   32.,   70.,    6.,  438.,  800.,  119.,   60.,   10.,\n",
       "         21.,   42.,   16.,    2.,   41.,   27.,   31.,   57.,   28.,\n",
       "         26.])"
      ]
     },
     "execution_count": 8,
     "metadata": {},
     "output_type": "execute_result"
    }
   ],
   "source": [
    "loc_error_d"
   ]
  },
  {
   "cell_type": "code",
   "execution_count": 9,
   "metadata": {
    "colab": {
     "base_uri": "https://localhost:8080/"
    },
    "id": "Kyi5K_w8JBWt",
    "outputId": "955aeae9-c77f-4fc2-d278-e5a11c4f4b78"
   },
   "outputs": [
    {
     "data": {
      "text/plain": [
       "[[793],\n",
       " [806, 1609, 2393],\n",
       " [1564, 2431],\n",
       " [810, 1595, 2367],\n",
       " [814, 1600, 2388],\n",
       " [798, 1601, 2401],\n",
       " [802, 1597, 2390],\n",
       " [794, 1601, 2400],\n",
       " [820, 1601, 2379],\n",
       " [859, 2393],\n",
       " [591, 1602, 2377],\n",
       " [797, 1606, 2401],\n",
       " [784, 1618],\n",
       " [809, 1578, 2406],\n",
       " [798, 1609, 2418],\n",
       " [791, 1598, 2422],\n",
       " [802, 1645, 2347],\n",
       " [804, 1606, 2432],\n",
       " [829, 1560, 2401],\n",
       " [1644, 2399],\n",
       " [773, 1645, 2407],\n",
       " [779, 1610, 2399],\n",
       " [787, 1557, 2387],\n",
       " [804, 1610, 2401],\n",
       " [799, 1606, 2317],\n",
       " [804, 1602, 2404],\n",
       " [816, 1590, 2400],\n",
       " [801, 1608, 2404],\n",
       " [797, 1646, 2721],\n",
       " [800, 1629, 2421],\n",
       " [798, 1600, 2404],\n",
       " [821, 1582, 2410],\n",
       " [798, 1643, 2397],\n",
       " [804, 1591, 2375],\n",
       " [801, 1604, 2168],\n",
       " [780, 1594, 2404],\n",
       " [799, 1597, 2422],\n",
       " [798, 1602, 2396],\n",
       " [826, 1566, 2430],\n",
       " [800, 1602, 2404],\n",
       " [810, 1571, 2415],\n",
       " [915, 1612, 2407],\n",
       " [801, 1587, 2394],\n",
       " [820, 1597, 2400],\n",
       " [796, 1601, 2394],\n",
       " [813, 1622, 2400],\n",
       " [791, 1599, 2483],\n",
       " [800, 1628, 2391],\n",
       " [797, 1580, 2407],\n",
       " [806, 1602, 2417],\n",
       " [802, 1619, 2413],\n",
       " [812, 1599, 2384],\n",
       " [800, 1617, 2393],\n",
       " [829, 1600, 2396],\n",
       " [800, 1612, 2397],\n",
       " [775, 1601, 2401],\n",
       " [801, 1724, 2395],\n",
       " [806, 2431],\n",
       " [826, 1520, 2398],\n",
       " [812, 1614, 2399],\n",
       " [793, 1606, 2392],\n",
       " [792, 1595, 2399],\n",
       " [758, 1587, 2466],\n",
       " [798, 1583, 2385],\n",
       " [782, 1566, 2382],\n",
       " [795, 1609, 2387],\n",
       " [798, 1627, 2479],\n",
       " [806, 1583, 2394],\n",
       " [805, 1606, 2520],\n",
       " [861, 1593, 2409],\n",
       " [1619, 2397],\n",
       " [796, 1577, 2422],\n",
       " [781, 1590, 2446],\n",
       " [799, 1610, 2405],\n",
       " [801, 1600, 2402],\n",
       " [801, 1738, 2404],\n",
       " [785, 1620, 2402],\n",
       " [786, 1592, 2391],\n",
       " [796, 1597, 2398],\n",
       " [827, 1628, 1929, 2402],\n",
       " [794, 1615, 2459],\n",
       " [770, 1600, 2395],\n",
       " [768, 1600, 2401],\n",
       " [816, 1564, 2470],\n",
       " [802, 1598, 2394],\n",
       " [798, 1575, 2838],\n",
       " [1600, 2398],\n",
       " [681, 1673, 2401],\n",
       " [740, 1568, 2402],\n",
       " [800, 1593, 2390],\n",
       " [821, 1614, 2399],\n",
       " [842, 1596, 2400],\n",
       " [800, 1616, 2402],\n",
       " [800, 1598, 2401],\n",
       " [769, 1599, 2441],\n",
       " [778, 1587, 2427],\n",
       " [769, 1585, 2406],\n",
       " [797, 1543, 2395],\n",
       " [792, 1602, 2372],\n",
       " [803, 1626, 2390]]"
      ]
     },
     "execution_count": 9,
     "metadata": {},
     "output_type": "execute_result"
    }
   ],
   "source": [
    "cp_best_list"
   ]
  },
  {
   "cell_type": "code",
   "execution_count": 10,
   "metadata": {
    "colab": {
     "base_uri": "https://localhost:8080/"
    },
    "id": "0GVWff9GJDWw",
    "outputId": "a25e635b-39f1-4402-c068-bb04a74c806a"
   },
   "outputs": [
    {
     "data": {
      "text/plain": [
       "[array([805]),\n",
       " array([ 805, 1610, 2380]),\n",
       " array([1610, 2485]),\n",
       " array([ 805, 1610, 2380]),\n",
       " array([ 805, 1610, 2415]),\n",
       " array([ 805, 1610, 2415]),\n",
       " array([ 805, 1610, 2380]),\n",
       " array([ 770, 1610, 2380]),\n",
       " array([ 805, 1610, 2380]),\n",
       " array([ 875, 2415]),\n",
       " array([ 735, 1610, 2380]),\n",
       " array([ 805, 1610, 2380]),\n",
       " array([ 770, 1610]),\n",
       " array([ 840, 1575, 2380]),\n",
       " array([ 735, 1610, 2415]),\n",
       " array([ 805, 1610, 2415]),\n",
       " array([ 805, 1645, 2415]),\n",
       " array([ 805, 1610, 2415]),\n",
       " array([ 805, 1645, 2415]),\n",
       " array([1645, 2415]),\n",
       " array([ 805, 1645, 2415]),\n",
       " array([ 805, 1610, 2380]),\n",
       " array([ 805, 1610, 2415]),\n",
       " array([ 805, 1610, 2415]),\n",
       " array([ 805, 1610, 2310]),\n",
       " array([ 805, 1575, 2485]),\n",
       " array([ 805, 1575, 2345]),\n",
       " array([ 805, 1610, 2415]),\n",
       " array([ 805, 1645, 2310]),\n",
       " array([ 805, 1645, 2415]),\n",
       " array([ 805, 1610, 2415]),\n",
       " array([ 805, 1610, 2415]),\n",
       " array([ 805, 1645, 2415]),\n",
       " array([ 805, 1575, 2380]),\n",
       " array([ 805, 1610, 2415]),\n",
       " array([ 840, 1610, 2415]),\n",
       " array([ 805, 1610, 2415]),\n",
       " array([ 665, 1610, 2380]),\n",
       " array([ 840, 1575, 2415]),\n",
       " array([ 805, 1610, 2415]),\n",
       " array([ 805, 1575, 2415]),\n",
       " array([ 910, 1610, 2415]),\n",
       " array([ 805, 1610, 2380]),\n",
       " array([ 840, 1645, 2415]),\n",
       " array([ 805, 1610, 2345]),\n",
       " array([ 805, 1610, 2415]),\n",
       " array([ 805, 1575, 2485]),\n",
       " array([ 805, 1610, 2380]),\n",
       " array([ 805, 1575, 2415]),\n",
       " array([ 805, 1610, 2380]),\n",
       " array([ 805, 1610, 2415]),\n",
       " array([ 805, 1575, 2380]),\n",
       " array([ 770, 1610, 2415]),\n",
       " array([ 840, 1610, 2380]),\n",
       " array([ 805, 1610, 2415]),\n",
       " array([ 805, 1610, 2415]),\n",
       " array([ 805, 1715, 2415]),\n",
       " array([ 805, 2415]),\n",
       " array([ 805, 1505, 2380]),\n",
       " array([ 805, 1610, 2415]),\n",
       " array([ 805, 1610, 2380]),\n",
       " array([ 805, 1610, 2415]),\n",
       " array([ 700, 1610, 2450]),\n",
       " array([ 805, 1575, 2380]),\n",
       " array([ 770, 1540, 2380]),\n",
       " array([ 805, 1645, 2380]),\n",
       " array([ 805, 1645, 2415]),\n",
       " array([ 805, 1610, 2415]),\n",
       " array([ 805, 1610, 2520]),\n",
       " array([ 840, 1610, 2415]),\n",
       " array([1505, 2380]),\n",
       " array([ 665, 1575, 2415]),\n",
       " array([ 770, 1610, 2450]),\n",
       " array([ 805, 1610, 2450]),\n",
       " array([ 805, 1610, 2415]),\n",
       " array([ 805, 1785, 2380]),\n",
       " array([ 770, 1610, 2415]),\n",
       " array([ 770, 1575, 2380]),\n",
       " array([ 770, 1610, 2415]),\n",
       " array([ 805, 1645, 1715, 2415]),\n",
       " array([ 805, 1610, 2380]),\n",
       " array([ 770, 1610, 2415]),\n",
       " array([ 770, 1610, 2415]),\n",
       " array([ 805, 1610, 2380]),\n",
       " array([ 805, 1610, 2415]),\n",
       " array([ 770, 1575, 2380]),\n",
       " array([1610, 2415]),\n",
       " array([ 735, 1505, 2380]),\n",
       " array([ 805, 1575, 2415]),\n",
       " array([ 805, 1575, 2380]),\n",
       " array([ 805, 1610, 2380]),\n",
       " array([ 840, 1610, 2415]),\n",
       " array([ 805, 1610, 2415]),\n",
       " array([ 805, 1610, 2415]),\n",
       " array([ 770, 1610, 2450]),\n",
       " array([ 805, 1610, 2450]),\n",
       " array([ 770, 1610, 2415]),\n",
       " array([ 770, 1540, 2415]),\n",
       " array([ 805, 1610, 2380]),\n",
       " array([ 805, 1575, 2415])]"
      ]
     },
     "execution_count": 10,
     "metadata": {},
     "output_type": "execute_result"
    }
   ],
   "source": [
    "cp_best_cand_list"
   ]
  },
  {
   "cell_type": "code",
   "execution_count": 11,
   "metadata": {
    "id": "JUnKEsc4vGd0"
   },
   "outputs": [],
   "source": [
    "import pickle\n",
    "with open(path + 'dplr_n' + str(n) + '_Delta' + str(Delta) + '_K' + str(T - 1) + '_grid' + str(grid_n) + '_sub' + str(int(100 * sub)) + '.pickle', 'wb') as f:\n",
    "    pickle.dump([beta_list, cp_best_list, param_best_list, cp_best_cand_list, loc_error_d, run_time_d, K_d], f)"
   ]
  },
  {
   "cell_type": "code",
   "execution_count": 11,
   "metadata": {
    "id": "ZYnLxRuSyBwY"
   },
   "outputs": [],
   "source": []
  },
  {
   "cell_type": "code",
   "execution_count": 14,
   "metadata": {
    "colab": {
     "base_uri": "https://localhost:8080/"
    },
    "id": "zLInlly5Wwwn",
    "outputId": "85448eb7-4fb1-408d-cf24-ade25e19dc71"
   },
   "outputs": [
    {
     "name": "stdout",
     "output_type": "stream",
     "text": [
      "avg loc error: 114.43, avg time: 120.43382527828217\n",
      "std loc error: 251.29943314699298, std time: 4.357437912805902\n",
      "K < K*: 8, K = K*: 91, K > K*: 1\n"
     ]
    }
   ],
   "source": [
    "loc_error_d[loc_error_d > (T // 2) * Delta] = (T // 2) * Delta\n",
    "\n",
    "print(\"avg loc error: {0}, avg time: {1}\".format(loc_error_d.mean(), run_time_d.mean()))\n",
    "print(\"std loc error: {0}, std time: {1}\".format(loc_error_d.std(), run_time_d.std()))\n",
    "print('K < K*: {0}, K = K*: {1}, K > K*: {2}'.format(sum(K_d < T - 1), sum(K_d == T - 1), sum(K_d > T - 1)))"
   ]
  },
  {
   "cell_type": "code",
   "execution_count": null,
   "metadata": {
    "id": "Uk33W0F59mzH"
   },
   "outputs": [],
   "source": []
  }
 ],
 "metadata": {
  "colab": {
   "collapsed_sections": [],
   "name": "DPLR_n20_Delta800_K3_sub75.ipynb",
   "provenance": []
  },
  "kernelspec": {
   "display_name": "Python 3",
   "language": "python",
   "name": "python3"
  },
  "language_info": {
   "codemirror_mode": {
    "name": "ipython",
    "version": 3
   },
   "file_extension": ".py",
   "mimetype": "text/x-python",
   "name": "python",
   "nbconvert_exporter": "python",
   "pygments_lexer": "ipython3",
   "version": "3.7.4"
  }
 },
 "nbformat": 4,
 "nbformat_minor": 1
}
