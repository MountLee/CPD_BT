{
 "cells": [
  {
   "cell_type": "code",
   "execution_count": 3,
   "metadata": {
    "colab": {
     "base_uri": "https://localhost:8080/"
    },
    "id": "im-zBYvoLM2x",
    "outputId": "feb90592-621d-46d2-da97-60e7f56a54fa"
   },
   "outputs": [
    {
     "name": "stdout",
     "output_type": "stream",
     "text": [
      "Mounted at /content/drive\n"
     ]
    }
   ],
   "source": [
    "from google.colab import drive\n",
    "drive.mount('/content/drive')"
   ]
  },
  {
   "cell_type": "code",
   "execution_count": 4,
   "metadata": {
    "id": "yADnUZVCNYL0"
   },
   "outputs": [],
   "source": [
    "import os, sys\n",
    "sys.path.append('/content/drive/MyDrive/CPD_BT')"
   ]
  },
  {
   "cell_type": "code",
   "execution_count": 5,
   "metadata": {
    "colab": {
     "base_uri": "https://localhost:8080/"
    },
    "id": "uIKHDjhONeFr",
    "outputId": "36013fad-694d-4d4b-ffe2-fe8cfc826550"
   },
   "outputs": [
    {
     "name": "stderr",
     "output_type": "stream",
     "text": [
      "/usr/local/lib/python3.7/dist-packages/statsmodels/tools/_testing.py:19: FutureWarning: pandas.util.testing is deprecated. Use the functions in the public API at pandas.testing instead.\n",
      "  import pandas.util.testing as tm\n"
     ]
    }
   ],
   "source": [
    "import numpy as np\n",
    "import matplotlib.pyplot as plt\n",
    "import scipy.stats as stats\n",
    "import random\n",
    "import copy\n",
    "\n",
    "import itertools\n",
    "\n",
    "from bt_cpd import *\n",
    "\n",
    "import time\n",
    "import bisect\n",
    "\n",
    "import pandas as pd\n",
    "\n",
    "import statsmodels.api as sm\n",
    "from sklearn import linear_model\n",
    "\n",
    "from warnings import simplefilter\n",
    "from sklearn.exceptions import ConvergenceWarning\n",
    "simplefilter(\"ignore\", category=ConvergenceWarning)"
   ]
  },
  {
   "cell_type": "code",
   "execution_count": null,
   "metadata": {
    "id": "utWmJgpkxSpt"
   },
   "outputs": [],
   "source": [
    "def get_beta_ref_unif(n, p_up = 0.9):\n",
    "    t = p_up\n",
    "    kappa = np.log(t / (1 - t))\n",
    "    delta = 1\n",
    "    beta_ref = np.random.uniform(0, 1, n)\n",
    "    beta_ref -= np.mean(beta_ref)\n",
    "    beta_ref *= kappa / (np.max(beta_ref) - np.min(beta_ref))\n",
    "    return beta_ref\n",
    "\n",
    "def get_beta_unif(T, n, p_up = 0.9):\n",
    "    beta = np.zeros((T, n))\n",
    "\n",
    "    beta_ref = get_beta_ref_unif(n, p_up = p_up)\n",
    "    beta[0] = beta_ref[:]\n",
    "    for t in range(1, T):\n",
    "        beta[t] = np.random.permutation(beta[t - 1])\n",
    "\n",
    "    return beta"
   ]
  },
  {
   "cell_type": "markdown",
   "metadata": {
    "id": "iiobKX5095az"
   },
   "source": [
    "## An example"
   ]
  },
  {
   "cell_type": "code",
   "execution_count": null,
   "metadata": {
    "colab": {
     "base_uri": "https://localhost:8080/"
    },
    "id": "wPw1N_p76VEx",
    "outputId": "34afed84-3d3f-4208-f022-513a756f17ca"
   },
   "outputs": [
    {
     "name": "stdout",
     "output_type": "stream",
     "text": [
      "[ 500 1000 1500]\n",
      "2.9444389791664394\n",
      "[2.9583473  3.72432923 3.47746154]\n"
     ]
    }
   ],
   "source": [
    "T = 4\n",
    "Delta = 500\n",
    "m = np.array([Delta] * T)\n",
    "cp_truth = np.cumsum(m)[:T-1]\n",
    "print(cp_truth)\n",
    "\n",
    "n = 10\n",
    "beta = np.zeros((T, n))\n",
    "\n",
    "beta_ref = get_beta_unif(n, p_up = 0.95)\n",
    "beta[0] = beta_ref[:]\n",
    "beta[1] = np.random.permutation(beta[0])\n",
    "beta[2] = np.random.permutation(beta[1])\n",
    "beta[3] = np.random.permutation(beta[2])\n",
    "\n",
    "print(max(beta[0]) - min(beta[0]))\n",
    "\n",
    "diff = np.zeros(T - 1)\n",
    "for t in range(1, T):\n",
    "    diff[t - 1] = np.sum(np.abs(beta[t] - beta[t - 1])**2)**0.5\n",
    "print(diff)"
   ]
  },
  {
   "cell_type": "markdown",
   "metadata": {
    "id": "u97766AG-AV5"
   },
   "source": [
    "## Start generation"
   ]
  },
  {
   "cell_type": "code",
   "execution_count": null,
   "metadata": {
    "colab": {
     "base_uri": "https://localhost:8080/"
    },
    "id": "A2yx78ycADlq",
    "outputId": "d1ff4860-957e-4874-c604-19f6121a9cd4"
   },
   "outputs": [
    {
     "name": "stdout",
     "output_type": "stream",
     "text": [
      "[500]\n"
     ]
    }
   ],
   "source": [
    "T = 2\n",
    "Delta = 500\n",
    "m = np.array([Delta] * T)\n",
    "cp_truth = np.cumsum(m)[:T-1]\n",
    "print(cp_truth)\n",
    "\n",
    "n = 10"
   ]
  },
  {
   "cell_type": "code",
   "execution_count": null,
   "metadata": {
    "id": "xw3-EDWOADlx"
   },
   "outputs": [],
   "source": [
    "np.random.seed(0)\n",
    "\n",
    "nt = Delta * T\n",
    "B = 100\n",
    "beta_list = np.zeros((B, T, n))\n",
    "X_train_list = np.zeros((B, nt, n))\n",
    "X_test_list = np.zeros((B, nt, n))\n",
    "Y_train_list = np.zeros((B, nt))\n",
    "Y_test_list = np.zeros((B, nt))\n",
    "\n",
    "for b in range(B):\n",
    "    beta = get_beta_unif(T, n, p_up = 0.9)\n",
    "    beta_list[b] = copy.deepcopy(beta)\n",
    "    nt, Y_train, X_train = generate_data_bt(m, T, beta)\n",
    "    nt, Y_test, X_test = generate_data_bt(m, T, beta)\n",
    "    X_train_list[b] = X_train\n",
    "    Y_train_list[b] = Y_train\n",
    "    X_test_list[b] = X_test\n",
    "    Y_test_list[b] = Y_test"
   ]
  },
  {
   "cell_type": "code",
   "execution_count": null,
   "metadata": {
    "id": "zGAjEkPsADlx"
   },
   "outputs": [],
   "source": [
    "path = '/content/drive/MyDrive/CPD_BT/experiment_random/'\n",
    "with open(path + 'data_n' + str(n) + '_Delta' + str(Delta) + '_K' + str(T - 1) + '.npy', 'wb') as f:\n",
    "    np.save(f, beta_list)\n",
    "    np.save(f, X_train_list)\n",
    "    np.save(f, Y_train_list)\n",
    "    np.save(f, X_test_list)\n",
    "    np.save(f, Y_test_list)"
   ]
  },
  {
   "cell_type": "code",
   "execution_count": null,
   "metadata": {
    "id": "dPWQKzCYAESg"
   },
   "outputs": [],
   "source": []
  },
  {
   "cell_type": "code",
   "execution_count": null,
   "metadata": {
    "id": "THIrSadg9u5Q"
   },
   "outputs": [],
   "source": [
    "T = 4\n",
    "Delta = 500\n",
    "m = np.array([Delta] * T)\n",
    "cp_truth = np.cumsum(m)[:T-1]\n",
    "print(cp_truth)\n",
    "\n",
    "n = 10"
   ]
  },
  {
   "cell_type": "code",
   "execution_count": null,
   "metadata": {
    "id": "BzXVWGzLxR73"
   },
   "outputs": [],
   "source": [
    "np.random.seed(0)\n",
    "\n",
    "nt = Delta * T\n",
    "B = 100\n",
    "beta_list = np.zeros((B, T, n))\n",
    "X_train_list = np.zeros((B, nt, n))\n",
    "X_test_list = np.zeros((B, nt, n))\n",
    "Y_train_list = np.zeros((B, nt))\n",
    "Y_test_list = np.zeros((B, nt))\n",
    "\n",
    "for b in range(B):\n",
    "    beta = get_beta_unif(T, n, p_up = 0.9)\n",
    "    beta_list[b] = copy.deepcopy(beta)\n",
    "    nt, Y_train, X_train = generate_data_bt(m, T, beta)\n",
    "    nt, Y_test, X_test = generate_data_bt(m, T, beta)\n",
    "    X_train_list[b] = X_train\n",
    "    Y_train_list[b] = Y_train\n",
    "    X_test_list[b] = X_test\n",
    "    Y_test_list[b] = Y_test"
   ]
  },
  {
   "cell_type": "code",
   "execution_count": null,
   "metadata": {
    "id": "d4XfsNBhxR73"
   },
   "outputs": [],
   "source": [
    "path = '/content/drive/MyDrive/CPD_BT/experiment_random/'\n",
    "with open(path + 'data_n' + str(n) + '_Delta' + str(Delta) + '_K' + str(T - 1) + '.npy', 'wb') as f:\n",
    "    np.save(f, beta_list)\n",
    "    np.save(f, X_train_list)\n",
    "    np.save(f, Y_train_list)\n",
    "    np.save(f, X_test_list)\n",
    "    np.save(f, Y_test_list)"
   ]
  },
  {
   "cell_type": "code",
   "execution_count": null,
   "metadata": {
    "id": "Ejl-QXt00A6-"
   },
   "outputs": [],
   "source": []
  },
  {
   "cell_type": "code",
   "execution_count": null,
   "metadata": {
    "colab": {
     "base_uri": "https://localhost:8080/"
    },
    "id": "lVEsgCfi_4yJ",
    "outputId": "39c29344-d47b-46c5-b7a5-3d915dc36c18"
   },
   "outputs": [
    {
     "name": "stdout",
     "output_type": "stream",
     "text": [
      "[ 800 1600 2400]\n"
     ]
    }
   ],
   "source": [
    "T = 4\n",
    "Delta = 800\n",
    "m = np.array([Delta] * T)\n",
    "cp_truth = np.cumsum(m)[:T-1]\n",
    "print(cp_truth)\n",
    "\n",
    "n = 20"
   ]
  },
  {
   "cell_type": "code",
   "execution_count": null,
   "metadata": {
    "id": "RYvXQd-h_4yK"
   },
   "outputs": [],
   "source": [
    "np.random.seed(0)\n",
    "\n",
    "nt = Delta * T\n",
    "B = 100\n",
    "beta_list = np.zeros((B, T, n))\n",
    "X_train_list = np.zeros((B, nt, n))\n",
    "X_test_list = np.zeros((B, nt, n))\n",
    "Y_train_list = np.zeros((B, nt))\n",
    "Y_test_list = np.zeros((B, nt))\n",
    "\n",
    "for b in range(B):\n",
    "    beta = get_beta_unif(T, n, p_up = 0.9)\n",
    "    beta_list[b] = copy.deepcopy(beta)\n",
    "    nt, Y_train, X_train = generate_data_bt(m, T, beta)\n",
    "    nt, Y_test, X_test = generate_data_bt(m, T, beta)\n",
    "    X_train_list[b] = X_train\n",
    "    Y_train_list[b] = Y_train\n",
    "    X_test_list[b] = X_test\n",
    "    Y_test_list[b] = Y_test"
   ]
  },
  {
   "cell_type": "code",
   "execution_count": null,
   "metadata": {
    "id": "DEL1gbjb_4yK"
   },
   "outputs": [],
   "source": [
    "path = '/content/drive/MyDrive/CPD_BT/experiment_random/'\n",
    "with open(path + 'data_n' + str(n) + '_Delta' + str(Delta) + '_K' + str(T - 1) + '.npy', 'wb') as f:\n",
    "    np.save(f, beta_list)\n",
    "    np.save(f, X_train_list)\n",
    "    np.save(f, Y_train_list)\n",
    "    np.save(f, X_test_list)\n",
    "    np.save(f, Y_test_list)"
   ]
  },
  {
   "cell_type": "code",
   "execution_count": null,
   "metadata": {
    "id": "B89dPKcz-CUO"
   },
   "outputs": [],
   "source": []
  },
  {
   "cell_type": "code",
   "execution_count": null,
   "metadata": {
    "colab": {
     "base_uri": "https://localhost:8080/"
    },
    "id": "TFkQnv8fBoOI",
    "outputId": "b19f9a39-f4e1-429d-bb2d-903620b735a2"
   },
   "outputs": [
    {
     "name": "stdout",
     "output_type": "stream",
     "text": [
      "[2000 4000 6000]\n"
     ]
    }
   ],
   "source": [
    "T = 4\n",
    "Delta = 2000\n",
    "m = np.array([Delta] * T)\n",
    "cp_truth = np.cumsum(m)[:T-1]\n",
    "print(cp_truth)\n",
    "\n",
    "n = 100"
   ]
  },
  {
   "cell_type": "code",
   "execution_count": null,
   "metadata": {
    "id": "nzOleP2FBoOP"
   },
   "outputs": [],
   "source": [
    "np.random.seed(0)\n",
    "\n",
    "nt = Delta * T\n",
    "B = 100\n",
    "beta_list = np.zeros((B, T, n))\n",
    "X_train_list = np.zeros((B, nt, n))\n",
    "X_test_list = np.zeros((B, nt, n))\n",
    "Y_train_list = np.zeros((B, nt))\n",
    "Y_test_list = np.zeros((B, nt))\n",
    "\n",
    "for b in range(B):\n",
    "    beta = get_beta_unif(T, n, p_up = 0.9)\n",
    "    beta_list[b] = copy.deepcopy(beta)\n",
    "    nt, Y_train, X_train = generate_data_bt(m, T, beta)\n",
    "    nt, Y_test, X_test = generate_data_bt(m, T, beta)\n",
    "    X_train_list[b] = X_train\n",
    "    Y_train_list[b] = Y_train\n",
    "    X_test_list[b] = X_test\n",
    "    Y_test_list[b] = Y_test"
   ]
  },
  {
   "cell_type": "code",
   "execution_count": null,
   "metadata": {
    "id": "x8jE1Y3wBoOQ"
   },
   "outputs": [],
   "source": [
    "path = '/content/drive/MyDrive/CPD_BT/experiment_random/'\n",
    "with open(path + 'data_n' + str(n) + '_Delta' + str(Delta) + '_K' + str(T - 1) + '.npy', 'wb') as f:\n",
    "    np.save(f, beta_list)\n",
    "    np.save(f, X_train_list)\n",
    "    np.save(f, Y_train_list)\n",
    "    np.save(f, X_test_list)\n",
    "    np.save(f, Y_test_list)"
   ]
  },
  {
   "cell_type": "code",
   "execution_count": null,
   "metadata": {
    "id": "CATd1LMr0RW6"
   },
   "outputs": [],
   "source": []
  },
  {
   "cell_type": "code",
   "execution_count": null,
   "metadata": {
    "id": "nXT7QTBx7hYZ"
   },
   "outputs": [],
   "source": []
  },
  {
   "cell_type": "code",
   "execution_count": null,
   "metadata": {
    "colab": {
     "base_uri": "https://localhost:8080/"
    },
    "id": "Bx3l6i6X7g7I",
    "outputId": "98830443-ac4e-4863-c55e-9d67527e79b4"
   },
   "outputs": [
    {
     "name": "stdout",
     "output_type": "stream",
     "text": [
      "[1000 2000]\n"
     ]
    }
   ],
   "source": [
    "T = 3\n",
    "Delta = 1000\n",
    "m = np.array([Delta] * T)\n",
    "cp_truth = np.cumsum(m)[:T-1]\n",
    "print(cp_truth)\n",
    "\n",
    "n = 100"
   ]
  },
  {
   "cell_type": "code",
   "execution_count": null,
   "metadata": {
    "id": "OEHxNq5e7g7J"
   },
   "outputs": [],
   "source": [
    "np.random.seed(0)\n",
    "\n",
    "nt = Delta * T\n",
    "B = 100\n",
    "beta_list = np.zeros((B, T, n))\n",
    "X_train_list = np.zeros((B, nt, n))\n",
    "X_test_list = np.zeros((B, nt, n))\n",
    "Y_train_list = np.zeros((B, nt))\n",
    "Y_test_list = np.zeros((B, nt))\n",
    "\n",
    "for b in range(B):\n",
    "    beta = get_beta_unif(T, n, p_up = 0.9)\n",
    "    beta_list[b] = copy.deepcopy(beta)\n",
    "    nt, Y_train, X_train = generate_data_bt(m, T, beta)\n",
    "    nt, Y_test, X_test = generate_data_bt(m, T, beta)\n",
    "    X_train_list[b] = X_train\n",
    "    Y_train_list[b] = Y_train\n",
    "    X_test_list[b] = X_test\n",
    "    Y_test_list[b] = Y_test"
   ]
  },
  {
   "cell_type": "code",
   "execution_count": null,
   "metadata": {
    "id": "Bs5zTRSG7g7J"
   },
   "outputs": [],
   "source": [
    "path = '/content/drive/MyDrive/CPD_BT/experiment_random/'\n",
    "with open(path + 'data_n' + str(n) + '_Delta' + str(Delta) + '_K' + str(T - 1) + '.npy', 'wb') as f:\n",
    "    np.save(f, beta_list)\n",
    "    np.save(f, X_train_list)\n",
    "    np.save(f, Y_train_list)\n",
    "    np.save(f, X_test_list)\n",
    "    np.save(f, Y_test_list)"
   ]
  },
  {
   "cell_type": "code",
   "execution_count": null,
   "metadata": {
    "id": "f485ArwzcqCZ"
   },
   "outputs": [],
   "source": []
  },
  {
   "cell_type": "markdown",
   "metadata": {
    "id": "xPc74j0LcqpQ"
   },
   "source": [
    "# Change perturbation strength"
   ]
  },
  {
   "cell_type": "code",
   "execution_count": 1,
   "metadata": {
    "id": "XIsFc-aOc3AS"
   },
   "outputs": [],
   "source": [
    "def get_beta_ref_unif(n, p_up = 0.9):\n",
    "    t = p_up\n",
    "    kappa = np.log(t / (1 - t))\n",
    "    delta = 1\n",
    "    beta_ref = np.random.uniform(0, 1, n)\n",
    "    beta_ref -= np.mean(beta_ref)\n",
    "    beta_ref *= kappa / (np.max(beta_ref) - np.min(beta_ref))\n",
    "    return beta_ref\n",
    "\n",
    "def get_beta_unif(T, n, sub = 1, p_up = 0.9):\n",
    "    beta = np.zeros((T, n))\n",
    "\n",
    "    beta_ref = get_beta_ref_unif(n, p_up = p_up)\n",
    "    beta[0] = beta_ref[:]\n",
    "    sub_ix = int(n * sub)\n",
    "    for t in range(1, T):\n",
    "        beta[t] = beta[t - 1].copy()\n",
    "        beta[t][:sub_ix] = np.random.permutation(beta[t - 1][:sub_ix])\n",
    "\n",
    "    return beta"
   ]
  },
  {
   "cell_type": "code",
   "execution_count": 16,
   "metadata": {
    "colab": {
     "base_uri": "https://localhost:8080/"
    },
    "id": "lyuIYOeWc3AY",
    "outputId": "4b08001a-bfb7-4f70-abce-34a96a4edca2"
   },
   "outputs": [
    {
     "name": "stdout",
     "output_type": "stream",
     "text": [
      "[ 800 1600 2400]\n",
      "[4.70281419 4.09042321 4.11876473]\n"
     ]
    }
   ],
   "source": [
    "T = 4\n",
    "Delta = 800\n",
    "m = np.array([Delta] * T)\n",
    "cp_truth = np.cumsum(m)[:T-1]\n",
    "print(cp_truth)\n",
    "\n",
    "n = 20\n",
    "\n",
    "beta = get_beta_unif(T, n, sub = 1, p_up = 0.9)\n",
    "\n",
    "diff = np.zeros(T - 1)\n",
    "for t in range(1, T):\n",
    "    diff[t - 1] = np.sum(np.abs(beta[t] - beta[t - 1])**2)**0.5\n",
    "print(diff)"
   ]
  },
  {
   "cell_type": "code",
   "execution_count": 38,
   "metadata": {
    "colab": {
     "base_uri": "https://localhost:8080/"
    },
    "id": "NrHrLinRh3Ya",
    "outputId": "229eaa0b-acf2-4ed6-d9b1-ba346fa9a1d3"
   },
   "outputs": [
    {
     "name": "stdout",
     "output_type": "stream",
     "text": [
      "[ 800 1600 2400]\n",
      "[3.90919617 3.87523713 1.66047993]\n"
     ]
    }
   ],
   "source": [
    "T = 4\n",
    "Delta = 800\n",
    "m = np.array([Delta] * T)\n",
    "cp_truth = np.cumsum(m)[:T-1]\n",
    "print(cp_truth)\n",
    "\n",
    "n = 20\n",
    "\n",
    "beta = get_beta_unif(T, n, sub = 0.5, p_up = 0.9)\n",
    "\n",
    "diff = np.zeros(T - 1)\n",
    "for t in range(1, T):\n",
    "    diff[t - 1] = np.sum(np.abs(beta[t] - beta[t - 1])**2)**0.5\n",
    "print(diff)"
   ]
  },
  {
   "cell_type": "code",
   "execution_count": 24,
   "metadata": {
    "colab": {
     "base_uri": "https://localhost:8080/"
    },
    "id": "G3oYQLmBcuo7",
    "outputId": "c915a881-7363-483a-e42e-2cf112dc368d"
   },
   "outputs": [
    {
     "name": "stdout",
     "output_type": "stream",
     "text": [
      "[ 800 1600 2400]\n",
      "[1.8629678  2.7405066  2.75687961]\n"
     ]
    }
   ],
   "source": [
    "T = 4\n",
    "Delta = 800\n",
    "m = np.array([Delta] * T)\n",
    "cp_truth = np.cumsum(m)[:T-1]\n",
    "print(cp_truth)\n",
    "\n",
    "n = 20\n",
    "\n",
    "beta = get_beta_unif(T, n, sub = 0.25, p_up = 0.9)\n",
    "\n",
    "diff = np.zeros(T - 1)\n",
    "for t in range(1, T):\n",
    "    diff[t - 1] = np.sum(np.abs(beta[t] - beta[t - 1])**2)**0.5\n",
    "print(diff)"
   ]
  },
  {
   "cell_type": "code",
   "execution_count": 57,
   "metadata": {
    "colab": {
     "base_uri": "https://localhost:8080/"
    },
    "id": "GxsVXqITi59Y",
    "outputId": "dcd7f185-3cbf-40bd-c3e8-90fa5b8a3ffc"
   },
   "outputs": [
    {
     "name": "stdout",
     "output_type": "stream",
     "text": [
      "[ 800 1600 2400]\n"
     ]
    }
   ],
   "source": [
    "B = 100\n",
    "T = 4\n",
    "Delta = 800\n",
    "m = np.array([Delta] * T)\n",
    "cp_truth = np.cumsum(m)[:T-1]\n",
    "print(cp_truth)\n",
    "n = 20\n",
    "\n",
    "sub_list = [0.25, 0.5, 0.75, 1]\n",
    "diff_list = np.zeros((len(sub_list), B))\n",
    "for i in range(len(sub_list)):\n",
    "    sub = sub_list[i]\n",
    "    for b in range(B):\n",
    "        beta = get_beta_unif(T, n, sub = sub, p_up = 0.9)\n",
    "        record = []\n",
    "        for t in range(1, T):\n",
    "            record.append(np.sum(np.abs(beta[t] - beta[t - 1])**2))\n",
    "        diff_list[i, b] = min(record)"
   ]
  },
  {
   "cell_type": "code",
   "execution_count": 58,
   "metadata": {
    "colab": {
     "base_uri": "https://localhost:8080/",
     "height": 768
    },
    "id": "prwtZXN9jm6y",
    "outputId": "4765e78b-7f15-4f3d-ca3f-a6db236246b8"
   },
   "outputs": [
    {
     "data": {
      "text/plain": [
       "{'boxes': [<matplotlib.lines.Line2D at 0x7fb689559590>,\n",
       "  <matplotlib.lines.Line2D at 0x7fb689568b50>,\n",
       "  <matplotlib.lines.Line2D at 0x7fb68957e0d0>,\n",
       "  <matplotlib.lines.Line2D at 0x7fb689512690>],\n",
       " 'caps': [<matplotlib.lines.Line2D at 0x7fb6895605d0>,\n",
       "  <matplotlib.lines.Line2D at 0x7fb689560b10>,\n",
       "  <matplotlib.lines.Line2D at 0x7fb689570b50>,\n",
       "  <matplotlib.lines.Line2D at 0x7fb6895790d0>,\n",
       "  <matplotlib.lines.Line2D at 0x7fb68958a110>,\n",
       "  <matplotlib.lines.Line2D at 0x7fb68958a690>,\n",
       "  <matplotlib.lines.Line2D at 0x7fb68951b690>,\n",
       "  <matplotlib.lines.Line2D at 0x7fb68951bbd0>],\n",
       " 'fliers': [<matplotlib.lines.Line2D at 0x7fb689568610>,\n",
       "  <matplotlib.lines.Line2D at 0x7fb689579b50>,\n",
       "  <matplotlib.lines.Line2D at 0x7fb689512150>,\n",
       "  <matplotlib.lines.Line2D at 0x7fb689522690>],\n",
       " 'means': [],\n",
       " 'medians': [<matplotlib.lines.Line2D at 0x7fb6895680d0>,\n",
       "  <matplotlib.lines.Line2D at 0x7fb689579610>,\n",
       "  <matplotlib.lines.Line2D at 0x7fb68958abd0>,\n",
       "  <matplotlib.lines.Line2D at 0x7fb689522150>],\n",
       " 'whiskers': [<matplotlib.lines.Line2D at 0x7fb689559b10>,\n",
       "  <matplotlib.lines.Line2D at 0x7fb689560090>,\n",
       "  <matplotlib.lines.Line2D at 0x7fb689570110>,\n",
       "  <matplotlib.lines.Line2D at 0x7fb689570610>,\n",
       "  <matplotlib.lines.Line2D at 0x7fb68957e610>,\n",
       "  <matplotlib.lines.Line2D at 0x7fb68957eb90>,\n",
       "  <matplotlib.lines.Line2D at 0x7fb689512bd0>,\n",
       "  <matplotlib.lines.Line2D at 0x7fb68951b150>]}"
      ]
     },
     "execution_count": 58,
     "metadata": {},
     "output_type": "execute_result"
    },
    {
     "data": {
      "image/png": "[encoded data removed]",
      "text/plain": [
       "<Figure size 432x288 with 1 Axes>"
      ]
     },
     "metadata": {
      "needs_background": "light"
     },
     "output_type": "display_data"
    }
   ],
   "source": [
    "plt.boxplot([diff_list[i] for i in range(len(sub_list))])"
   ]
  },
  {
   "cell_type": "code",
   "execution_count": null,
   "metadata": {
    "id": "LGxWUX2BiIVC"
   },
   "outputs": [],
   "source": []
  },
  {
   "cell_type": "code",
   "execution_count": 63,
   "metadata": {
    "colab": {
     "base_uri": "https://localhost:8080/"
    },
    "id": "osHuQg4dcxVk",
    "outputId": "9282b78f-a1ea-4b7b-b42e-92ea37fb1961"
   },
   "outputs": [
    {
     "name": "stdout",
     "output_type": "stream",
     "text": [
      "[ 800 1600 2400]\n"
     ]
    }
   ],
   "source": [
    "T = 4\n",
    "Delta = 800\n",
    "m = np.array([Delta] * T)\n",
    "cp_truth = np.cumsum(m)[:T-1]\n",
    "print(cp_truth)\n",
    "\n",
    "n = 20\n",
    "\n",
    "sub = 0.25\n",
    "\n",
    "np.random.seed(0)\n",
    "\n",
    "nt = Delta * T\n",
    "B = 100\n",
    "beta_list = np.zeros((B, T, n))\n",
    "X_train_list = np.zeros((B, nt, n))\n",
    "X_test_list = np.zeros((B, nt, n))\n",
    "Y_train_list = np.zeros((B, nt))\n",
    "Y_test_list = np.zeros((B, nt))\n",
    "\n",
    "for b in range(B):\n",
    "    beta = get_beta_unif(T, n, sub = sub, p_up = 0.9)\n",
    "    beta_list[b] = copy.deepcopy(beta)\n",
    "    nt, Y_train, X_train = generate_data_bt(m, T, beta)\n",
    "    nt, Y_test, X_test = generate_data_bt(m, T, beta)\n",
    "    X_train_list[b] = X_train\n",
    "    Y_train_list[b] = Y_train\n",
    "    X_test_list[b] = X_test\n",
    "    Y_test_list[b] = Y_test\n",
    "\n",
    "path = '/content/drive/MyDrive/CPD_BT/experiment_random/'\n",
    "with open(path + 'data_n' + str(n) + '_Delta' + str(Delta) + '_K' + str(T - 1) + '_sub' + str(int(100 * sub)) + '.npy', 'wb') as f:\n",
    "    np.save(f, beta_list)\n",
    "    np.save(f, X_train_list)\n",
    "    np.save(f, Y_train_list)\n",
    "    np.save(f, X_test_list)\n",
    "    np.save(f, Y_test_list)"
   ]
  },
  {
   "cell_type": "code",
   "execution_count": 64,
   "metadata": {
    "colab": {
     "base_uri": "https://localhost:8080/"
    },
    "id": "bL-gXLDCl0OY",
    "outputId": "0891e6e8-733b-4ee8-a5e5-f7bde5e7520d"
   },
   "outputs": [
    {
     "name": "stdout",
     "output_type": "stream",
     "text": [
      "[ 800 1600 2400]\n"
     ]
    }
   ],
   "source": [
    "T = 4\n",
    "Delta = 800\n",
    "m = np.array([Delta] * T)\n",
    "cp_truth = np.cumsum(m)[:T-1]\n",
    "print(cp_truth)\n",
    "\n",
    "n = 20\n",
    "\n",
    "sub = 0.5\n",
    "\n",
    "np.random.seed(0)\n",
    "\n",
    "nt = Delta * T\n",
    "B = 100\n",
    "beta_list = np.zeros((B, T, n))\n",
    "X_train_list = np.zeros((B, nt, n))\n",
    "X_test_list = np.zeros((B, nt, n))\n",
    "Y_train_list = np.zeros((B, nt))\n",
    "Y_test_list = np.zeros((B, nt))\n",
    "\n",
    "for b in range(B):\n",
    "    beta = get_beta_unif(T, n, sub = sub, p_up = 0.9)\n",
    "    beta_list[b] = copy.deepcopy(beta)\n",
    "    nt, Y_train, X_train = generate_data_bt(m, T, beta)\n",
    "    nt, Y_test, X_test = generate_data_bt(m, T, beta)\n",
    "    X_train_list[b] = X_train\n",
    "    Y_train_list[b] = Y_train\n",
    "    X_test_list[b] = X_test\n",
    "    Y_test_list[b] = Y_test\n",
    "\n",
    "path = '/content/drive/MyDrive/CPD_BT/experiment_random/'\n",
    "with open(path + 'data_n' + str(n) + '_Delta' + str(Delta) + '_K' + str(T - 1) + '_sub' + str(int(100 * sub)) + '.npy', 'wb') as f:\n",
    "    np.save(f, beta_list)\n",
    "    np.save(f, X_train_list)\n",
    "    np.save(f, Y_train_list)\n",
    "    np.save(f, X_test_list)\n",
    "    np.save(f, Y_test_list)"
   ]
  },
  {
   "cell_type": "code",
   "execution_count": 65,
   "metadata": {
    "colab": {
     "base_uri": "https://localhost:8080/"
    },
    "id": "7mPv8lUUl0OY",
    "outputId": "d006c7b2-6719-45f6-e371-165d0c034429"
   },
   "outputs": [
    {
     "name": "stdout",
     "output_type": "stream",
     "text": [
      "[ 800 1600 2400]\n"
     ]
    }
   ],
   "source": [
    "T = 4\n",
    "Delta = 800\n",
    "m = np.array([Delta] * T)\n",
    "cp_truth = np.cumsum(m)[:T-1]\n",
    "print(cp_truth)\n",
    "\n",
    "n = 20\n",
    "\n",
    "sub = 0.75\n",
    "\n",
    "np.random.seed(0)\n",
    "\n",
    "nt = Delta * T\n",
    "B = 100\n",
    "beta_list = np.zeros((B, T, n))\n",
    "X_train_list = np.zeros((B, nt, n))\n",
    "X_test_list = np.zeros((B, nt, n))\n",
    "Y_train_list = np.zeros((B, nt))\n",
    "Y_test_list = np.zeros((B, nt))\n",
    "\n",
    "for b in range(B):\n",
    "    beta = get_beta_unif(T, n, sub = sub, p_up = 0.9)\n",
    "    beta_list[b] = copy.deepcopy(beta)\n",
    "    nt, Y_train, X_train = generate_data_bt(m, T, beta)\n",
    "    nt, Y_test, X_test = generate_data_bt(m, T, beta)\n",
    "    X_train_list[b] = X_train\n",
    "    Y_train_list[b] = Y_train\n",
    "    X_test_list[b] = X_test\n",
    "    Y_test_list[b] = Y_test\n",
    "\n",
    "path = '/content/drive/MyDrive/CPD_BT/experiment_random/'\n",
    "with open(path + 'data_n' + str(n) + '_Delta' + str(Delta) + '_K' + str(T - 1) + '_sub' + str(int(100 * sub)) + '.npy', 'wb') as f:\n",
    "    np.save(f, beta_list)\n",
    "    np.save(f, X_train_list)\n",
    "    np.save(f, Y_train_list)\n",
    "    np.save(f, X_test_list)\n",
    "    np.save(f, Y_test_list)"
   ]
  }
 ],
 "metadata": {
  "colab": {
   "collapsed_sections": [],
   "name": "data_generation.ipynb",
   "provenance": []
  },
  "kernelspec": {
   "display_name": "Python 3",
   "language": "python",
   "name": "python3"
  },
  "language_info": {
   "codemirror_mode": {
    "name": "ipython",
    "version": 3
   },
   "file_extension": ".py",
   "mimetype": "text/x-python",
   "name": "python",
   "nbconvert_exporter": "python",
   "pygments_lexer": "ipython3",
   "version": "3.7.4"
  }
 },
 "nbformat": 4,
 "nbformat_minor": 1
}
