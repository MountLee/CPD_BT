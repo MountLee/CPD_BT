{
 "cells": [
  {
   "cell_type": "code",
   "execution_count": 1,
   "metadata": {
    "colab": {
     "base_uri": "https://localhost:8080/"
    },
    "id": "im-zBYvoLM2x",
    "outputId": "99873951-43fc-48e9-8dc5-4ed9ec02e651"
   },
   "outputs": [
    {
     "name": "stdout",
     "output_type": "stream",
     "text": [
      "Mounted at /content/drive\n"
     ]
    }
   ],
   "source": [
    "from google.colab import drive\n",
    "drive.mount('/content/drive')"
   ]
  },
  {
   "cell_type": "code",
   "execution_count": 2,
   "metadata": {
    "id": "yADnUZVCNYL0"
   },
   "outputs": [],
   "source": [
    "import os, sys\n",
    "sys.path.append('/content/drive/MyDrive/CPD_BT')"
   ]
  },
  {
   "cell_type": "code",
   "execution_count": 3,
   "metadata": {
    "colab": {
     "base_uri": "https://localhost:8080/"
    },
    "id": "uIKHDjhONeFr",
    "outputId": "75131ca9-ec6d-4a4f-b7d5-318131ca34c4"
   },
   "outputs": [
    {
     "name": "stderr",
     "output_type": "stream",
     "text": [
      "/usr/local/lib/python3.7/dist-packages/statsmodels/tools/_testing.py:19: FutureWarning: pandas.util.testing is deprecated. Use the functions in the public API at pandas.testing instead.\n",
      "  import pandas.util.testing as tm\n"
     ]
    }
   ],
   "source": [
    "import numpy as np\n",
    "import matplotlib.pyplot as plt\n",
    "import scipy.stats as stats\n",
    "import random\n",
    "\n",
    "import itertools\n",
    "\n",
    "from bt_cpd import *\n",
    "\n",
    "import time\n",
    "import bisect\n",
    "\n",
    "import pandas as pd\n",
    "\n",
    "import statsmodels.api as sm\n",
    "from sklearn import linear_model\n",
    "\n",
    "from warnings import simplefilter\n",
    "from sklearn.exceptions import ConvergenceWarning\n",
    "simplefilter(\"ignore\", category=ConvergenceWarning)"
   ]
  },
  {
   "cell_type": "code",
   "execution_count": 5,
   "metadata": {
    "colab": {
     "base_uri": "https://localhost:8080/"
    },
    "id": "Ns9hvspTPlgL",
    "outputId": "b89e9c7f-dac3-4edf-9df2-3d10faf093ca"
   },
   "outputs": [
    {
     "name": "stdout",
     "output_type": "stream",
     "text": [
      "[1000 2000]\n"
     ]
    }
   ],
   "source": [
    "T = 3\n",
    "Delta = 1000\n",
    "m = np.array([Delta] * T)\n",
    "cp_truth = np.cumsum(m)[:T-1]\n",
    "print(cp_truth)\n",
    "\n",
    "n = 100"
   ]
  },
  {
   "cell_type": "code",
   "execution_count": 6,
   "metadata": {
    "id": "hfhGQb_ifULO"
   },
   "outputs": [],
   "source": [
    "path = '/content/drive/MyDrive/CPD_BT/experiment_random/'\n",
    "with open(path + 'data_n' + str(n) + '_Delta' + str(Delta) + '_K' + str(T - 1) + '.npy', 'rb') as f:\n",
    "    beta_list = np.load(f)\n",
    "    X_train_list = np.load(f)\n",
    "    Y_train_list = np.load(f)\n",
    "    X_test_list = np.load(f)\n",
    "    Y_test_list = np.load(f)"
   ]
  },
  {
   "cell_type": "code",
   "execution_count": 7,
   "metadata": {
    "colab": {
     "base_uri": "https://localhost:8080/"
    },
    "id": "Xqvln61AntMT",
    "outputId": "908c679f-c2ef-495e-c4d9-8187d1cc40c9"
   },
   "outputs": [
    {
     "data": {
      "text/plain": [
       "(100, 3000, 100)"
      ]
     },
     "execution_count": 7,
     "metadata": {},
     "output_type": "execute_result"
    }
   ],
   "source": [
    "X_train_list.shape"
   ]
  },
  {
   "cell_type": "code",
   "execution_count": 8,
   "metadata": {
    "colab": {
     "base_uri": "https://localhost:8080/"
    },
    "id": "Qmel4DHRxLGT",
    "outputId": "67583d83-8d0f-4e80-b95c-9c6fa41e5e25"
   },
   "outputs": [
    {
     "name": "stdout",
     "output_type": "stream",
     "text": [
      "0\n",
      "1\n",
      "2\n",
      "3\n",
      "4\n",
      "5\n",
      "6\n",
      "7\n",
      "8\n",
      "9\n",
      "10\n",
      "11\n",
      "12\n",
      "13\n",
      "14\n",
      "15\n",
      "16\n",
      "17\n",
      "18\n",
      "19\n",
      "20\n",
      "21\n",
      "22\n",
      "23\n",
      "24\n",
      "25\n",
      "26\n",
      "27\n",
      "28\n",
      "29\n",
      "30\n",
      "31\n",
      "32\n",
      "33\n",
      "34\n",
      "35\n",
      "36\n",
      "37\n",
      "38\n",
      "39\n",
      "40\n",
      "41\n",
      "42\n",
      "43\n",
      "44\n",
      "45\n",
      "46\n",
      "47\n",
      "48\n",
      "49\n",
      "50\n",
      "51\n",
      "52\n",
      "53\n",
      "54\n",
      "55\n",
      "56\n",
      "57\n",
      "58\n",
      "59\n",
      "60\n",
      "61\n",
      "62\n",
      "63\n",
      "64\n",
      "65\n",
      "66\n",
      "67\n",
      "68\n",
      "69\n",
      "70\n",
      "71\n",
      "72\n",
      "73\n",
      "74\n",
      "75\n",
      "76\n",
      "77\n",
      "78\n",
      "79\n",
      "80\n",
      "81\n",
      "82\n",
      "83\n",
      "84\n",
      "85\n",
      "86\n",
      "87\n",
      "88\n",
      "89\n",
      "90\n",
      "91\n",
      "92\n",
      "93\n",
      "94\n",
      "95\n",
      "96\n",
      "97\n",
      "98\n",
      "99\n",
      "---------- dplr -----------\n",
      "avg loc error: 43.14, avg time: 196.87909180164337\n",
      "std loc error: 103.41750528803139, std time: 3.9317430326421494\n",
      "K < K*: 1, K = K*: 99, K > K*: 0\n"
     ]
    }
   ],
   "source": [
    "np.random.seed(0)\n",
    "\n",
    "grid_n = 100\n",
    "gamma_list = [80, 100]\n",
    "lam_list = [0.1]\n",
    "\n",
    "nt = Delta * T\n",
    "B = 100\n",
    "\n",
    "run_time_d = np.zeros(B)\n",
    "loc_error_d = np.zeros(B)\n",
    "K_d = np.zeros(B)\n",
    "\n",
    "cp_best_list = []\n",
    "param_best_list = []\n",
    "cp_best_cand_list = []\n",
    "\n",
    "for b in range(B):\n",
    "    X_train = X_train_list[b]\n",
    "    Y_train = Y_train_list[b]\n",
    "    X_test = X_test_list[b]\n",
    "    Y_test = Y_test_list[b]\n",
    "\n",
    "    start_time = time.time()\n",
    "    dp_fit = dplr_cv_bt(grid_n, lam_list, gamma_list)\n",
    "    cp_best, param_best, cp_best_cand = dp_fit.fit((Y_train, X_train), (Y_test, X_test))    \n",
    "    run_time_d[b] = time.time() - start_time\n",
    "    loc_error_d[b] = cp_distance(cp_best, cp_truth)\n",
    "    K_d[b] = len(cp_best)\n",
    "\n",
    "    cp_best_list.append(cp_best)\n",
    "    param_best_list.append(param_best)\n",
    "    cp_best_cand_list.append(cp_best_cand)\n",
    "    print(b)\n",
    "\n",
    "\n",
    "print('---------- dplr -----------')\n",
    "print(\"avg loc error: {0}, avg time: {1}\".format(loc_error_d.mean(), run_time_d.mean()))\n",
    "print(\"std loc error: {0}, std time: {1}\".format(loc_error_d.std(), run_time_d.std()))\n",
    "print('K < K*: {0}, K = K*: {1}, K > K*: {2}'.format(sum(K_d < T - 1), sum(K_d == T - 1), sum(K_d > T - 1)))"
   ]
  },
  {
   "cell_type": "code",
   "execution_count": 9,
   "metadata": {
    "colab": {
     "base_uri": "https://localhost:8080/"
    },
    "id": "Qe8Pn9foJDJQ",
    "outputId": "edd65154-373f-483a-a08c-69e9e9a374cf"
   },
   "outputs": [
    {
     "data": {
      "text/plain": [
       "array([7.200e+01, 1.200e+01, 1.000e+00, 7.800e+01, 3.700e+01, 3.100e+01,\n",
       "       3.000e+00, 1.800e+01, 7.000e+00, 4.700e+01, 1.800e+01, 3.900e+01,\n",
       "       3.600e+01, 4.500e+01, 2.700e+01, 3.000e+00, 3.000e+01, 7.000e+00,\n",
       "       6.000e+00, 9.000e+00, 6.200e+01, 2.100e+01, 7.000e+00, 1.000e+00,\n",
       "       3.000e+01, 5.000e+00, 1.900e+01, 2.000e+00, 9.000e+00, 2.000e+01,\n",
       "       3.000e+00, 2.390e+02, 3.300e+01, 2.300e+01, 6.500e+01, 9.000e+00,\n",
       "       1.400e+01, 5.000e+01, 8.000e+00, 2.300e+01, 5.200e+01, 8.100e+01,\n",
       "       3.300e+01, 5.400e+01, 5.200e+01, 1.000e+01, 1.000e+00, 8.000e+00,\n",
       "       1.100e+01, 4.500e+01, 1.100e+01, 1.800e+01, 2.400e+01, 1.400e+01,\n",
       "       7.900e+01, 1.002e+03, 6.000e+00, 4.000e+01, 5.000e+00, 1.300e+01,\n",
       "       9.900e+01, 2.100e+01, 2.900e+01, 8.000e+00, 5.500e+01, 7.000e+01,\n",
       "       8.200e+01, 3.900e+01, 1.050e+02, 2.700e+01, 6.000e+00, 1.500e+01,\n",
       "       1.800e+01, 4.000e+01, 1.290e+02, 2.500e+01, 3.300e+01, 1.400e+01,\n",
       "       1.500e+01, 7.400e+01, 0.000e+00, 1.300e+01, 4.100e+01, 1.000e+01,\n",
       "       8.700e+01, 1.480e+02, 4.000e+00, 1.400e+01, 2.500e+01, 7.500e+01,\n",
       "       2.000e+00, 4.500e+01, 9.000e+00, 2.300e+01, 1.480e+02, 6.000e+00,\n",
       "       9.000e+00, 3.000e+00, 1.400e+01, 6.000e+00])"
      ]
     },
     "execution_count": 9,
     "metadata": {},
     "output_type": "execute_result"
    }
   ],
   "source": [
    "loc_error_d"
   ]
  },
  {
   "cell_type": "code",
   "execution_count": 11,
   "metadata": {
    "colab": {
     "base_uri": "https://localhost:8080/"
    },
    "id": "Kyi5K_w8JBWt",
    "outputId": "aeefc66b-6b3c-4726-c29f-da730464b5f4"
   },
   "outputs": [
    {
     "data": {
      "text/plain": [
       "[[928, 1980],\n",
       " [988, 2000],\n",
       " [1000, 1999],\n",
       " [965, 2078],\n",
       " [1037, 2003],\n",
       " [969, 2013],\n",
       " [1003, 1999],\n",
       " [982, 2000],\n",
       " [1007, 2006],\n",
       " [985, 2047],\n",
       " [982, 2001],\n",
       " [1039, 2000],\n",
       " [1036, 2001],\n",
       " [984, 2045],\n",
       " [973, 1996],\n",
       " [997, 2003],\n",
       " [1030, 2003],\n",
       " [993, 2003],\n",
       " [1004, 1994],\n",
       " [991, 2001],\n",
       " [1033, 1938],\n",
       " [1021, 1997],\n",
       " [1000, 1993],\n",
       " [1001, 2000],\n",
       " [1005, 1970],\n",
       " [995, 2000],\n",
       " [1002, 1981],\n",
       " [1002, 2000],\n",
       " [1009, 1996],\n",
       " [985, 2020],\n",
       " [999, 2003],\n",
       " [1239, 1988],\n",
       " [1000, 2033],\n",
       " [1006, 1977],\n",
       " [935, 2003],\n",
       " [1004, 1991],\n",
       " [1003, 1986],\n",
       " [1050, 2000],\n",
       " [999, 2008],\n",
       " [977, 1999],\n",
       " [1030, 2052],\n",
       " [1081, 1997],\n",
       " [1033, 1991],\n",
       " [1004, 1946],\n",
       " [990, 1948],\n",
       " [996, 1990],\n",
       " [1001, 2000],\n",
       " [1001, 1992],\n",
       " [989, 2007],\n",
       " [1045, 2000],\n",
       " [1010, 2011],\n",
       " [1005, 2018],\n",
       " [1000, 1976],\n",
       " [997, 2014],\n",
       " [921, 2024],\n",
       " [2002],\n",
       " [994, 2005],\n",
       " [1003, 1960],\n",
       " [1005, 1997],\n",
       " [1000, 2013],\n",
       " [1007, 2099],\n",
       " [1016, 2021],\n",
       " [1005, 1971],\n",
       " [1003, 2008],\n",
       " [992, 1945],\n",
       " [1070, 2000],\n",
       " [1058, 1918],\n",
       " [961, 1996],\n",
       " [994, 1895],\n",
       " [990, 2027],\n",
       " [1006, 2006],\n",
       " [1015, 1992],\n",
       " [982, 2001],\n",
       " [1040, 2000],\n",
       " [1002, 1871],\n",
       " [986, 2025],\n",
       " [1012, 2033],\n",
       " [995, 2014],\n",
       " [1000, 1985],\n",
       " [1074, 1984],\n",
       " [1000, 2000],\n",
       " [1013, 2000],\n",
       " [989, 1959],\n",
       " [1010, 1993],\n",
       " [1087, 1997],\n",
       " [995, 1852],\n",
       " [999, 2004],\n",
       " [993, 2014],\n",
       " [975, 2004],\n",
       " [1075, 2013],\n",
       " [1002, 2001],\n",
       " [1045, 1997],\n",
       " [1001, 1991],\n",
       " [998, 2023],\n",
       " [1003, 1852],\n",
       " [1004, 1994],\n",
       " [998, 2009],\n",
       " [999, 1997],\n",
       " [1005, 2014],\n",
       " [994, 2000]]"
      ]
     },
     "execution_count": 11,
     "metadata": {},
     "output_type": "execute_result"
    }
   ],
   "source": [
    "cp_best_list"
   ]
  },
  {
   "cell_type": "code",
   "execution_count": 12,
   "metadata": {
    "colab": {
     "base_uri": "https://localhost:8080/"
    },
    "id": "0GVWff9GJDWw",
    "outputId": "325821c0-836f-4049-dbfd-dab7dc5b3dec"
   },
   "outputs": [
    {
     "data": {
      "text/plain": [
       "[array([ 930, 1980]),\n",
       " array([ 990, 2010]),\n",
       " array([1020, 2010]),\n",
       " array([1020, 2010]),\n",
       " array([ 990, 1980]),\n",
       " array([ 990, 2040]),\n",
       " array([ 990, 2010]),\n",
       " array([ 990, 2010]),\n",
       " array([ 990, 1980]),\n",
       " array([ 990, 2010]),\n",
       " array([ 960, 1980]),\n",
       " array([1020, 2010]),\n",
       " array([1020, 2040]),\n",
       " array([ 990, 2010]),\n",
       " array([ 990, 2010]),\n",
       " array([ 990, 2010]),\n",
       " array([1020, 2010]),\n",
       " array([ 990, 2010]),\n",
       " array([1020, 2010]),\n",
       " array([ 990, 2010]),\n",
       " array([1020, 1950]),\n",
       " array([1020, 2010]),\n",
       " array([ 990, 1980]),\n",
       " array([ 990, 2040]),\n",
       " array([ 990, 1980]),\n",
       " array([ 990, 2010]),\n",
       " array([ 990, 1980]),\n",
       " array([1020, 2010]),\n",
       " array([ 990, 1980]),\n",
       " array([ 990, 2040]),\n",
       " array([ 990, 2010]),\n",
       " array([ 990, 2040]),\n",
       " array([1020, 2040]),\n",
       " array([1020, 1980]),\n",
       " array([ 930, 2010]),\n",
       " array([ 990, 2010]),\n",
       " array([ 720, 2010]),\n",
       " array([1050, 1980]),\n",
       " array([1020, 2010]),\n",
       " array([ 990, 1980]),\n",
       " array([ 990, 2010]),\n",
       " array([1080, 2040]),\n",
       " array([ 990, 2010]),\n",
       " array([ 990, 1950]),\n",
       " array([ 990, 1950]),\n",
       " array([ 990, 1980]),\n",
       " array([1020, 2010]),\n",
       " array([ 990, 1980]),\n",
       " array([ 990, 2010]),\n",
       " array([1050, 2010]),\n",
       " array([1020, 2010]),\n",
       " array([ 960, 2040]),\n",
       " array([ 990, 1980]),\n",
       " array([1050, 2010]),\n",
       " array([ 990, 2010]),\n",
       " array([2010]),\n",
       " array([ 990, 2010]),\n",
       " array([ 990, 2010]),\n",
       " array([ 990, 2010]),\n",
       " array([1020, 2010]),\n",
       " array([1020, 2010]),\n",
       " array([1020, 2010]),\n",
       " array([ 990, 1980]),\n",
       " array([1020, 2010]),\n",
       " array([ 990, 2130]),\n",
       " array([ 990, 2250]),\n",
       " array([ 990, 1920]),\n",
       " array([ 960, 2010]),\n",
       " array([ 990, 1980]),\n",
       " array([ 990, 2010]),\n",
       " array([ 990, 2010]),\n",
       " array([1020, 1980]),\n",
       " array([ 960, 1980]),\n",
       " array([1020, 2010]),\n",
       " array([ 990, 1860]),\n",
       " array([ 990, 1980]),\n",
       " array([1020, 2010]),\n",
       " array([ 990, 2040]),\n",
       " array([1050, 1950]),\n",
       " array([1050, 1980]),\n",
       " array([1020, 2010]),\n",
       " array([1020, 2010]),\n",
       " array([ 990, 1950]),\n",
       " array([1020, 1950]),\n",
       " array([1080, 2010]),\n",
       " array([ 990, 1860]),\n",
       " array([1020, 2010]),\n",
       " array([ 990, 2010]),\n",
       " array([ 960, 2010]),\n",
       " array([1050, 2010]),\n",
       " array([ 960, 2010]),\n",
       " array([1050, 1980]),\n",
       " array([1020, 1980]),\n",
       " array([ 990, 2010]),\n",
       " array([1020, 2010]),\n",
       " array([ 990, 2010]),\n",
       " array([ 990, 2010]),\n",
       " array([ 990, 2010]),\n",
       " array([1050, 2010]),\n",
       " array([ 990, 2010])]"
      ]
     },
     "execution_count": 12,
     "metadata": {},
     "output_type": "execute_result"
    }
   ],
   "source": [
    "cp_best_cand_list"
   ]
  },
  {
   "cell_type": "code",
   "execution_count": 10,
   "metadata": {
    "id": "JUnKEsc4vGd0"
   },
   "outputs": [],
   "source": [
    "import pickle\n",
    "with open(path + 'dplr_n' + str(n) + '_Delta' + str(Delta) + '_K' + str(T - 1) + '_grid' + str(grid_n) + '.pickle', 'wb') as f:\n",
    "    pickle.dump([cp_best_list, param_best_list, cp_best_cand_list, loc_error_d, run_time_d, K_d], f)"
   ]
  },
  {
   "cell_type": "code",
   "execution_count": null,
   "metadata": {
    "id": "ZYnLxRuSyBwY"
   },
   "outputs": [],
   "source": []
  }
 ],
 "metadata": {
  "colab": {
   "collapsed_sections": [],
   "name": "DPLR_n100_Delta1000_K2.ipynb",
   "provenance": [],
   "toc_visible": true
  },
  "kernelspec": {
   "display_name": "Python 3",
   "language": "python",
   "name": "python3"
  },
  "language_info": {
   "codemirror_mode": {
    "name": "ipython",
    "version": 3
   },
   "file_extension": ".py",
   "mimetype": "text/x-python",
   "name": "python",
   "nbconvert_exporter": "python",
   "pygments_lexer": "ipython3",
   "version": "3.7.4"
  }
 },
 "nbformat": 4,
 "nbformat_minor": 1
}
