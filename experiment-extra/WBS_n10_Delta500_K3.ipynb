{
 "cells": [
  {
   "cell_type": "code",
   "execution_count": 1,
   "metadata": {
    "colab": {
     "base_uri": "https://localhost:8080/"
    },
    "id": "im-zBYvoLM2x",
    "outputId": "54b1b02a-bc0c-4ed6-a297-0adb522f495d"
   },
   "outputs": [
    {
     "name": "stdout",
     "output_type": "stream",
     "text": [
      "Drive already mounted at /content/drive; to attempt to forcibly remount, call drive.mount(\"/content/drive\", force_remount=True).\n"
     ]
    }
   ],
   "source": [
    "from google.colab import drive\n",
    "drive.mount('/content/drive')"
   ]
  },
  {
   "cell_type": "code",
   "execution_count": 2,
   "metadata": {
    "id": "yADnUZVCNYL0"
   },
   "outputs": [],
   "source": [
    "import os, sys\n",
    "sys.path.append('/content/drive/MyDrive/CPD_BT')"
   ]
  },
  {
   "cell_type": "code",
   "execution_count": 3,
   "metadata": {
    "colab": {
     "base_uri": "https://localhost:8080/"
    },
    "id": "uIKHDjhONeFr",
    "outputId": "1f0c65f5-5515-4b62-e215-f5cbea03f7ca"
   },
   "outputs": [
    {
     "name": "stderr",
     "output_type": "stream",
     "text": [
      "/usr/local/lib/python3.7/dist-packages/statsmodels/tools/_testing.py:19: FutureWarning: pandas.util.testing is deprecated. Use the functions in the public API at pandas.testing instead.\n",
      "  import pandas.util.testing as tm\n"
     ]
    }
   ],
   "source": [
    "import numpy as np\n",
    "import matplotlib.pyplot as plt\n",
    "import scipy.stats as stats\n",
    "import random\n",
    "\n",
    "import itertools\n",
    "\n",
    "from bt_cpd import *\n",
    "\n",
    "import time\n",
    "import bisect\n",
    "\n",
    "import pandas as pd\n",
    "\n",
    "import statsmodels.api as sm\n",
    "from sklearn import linear_model\n",
    "\n",
    "from warnings import simplefilter\n",
    "from sklearn.exceptions import ConvergenceWarning\n",
    "simplefilter(\"ignore\", category=ConvergenceWarning)"
   ]
  },
  {
   "cell_type": "code",
   "execution_count": 4,
   "metadata": {
    "colab": {
     "base_uri": "https://localhost:8080/"
    },
    "id": "Ns9hvspTPlgL",
    "outputId": "da8ebd2b-e1e6-4377-8ed7-7b0ec29ddafb"
   },
   "outputs": [
    {
     "name": "stdout",
     "output_type": "stream",
     "text": [
      "[ 500 1000 1500]\n"
     ]
    }
   ],
   "source": [
    "T = 4\n",
    "Delta = 500\n",
    "m = np.array([Delta] * T)\n",
    "cp_truth = np.cumsum(m)[:T-1]\n",
    "print(cp_truth)\n",
    "\n",
    "n = 10"
   ]
  },
  {
   "cell_type": "code",
   "execution_count": 5,
   "metadata": {
    "id": "hfhGQb_ifULO"
   },
   "outputs": [],
   "source": [
    "path = '/content/drive/MyDrive/CPD_BT/experiment_random/'\n",
    "with open(path + 'data_n' + str(n) + '_Delta' + str(Delta) + '_K' + str(T - 1) + '.npy', 'rb') as f:\n",
    "    beta_list = np.load(f)\n",
    "    X_train_list = np.load(f)\n",
    "    Y_train_list = np.load(f)\n",
    "    X_test_list = np.load(f)\n",
    "    Y_test_list = np.load(f)"
   ]
  },
  {
   "cell_type": "code",
   "execution_count": 6,
   "metadata": {
    "colab": {
     "base_uri": "https://localhost:8080/"
    },
    "id": "dNqKBzsPJtyC",
    "outputId": "ba3553d5-7eb7-44be-c442-a3dd0f519757"
   },
   "outputs": [
    {
     "data": {
      "text/plain": [
       "(100, 2000, 10)"
      ]
     },
     "execution_count": 6,
     "metadata": {},
     "output_type": "execute_result"
    }
   ],
   "source": [
    "X_train_list.shape"
   ]
  },
  {
   "cell_type": "code",
   "execution_count": 7,
   "metadata": {
    "colab": {
     "base_uri": "https://localhost:8080/"
    },
    "id": "Qmel4DHRxLGT",
    "outputId": "f4510c6e-daed-4040-9440-9d8180e36a62"
   },
   "outputs": [
    {
     "name": "stdout",
     "output_type": "stream",
     "text": [
      "0\n",
      "1\n",
      "2\n",
      "3\n",
      "4\n",
      "5\n",
      "6\n",
      "7\n",
      "8\n",
      "9\n",
      "10\n",
      "11\n",
      "12\n",
      "13\n",
      "14\n",
      "15\n",
      "16\n",
      "17\n",
      "18\n",
      "19\n",
      "20\n",
      "21\n",
      "22\n",
      "23\n",
      "24\n",
      "25\n",
      "26\n",
      "27\n",
      "28\n",
      "29\n",
      "30\n",
      "31\n",
      "32\n",
      "33\n",
      "34\n",
      "35\n",
      "36\n",
      "37\n",
      "38\n",
      "39\n",
      "40\n",
      "41\n",
      "42\n",
      "43\n",
      "44\n",
      "45\n",
      "46\n",
      "47\n",
      "48\n",
      "49\n",
      "50\n",
      "51\n",
      "52\n",
      "53\n",
      "54\n",
      "55\n",
      "56\n",
      "57\n",
      "58\n",
      "59\n",
      "60\n",
      "61\n",
      "62\n",
      "63\n",
      "64\n",
      "65\n",
      "66\n",
      "67\n",
      "68\n",
      "69\n",
      "70\n",
      "71\n",
      "72\n",
      "73\n",
      "74\n",
      "75\n",
      "76\n",
      "77\n",
      "78\n",
      "79\n",
      "80\n",
      "81\n",
      "82\n",
      "83\n",
      "84\n",
      "85\n",
      "86\n",
      "87\n",
      "88\n",
      "89\n",
      "90\n",
      "91\n",
      "92\n",
      "93\n",
      "94\n",
      "95\n",
      "96\n",
      "97\n",
      "98\n",
      "99\n",
      "---------- wbs -----------\n",
      "avg loc error: 94.92, avg time: 33.60505405426025\n",
      "std loc error: 174.7820173816517, std time: 5.369333548649702\n",
      "K < K*: 16, K = K*: 84, K > K*: 0\n"
     ]
    }
   ],
   "source": [
    "np.random.seed(0)\n",
    "\n",
    "m_intervals = 50\n",
    "grid_n = 90\n",
    "gamma_list = [20, 40]\n",
    "lam_list = [0.1]\n",
    "\n",
    "nt = Delta * T\n",
    "B = 100\n",
    "\n",
    "run_time_wbs = np.zeros(B)\n",
    "loc_error_wbs = np.zeros(B)\n",
    "K_wbs = np.zeros(B)\n",
    "\n",
    "cp_best_list = []\n",
    "param_best_list = []\n",
    "\n",
    "for b in range(B):\n",
    "    X_train = X_train_list[b]\n",
    "    Y_train = Y_train_list[b]\n",
    "    X_test = X_test_list[b]\n",
    "    Y_test = Y_test_list[b]\n",
    "\n",
    "    start_time = time.time()\n",
    "    wbs_fit = wbs_cv_bt(m_intervals, grid_n, lam_list, gamma_list, smooth = 5, buffer = 5)\n",
    "    res = wbs_fit.fit((X_train, Y_train), (X_test, Y_test))\n",
    "    cp_best, cp_val, cusum_val, threshold_best, grid = res   \n",
    "    run_time_wbs[b] = time.time() - start_time\n",
    "    loc_error_wbs[b] = cp_distance(cp_best, cp_truth)\n",
    "    K_wbs[b] = len(cp_best)\n",
    "\n",
    "    cp_best_list.append(cp_best)\n",
    "    param_best_list.append(threshold_best)\n",
    "\n",
    "    print(b)\n",
    "\n",
    "print('---------- wbs -----------')\n",
    "print(\"avg loc error: {0}, avg time: {1}\".format(loc_error_wbs.mean(), run_time_wbs.mean()))\n",
    "print(\"std loc error: {0}, std time: {1}\".format(loc_error_wbs.std(), run_time_wbs.std()))\n",
    "print('K < K*: {0}, K = K*: {1}, K > K*: {2}'.format(sum(K_wbs < T - 1), sum(K_wbs == T - 1), sum(K_wbs > T - 1)))"
   ]
  },
  {
   "cell_type": "code",
   "execution_count": 8,
   "metadata": {
    "colab": {
     "base_uri": "https://localhost:8080/"
    },
    "id": "Qe8Pn9foJDJQ",
    "outputId": "fd96a31b-185c-4ce6-9758-a947c4f72cb3"
   },
   "outputs": [
    {
     "data": {
      "text/plain": [
       "array([512.,  16.,  16.,  10.,  16.,  16.,  10.,  10.,  16.,  16.,  26.,\n",
       "       490.,  12.,  18., 512.,  16.,  54.,  12.,  32.,  16., 490.,  10.,\n",
       "       494.,  10.,  12.,  12.,  16.,  32.,  18.,  12.,  18.,  26.,  12.,\n",
       "        12.,  12.,  16., 494.,  32.,  10.,  60.,  10.,  18.,  16.,  12.,\n",
       "       474.,  10.,  10.,  72.,  10.,  56.,  10.,  10.,  12.,  10.,  12.,\n",
       "        16.,  10.,  28.,  18.,  38.,  12., 490.,  10.,  16.,  34., 494.,\n",
       "        32., 496.,  10.,  12.,  10., 496.,  16.,  18.,  16.,  18., 100.,\n",
       "       490.,  10.,  12.,  12., 490.,  10.,  12.,  10.,  16.,  18., 494.,\n",
       "        16.,  38.,  16.,  18.,  12.,  12., 494.,  16.,  10.,  18.,  16.,\n",
       "       496.])"
      ]
     },
     "execution_count": 8,
     "metadata": {},
     "output_type": "execute_result"
    }
   ],
   "source": [
    "loc_error_wbs"
   ]
  },
  {
   "cell_type": "code",
   "execution_count": 9,
   "metadata": {
    "colab": {
     "base_uri": "https://localhost:8080/"
    },
    "id": "WrC-7R1GwSx7",
    "outputId": "f739f586-277c-4843-fe34-8999f8f17adb"
   },
   "outputs": [
    {
     "data": {
      "text/plain": [
       "[[1012, 1496],\n",
       " [484, 1012, 1496],\n",
       " [484, 990, 1496],\n",
       " [506, 990, 1496],\n",
       " [484, 990, 1496],\n",
       " [484, 1012, 1496],\n",
       " [506, 990, 1496],\n",
       " [506, 990, 1496],\n",
       " [484, 1012, 1496],\n",
       " [484, 1012, 1496],\n",
       " [484, 990, 1474],\n",
       " [990, 1496],\n",
       " [506, 1012, 1496],\n",
       " [506, 990, 1518],\n",
       " [1012, 1496],\n",
       " [484, 990, 1496],\n",
       " [506, 946, 1496],\n",
       " [506, 1012, 1496],\n",
       " [484, 968, 1496],\n",
       " [484, 1012, 1496],\n",
       " [990, 1496],\n",
       " [506, 990, 1496],\n",
       " [506, 1496],\n",
       " [506, 990, 1496],\n",
       " [506, 1012, 1496],\n",
       " [506, 1012, 1496],\n",
       " [484, 1012, 1496],\n",
       " [484, 968, 1518],\n",
       " [506, 990, 1518],\n",
       " [506, 1012, 1496],\n",
       " [484, 1012, 1518],\n",
       " [506, 990, 1474],\n",
       " [506, 1012, 1496],\n",
       " [506, 1012, 1496],\n",
       " [506, 1012, 1496],\n",
       " [484, 990, 1496],\n",
       " [506, 1496],\n",
       " [506, 968, 1496],\n",
       " [506, 990, 1496],\n",
       " [440, 990, 1496],\n",
       " [506, 990, 1496],\n",
       " [506, 1012, 1518],\n",
       " [484, 990, 1496],\n",
       " [506, 1012, 1496],\n",
       " [484, 1474],\n",
       " [506, 990, 1496],\n",
       " [506, 990, 1496],\n",
       " [572, 1012, 1518],\n",
       " [506, 990, 1496],\n",
       " [506, 1056, 1496],\n",
       " [506, 990, 1496],\n",
       " [506, 990, 1496],\n",
       " [506, 1012, 1496],\n",
       " [506, 990, 1496],\n",
       " [506, 1012, 1496],\n",
       " [484, 990, 1496],\n",
       " [506, 990, 1496],\n",
       " [528, 990, 1496],\n",
       " [506, 1012, 1518],\n",
       " [462, 1012, 1496],\n",
       " [506, 1012, 1496],\n",
       " [990, 1518],\n",
       " [506, 990, 1496],\n",
       " [484, 990, 1496],\n",
       " [506, 1034, 1496],\n",
       " [506, 1496],\n",
       " [506, 968, 1496],\n",
       " [484, 1496],\n",
       " [506, 990, 1496],\n",
       " [506, 1012, 1496],\n",
       " [506, 990, 1496],\n",
       " [484, 1496],\n",
       " [484, 1012, 1496],\n",
       " [484, 990, 1518],\n",
       " [484, 1012, 1496],\n",
       " [484, 1012, 1518],\n",
       " [506, 1100, 1474],\n",
       " [990, 1496],\n",
       " [506, 990, 1496],\n",
       " [506, 1012, 1496],\n",
       " [506, 1012, 1496],\n",
       " [990, 1518],\n",
       " [506, 990, 1496],\n",
       " [506, 1012, 1496],\n",
       " [506, 990, 1496],\n",
       " [484, 990, 1496],\n",
       " [484, 1012, 1518],\n",
       " [506, 1496],\n",
       " [484, 1012, 1496],\n",
       " [462, 990, 1496],\n",
       " [484, 990, 1496],\n",
       " [484, 1012, 1518],\n",
       " [506, 1012, 1496],\n",
       " [506, 1012, 1496],\n",
       " [506, 1496],\n",
       " [484, 1012, 1496],\n",
       " [506, 990, 1496],\n",
       " [506, 1012, 1518],\n",
       " [484, 990, 1496],\n",
       " [484, 1496]]"
      ]
     },
     "execution_count": 9,
     "metadata": {},
     "output_type": "execute_result"
    }
   ],
   "source": [
    "cp_best_list"
   ]
  },
  {
   "cell_type": "code",
   "execution_count": 10,
   "metadata": {
    "id": "JUnKEsc4vGd0"
   },
   "outputs": [],
   "source": [
    "import pickle\n",
    "with open(path + 'wbs_n' + str(n) + '_Delta' + str(Delta) + '_K' + str(T - 1) + '_grid' + str(grid_n) + '.pickle', 'wb') as f:\n",
    "    pickle.dump([cp_best_list, param_best_list, loc_error_wbs, run_time_wbs, K_wbs], f)"
   ]
  },
  {
   "cell_type": "code",
   "execution_count": null,
   "metadata": {
    "id": "MYrPVe6A1lBk"
   },
   "outputs": [],
   "source": []
  }
 ],
 "metadata": {
  "colab": {
   "collapsed_sections": [],
   "name": "WBS_n10_Delta500_K3.ipynb",
   "provenance": [],
   "toc_visible": true
  },
  "kernelspec": {
   "display_name": "Python 3",
   "language": "python",
   "name": "python3"
  },
  "language_info": {
   "codemirror_mode": {
    "name": "ipython",
    "version": 3
   },
   "file_extension": ".py",
   "mimetype": "text/x-python",
   "name": "python",
   "nbconvert_exporter": "python",
   "pygments_lexer": "ipython3",
   "version": "3.7.4"
  }
 },
 "nbformat": 4,
 "nbformat_minor": 1
}
