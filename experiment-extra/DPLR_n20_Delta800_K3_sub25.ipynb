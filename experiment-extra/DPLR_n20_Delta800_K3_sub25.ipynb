{
 "cells": [
  {
   "cell_type": "code",
   "execution_count": 1,
   "metadata": {
    "colab": {
     "base_uri": "https://localhost:8080/"
    },
    "id": "im-zBYvoLM2x",
    "outputId": "e697641e-b268-42e1-94dc-dfb165f861d5"
   },
   "outputs": [
    {
     "name": "stdout",
     "output_type": "stream",
     "text": [
      "Mounted at /content/drive\n"
     ]
    }
   ],
   "source": [
    "from google.colab import drive\n",
    "drive.mount('/content/drive')"
   ]
  },
  {
   "cell_type": "code",
   "execution_count": 2,
   "metadata": {
    "id": "yADnUZVCNYL0"
   },
   "outputs": [],
   "source": [
    "import os, sys\n",
    "sys.path.append('/content/drive/MyDrive/CPD_BT')"
   ]
  },
  {
   "cell_type": "code",
   "execution_count": 3,
   "metadata": {
    "colab": {
     "base_uri": "https://localhost:8080/"
    },
    "id": "uIKHDjhONeFr",
    "outputId": "152c980e-a8aa-470b-9b8f-486fd3be0581"
   },
   "outputs": [
    {
     "name": "stderr",
     "output_type": "stream",
     "text": [
      "/usr/local/lib/python3.7/dist-packages/statsmodels/tools/_testing.py:19: FutureWarning: pandas.util.testing is deprecated. Use the functions in the public API at pandas.testing instead.\n",
      "  import pandas.util.testing as tm\n"
     ]
    }
   ],
   "source": [
    "import numpy as np\n",
    "import matplotlib.pyplot as plt\n",
    "import scipy.stats as stats\n",
    "import random\n",
    "\n",
    "import itertools\n",
    "\n",
    "from bt_cpd import *\n",
    "\n",
    "import time\n",
    "import bisect\n",
    "\n",
    "import pandas as pd\n",
    "\n",
    "import statsmodels.api as sm\n",
    "from sklearn import linear_model\n",
    "\n",
    "from warnings import simplefilter\n",
    "from sklearn.exceptions import ConvergenceWarning\n",
    "simplefilter(\"ignore\", category=ConvergenceWarning)"
   ]
  },
  {
   "cell_type": "code",
   "execution_count": 8,
   "metadata": {
    "colab": {
     "base_uri": "https://localhost:8080/"
    },
    "id": "Ns9hvspTPlgL",
    "outputId": "10326d9d-0c59-4063-913e-6f61ee6ba0c2"
   },
   "outputs": [
    {
     "name": "stdout",
     "output_type": "stream",
     "text": [
      "[ 800 1600 2400]\n"
     ]
    }
   ],
   "source": [
    "T = 4\n",
    "Delta = 800\n",
    "m = np.array([Delta] * T)\n",
    "cp_truth = np.cumsum(m)[:T-1]\n",
    "print(cp_truth)\n",
    "\n",
    "n = 20\n",
    "\n",
    "sub = 0.25"
   ]
  },
  {
   "cell_type": "code",
   "execution_count": 9,
   "metadata": {
    "id": "hfhGQb_ifULO"
   },
   "outputs": [],
   "source": [
    "path = '/content/drive/MyDrive/CPD_BT/experiment_random/'\n",
    "with open(path + 'data_n' + str(n) + '_Delta' + str(Delta) + '_K' + str(T - 1) + '_sub' + str(int(100 * sub)) + '.npy', 'rb') as f:\n",
    "    beta_list = np.load(f)\n",
    "    X_train_list = np.load(f)\n",
    "    Y_train_list = np.load(f)\n",
    "    X_test_list = np.load(f)\n",
    "    Y_test_list = np.load(f)"
   ]
  },
  {
   "cell_type": "code",
   "execution_count": 10,
   "metadata": {
    "colab": {
     "base_uri": "https://localhost:8080/"
    },
    "id": "Xqvln61AntMT",
    "outputId": "17f270d4-2105-4794-b2f4-f7027c083637"
   },
   "outputs": [
    {
     "data": {
      "text/plain": [
       "(100, 3200, 20)"
      ]
     },
     "execution_count": 10,
     "metadata": {},
     "output_type": "execute_result"
    }
   ],
   "source": [
    "X_train_list.shape"
   ]
  },
  {
   "cell_type": "code",
   "execution_count": 11,
   "metadata": {
    "colab": {
     "base_uri": "https://localhost:8080/"
    },
    "id": "Qmel4DHRxLGT",
    "outputId": "8c24f86b-8787-46dc-b9eb-49574935995e"
   },
   "outputs": [
    {
     "name": "stdout",
     "output_type": "stream",
     "text": [
      "0\n",
      "1\n",
      "2\n",
      "3\n",
      "4\n",
      "5\n",
      "6\n",
      "7\n",
      "8\n",
      "9\n",
      "10\n",
      "11\n",
      "12\n",
      "13\n",
      "14\n",
      "15\n",
      "16\n",
      "17\n",
      "18\n",
      "19\n",
      "20\n",
      "21\n",
      "22\n",
      "23\n",
      "24\n",
      "25\n",
      "26\n",
      "27\n",
      "28\n",
      "29\n",
      "30\n",
      "31\n",
      "32\n",
      "33\n",
      "34\n",
      "35\n",
      "36\n",
      "37\n",
      "38\n",
      "39\n",
      "40\n",
      "41\n",
      "42\n",
      "43\n",
      "44\n",
      "45\n",
      "46\n",
      "47\n",
      "48\n",
      "49\n",
      "50\n",
      "51\n",
      "52\n",
      "53\n",
      "54\n",
      "55\n",
      "56\n",
      "57\n",
      "58\n",
      "59\n",
      "60\n",
      "61\n",
      "62\n",
      "63\n",
      "64\n",
      "65\n",
      "66\n",
      "67\n",
      "68\n",
      "69\n",
      "70\n",
      "71\n",
      "72\n",
      "73\n",
      "74\n",
      "75\n",
      "76\n",
      "77\n",
      "78\n",
      "79\n",
      "80\n",
      "81\n",
      "82\n",
      "83\n",
      "84\n",
      "85\n",
      "86\n",
      "87\n",
      "88\n",
      "89\n",
      "90\n",
      "91\n",
      "92\n",
      "93\n",
      "94\n",
      "95\n",
      "96\n",
      "97\n",
      "98\n",
      "99\n",
      "---------- dplr -----------\n",
      "avg loc error: inf, avg time: 97.65655762434005\n",
      "std loc error: nan, std time: 18.74192922753696\n",
      "K < K*: 82, K = K*: 17, K > K*: 1\n"
     ]
    },
    {
     "name": "stderr",
     "output_type": "stream",
     "text": [
      "/usr/local/lib/python3.7/dist-packages/numpy/core/_methods.py:230: RuntimeWarning: invalid value encountered in subtract\n",
      "  x = asanyarray(arr - arrmean)\n"
     ]
    }
   ],
   "source": [
    "np.random.seed(0)\n",
    "\n",
    "grid_n = 90\n",
    "gamma_list = [20, 40]\n",
    "lam_list = [0.1]\n",
    "\n",
    "nt = Delta * T\n",
    "B = 100\n",
    "\n",
    "run_time_d = np.zeros(B)\n",
    "loc_error_d = np.zeros(B)\n",
    "K_d = np.zeros(B)\n",
    "\n",
    "cp_best_list = []\n",
    "param_best_list = []\n",
    "cp_best_cand_list = []\n",
    "\n",
    "for b in range(B):\n",
    "    X_train = X_train_list[b]\n",
    "    Y_train = Y_train_list[b]\n",
    "    X_test = X_test_list[b]\n",
    "    Y_test = Y_test_list[b]\n",
    "\n",
    "    start_time = time.time()\n",
    "    dp_fit = dplr_cv_bt(grid_n, lam_list, gamma_list)\n",
    "    cp_best, param_best, cp_best_cand = dp_fit.fit((Y_train, X_train), (Y_test, X_test))    \n",
    "    run_time_d[b] = time.time() - start_time\n",
    "    loc_error_d[b] = cp_distance(cp_best, cp_truth)\n",
    "    K_d[b] = len(cp_best)\n",
    "\n",
    "    cp_best_list.append(cp_best)\n",
    "    param_best_list.append(param_best)\n",
    "    cp_best_cand_list.append(cp_best_cand)\n",
    "    print(b)\n",
    "\n",
    "\n",
    "print('---------- dplr -----------')\n",
    "print(\"avg loc error: {0}, avg time: {1}\".format(loc_error_d.mean(), run_time_d.mean()))\n",
    "print(\"std loc error: {0}, std time: {1}\".format(loc_error_d.std(), run_time_d.std()))\n",
    "print('K < K*: {0}, K = K*: {1}, K > K*: {2}'.format(sum(K_d < T - 1), sum(K_d == T - 1), sum(K_d > T - 1)))"
   ]
  },
  {
   "cell_type": "code",
   "execution_count": 12,
   "metadata": {
    "colab": {
     "base_uri": "https://localhost:8080/"
    },
    "id": "Qe8Pn9foJDJQ",
    "outputId": "f0a5814d-2426-470a-f18d-c83c9b096b3c"
   },
   "outputs": [
    {
     "data": {
      "text/plain": [
       "array([  inf,   inf,  759.,  768.,    7.,   inf,  786.,   inf,   inf,\n",
       "         91.,  800.,   inf,   91.,  798.,   inf,   inf,   inf,   inf,\n",
       "        589.,  779.,  877.,  804.,  807.,   20.,   inf,   inf,  115.,\n",
       "        808.,   inf, 1605.,  800.,  911.,  108.,  759.,  798.,  800.,\n",
       "       1598.,   inf,  800.,  809.,  812.,   inf,  812., 1039.,   inf,\n",
       "        876.,  914.,  792.,  809.,   inf,   inf,   inf,  521.,  519.,\n",
       "        504.,   inf,  804.,   inf,  791.,  800.,   inf,  805.,  789.,\n",
       "        416., 1456., 1172.,   inf,  796.,   inf, 1031., 1736.,   inf,\n",
       "        133.,   inf,  264.,  312., 1592.,   inf,  846.,   81.,   44.,\n",
       "        877.,  794.,   inf,   inf,   inf,   inf,   42.,  102.,   inf,\n",
       "       1037.,   inf,   inf,    4.,   68.,  816.,   inf,   inf,   inf,\n",
       "        893.])"
      ]
     },
     "execution_count": 12,
     "metadata": {},
     "output_type": "execute_result"
    }
   ],
   "source": [
    "loc_error_d"
   ]
  },
  {
   "cell_type": "code",
   "execution_count": 13,
   "metadata": {
    "colab": {
     "base_uri": "https://localhost:8080/"
    },
    "id": "Kyi5K_w8JBWt",
    "outputId": "fbe8c07c-1225-4a92-a422-0e8f3d511533"
   },
   "outputs": [
    {
     "data": {
      "text/plain": [
       "[[],\n",
       " [],\n",
       " [1559, 2395],\n",
       " [832, 2397],\n",
       " [793, 1595, 2401],\n",
       " [],\n",
       " [759, 1614],\n",
       " [],\n",
       " [],\n",
       " [891, 1525, 2399],\n",
       " [1600],\n",
       " [],\n",
       " [798, 1562, 2309],\n",
       " [798, 1602],\n",
       " [],\n",
       " [],\n",
       " [],\n",
       " [],\n",
       " [831, 1811],\n",
       " [1579, 2397],\n",
       " [1523],\n",
       " [796, 2470],\n",
       " [1607],\n",
       " [806, 1600, 2380],\n",
       " [],\n",
       " [],\n",
       " [795, 1611, 2285],\n",
       " [1608],\n",
       " [],\n",
       " [2405],\n",
       " [795, 1600],\n",
       " [891, 1489],\n",
       " [908, 1513, 2400],\n",
       " [686, 2359],\n",
       " [757, 1602],\n",
       " [1600],\n",
       " [107, 802],\n",
       " [],\n",
       " [1600],\n",
       " [791, 2411],\n",
       " [1612],\n",
       " [],\n",
       " [1612],\n",
       " [1361],\n",
       " [],\n",
       " [1676, 2398],\n",
       " [1714],\n",
       " [1592, 2347],\n",
       " [1591],\n",
       " [],\n",
       " [],\n",
       " [],\n",
       " [824, 2121, 2396],\n",
       " [1319, 1613, 2392],\n",
       " [1096, 2400],\n",
       " [],\n",
       " [1604, 2266],\n",
       " [],\n",
       " [809, 2535],\n",
       " [783, 1600],\n",
       " [],\n",
       " [1605],\n",
       " [578, 1611],\n",
       " [1216, 1591, 2393],\n",
       " [944],\n",
       " [1972],\n",
       " [],\n",
       " [799, 1604],\n",
       " [],\n",
       " [1831, 2389],\n",
       " [664],\n",
       " [],\n",
       " [933, 1608, 2389],\n",
       " [],\n",
       " [747, 1840, 2136, 2395],\n",
       " [727, 1566, 2712],\n",
       " [808],\n",
       " [],\n",
       " [800, 1554],\n",
       " [805, 1519, 2396],\n",
       " [756, 1600, 2386],\n",
       " [1523],\n",
       " [1594, 2395],\n",
       " [],\n",
       " [],\n",
       " [],\n",
       " [],\n",
       " [804, 1605, 2358],\n",
       " [804, 1702, 2406],\n",
       " [],\n",
       " [1363],\n",
       " [],\n",
       " [],\n",
       " [799, 1597, 2404],\n",
       " [797, 1599, 2332],\n",
       " [827, 1584],\n",
       " [],\n",
       " [],\n",
       " [],\n",
       " [782, 1507]]"
      ]
     },
     "execution_count": 13,
     "metadata": {},
     "output_type": "execute_result"
    }
   ],
   "source": [
    "cp_best_list"
   ]
  },
  {
   "cell_type": "code",
   "execution_count": 14,
   "metadata": {
    "colab": {
     "base_uri": "https://localhost:8080/"
    },
    "id": "0GVWff9GJDWw",
    "outputId": "363fa8fe-562c-4d1e-f1d3-d4c386758638"
   },
   "outputs": [
    {
     "data": {
      "text/plain": [
       "[array([], dtype=float64),\n",
       " array([], dtype=float64),\n",
       " array([1575, 2415]),\n",
       " array([ 805, 2380]),\n",
       " array([ 805, 1610, 2380]),\n",
       " array([], dtype=float64),\n",
       " array([ 770, 1575]),\n",
       " array([], dtype=float64),\n",
       " array([], dtype=float64),\n",
       " array([ 910, 1575, 2380]),\n",
       " array([1575]),\n",
       " array([], dtype=float64),\n",
       " array([ 805, 1575, 2310]),\n",
       " array([805, 980]),\n",
       " array([], dtype=float64),\n",
       " array([], dtype=float64),\n",
       " array([], dtype=float64),\n",
       " array([], dtype=float64),\n",
       " array([ 805, 1785]),\n",
       " array([1610, 2450]),\n",
       " array([1505]),\n",
       " array([ 770, 2485]),\n",
       " array([735]),\n",
       " array([ 805, 1610, 2380]),\n",
       " array([], dtype=float64),\n",
       " array([], dtype=float64),\n",
       " array([ 805, 1610, 2345]),\n",
       " array([1610]),\n",
       " array([], dtype=float64),\n",
       " array([2520]),\n",
       " array([ 805, 1610]),\n",
       " array([ 875, 1575]),\n",
       " array([ 910, 1540, 2415]),\n",
       " array([ 700, 2345]),\n",
       " array([ 770, 1610]),\n",
       " array([2415]),\n",
       " array([105, 805]),\n",
       " array([], dtype=float64),\n",
       " array([1575]),\n",
       " array([ 770, 2415]),\n",
       " array([1610]),\n",
       " array([], dtype=float64),\n",
       " array([1610]),\n",
       " array([1575]),\n",
       " array([], dtype=float64),\n",
       " array([1610, 2415]),\n",
       " array([1715]),\n",
       " array([1610, 2345]),\n",
       " array([1505]),\n",
       " array([], dtype=float64),\n",
       " array([], dtype=float64),\n",
       " array([], dtype=float64),\n",
       " array([ 735, 1680, 2415]),\n",
       " array([1330, 1400, 2415]),\n",
       " array([ 805, 2415]),\n",
       " array([], dtype=float64),\n",
       " array([1610, 2240]),\n",
       " array([], dtype=float64),\n",
       " array([ 805, 2520]),\n",
       " array([ 770, 1610]),\n",
       " array([], dtype=float64),\n",
       " array([1505]),\n",
       " array([ 770, 1610]),\n",
       " array([ 735, 1575, 2345]),\n",
       " array([805]),\n",
       " array([875]),\n",
       " array([], dtype=float64),\n",
       " array([ 805, 1610]),\n",
       " array([], dtype=float64),\n",
       " array([1575, 2450]),\n",
       " array([805]),\n",
       " array([], dtype=float64),\n",
       " array([ 945, 1610, 2380]),\n",
       " array([], dtype=float64),\n",
       " array([ 875, 1820, 2135, 2345]),\n",
       " array([ 700, 1575, 2170]),\n",
       " array([805]),\n",
       " array([], dtype=float64),\n",
       " array([ 805, 1575]),\n",
       " array([ 805, 1540, 2380]),\n",
       " array([ 770, 1575, 2380]),\n",
       " array([1470]),\n",
       " array([1575, 2380]),\n",
       " array([], dtype=float64),\n",
       " array([], dtype=float64),\n",
       " array([], dtype=float64),\n",
       " array([], dtype=float64),\n",
       " array([ 805, 1610, 2380]),\n",
       " array([ 805, 1610, 2415]),\n",
       " array([], dtype=float64),\n",
       " array([1365]),\n",
       " array([], dtype=float64),\n",
       " array([], dtype=float64),\n",
       " array([ 805, 1610, 2415]),\n",
       " array([ 805, 1610, 2345]),\n",
       " array([ 805, 1575]),\n",
       " array([], dtype=float64),\n",
       " array([], dtype=float64),\n",
       " array([], dtype=float64),\n",
       " array([ 805, 1330])]"
      ]
     },
     "execution_count": 14,
     "metadata": {},
     "output_type": "execute_result"
    }
   ],
   "source": [
    "cp_best_cand_list"
   ]
  },
  {
   "cell_type": "code",
   "execution_count": 15,
   "metadata": {
    "id": "JUnKEsc4vGd0"
   },
   "outputs": [],
   "source": [
    "import pickle\n",
    "with open(path + 'dplr_n' + str(n) + '_Delta' + str(Delta) + '_K' + str(T - 1) + '_grid' + str(grid_n) + '_sub' + str(int(100 * sub)) + '.pickle', 'wb') as f:\n",
    "    pickle.dump([beta_list, cp_best_list, param_best_list, cp_best_cand_list, loc_error_d, run_time_d, K_d], f)"
   ]
  },
  {
   "cell_type": "code",
   "execution_count": null,
   "metadata": {
    "id": "ZYnLxRuSyBwY"
   },
   "outputs": [],
   "source": []
  },
  {
   "cell_type": "code",
   "execution_count": 21,
   "metadata": {
    "colab": {
     "base_uri": "https://localhost:8080/"
    },
    "id": "3bTtZGFXPCa3",
    "outputId": "62b0e248-568c-4460-ca9a-4709cbfec53c"
   },
   "outputs": [
    {
     "name": "stdout",
     "output_type": "stream",
     "text": [
      "avg loc error: 1030.45, avg time: 97.65655762434005\n",
      "std loc error: 544.2957720761755, std time: 18.74192922753696\n",
      "K < K*: 82, K = K*: 17, K > K*: 1\n"
     ]
    }
   ],
   "source": [
    "loc_error_d[loc_error_d > (T // 2) * Delta] = (T // 2) * Delta\n",
    "\n",
    "print(\"avg loc error: {0}, avg time: {1}\".format(loc_error_d.mean(), run_time_d.mean()))\n",
    "print(\"std loc error: {0}, std time: {1}\".format(loc_error_d.std(), run_time_d.std()))\n",
    "print('K < K*: {0}, K = K*: {1}, K > K*: {2}'.format(sum(K_d < T - 1), sum(K_d == T - 1), sum(K_d > T - 1)))"
   ]
  },
  {
   "cell_type": "code",
   "execution_count": null,
   "metadata": {},
   "outputs": [],
   "source": []
  }
 ],
 "metadata": {
  "colab": {
   "collapsed_sections": [],
   "name": "DPLR_n20_Delta800_K3_sub25.ipynb",
   "provenance": [],
   "toc_visible": true
  },
  "kernelspec": {
   "display_name": "Python 3",
   "language": "python",
   "name": "python3"
  },
  "language_info": {
   "codemirror_mode": {
    "name": "ipython",
    "version": 3
   },
   "file_extension": ".py",
   "mimetype": "text/x-python",
   "name": "python",
   "nbconvert_exporter": "python",
   "pygments_lexer": "ipython3",
   "version": "3.7.4"
  }
 },
 "nbformat": 4,
 "nbformat_minor": 1
}
