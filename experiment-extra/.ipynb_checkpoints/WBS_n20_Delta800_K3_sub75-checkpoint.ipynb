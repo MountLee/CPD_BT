{
 "cells": [
  {
   "cell_type": "code",
   "execution_count": 1,
   "metadata": {
    "colab": {
     "base_uri": "https://localhost:8080/"
    },
    "executionInfo": {
     "elapsed": 15075,
     "status": "ok",
     "timestamp": 1659326703135,
     "user": {
      "displayName": "Wanshan Li",
      "userId": "04763723389758163402"
     },
     "user_tz": 240
    },
    "id": "im-zBYvoLM2x",
    "outputId": "2d15f2d0-01ed-4174-cf0e-80c85e230895"
   },
   "outputs": [
    {
     "name": "stdout",
     "output_type": "stream",
     "text": [
      "Mounted at /content/drive\n"
     ]
    }
   ],
   "source": [
    "from google.colab import drive\n",
    "drive.mount('/content/drive')"
   ]
  },
  {
   "cell_type": "code",
   "execution_count": 2,
   "metadata": {
    "executionInfo": {
     "elapsed": 4,
     "status": "ok",
     "timestamp": 1659326703136,
     "user": {
      "displayName": "Wanshan Li",
      "userId": "04763723389758163402"
     },
     "user_tz": 240
    },
    "id": "yADnUZVCNYL0"
   },
   "outputs": [],
   "source": [
    "import os, sys\n",
    "sys.path.append('/content/drive/MyDrive/CPD_BT')"
   ]
  },
  {
   "cell_type": "code",
   "execution_count": 3,
   "metadata": {
    "colab": {
     "base_uri": "https://localhost:8080/"
    },
    "executionInfo": {
     "elapsed": 2237,
     "status": "ok",
     "timestamp": 1659326705370,
     "user": {
      "displayName": "Wanshan Li",
      "userId": "04763723389758163402"
     },
     "user_tz": 240
    },
    "id": "uIKHDjhONeFr",
    "outputId": "fb1c3884-0e97-40a7-c744-2b3fd48fe52b"
   },
   "outputs": [
    {
     "name": "stderr",
     "output_type": "stream",
     "text": [
      "/usr/local/lib/python3.7/dist-packages/statsmodels/tools/_testing.py:19: FutureWarning: pandas.util.testing is deprecated. Use the functions in the public API at pandas.testing instead.\n",
      "  import pandas.util.testing as tm\n"
     ]
    }
   ],
   "source": [
    "import numpy as np\n",
    "import matplotlib.pyplot as plt\n",
    "import scipy.stats as stats\n",
    "import random\n",
    "\n",
    "import itertools\n",
    "\n",
    "from bt_cpd import *\n",
    "\n",
    "import time\n",
    "import bisect\n",
    "\n",
    "import pandas as pd\n",
    "\n",
    "import statsmodels.api as sm\n",
    "from sklearn import linear_model\n",
    "\n",
    "from warnings import simplefilter\n",
    "from sklearn.exceptions import ConvergenceWarning\n",
    "simplefilter(\"ignore\", category=ConvergenceWarning)"
   ]
  },
  {
   "cell_type": "code",
   "execution_count": 4,
   "metadata": {
    "colab": {
     "base_uri": "https://localhost:8080/"
    },
    "executionInfo": {
     "elapsed": 4,
     "status": "ok",
     "timestamp": 1659326705370,
     "user": {
      "displayName": "Wanshan Li",
      "userId": "04763723389758163402"
     },
     "user_tz": 240
    },
    "id": "Ns9hvspTPlgL",
    "outputId": "255b98ef-bfda-4da6-e65f-b1d729584485"
   },
   "outputs": [
    {
     "name": "stdout",
     "output_type": "stream",
     "text": [
      "[ 800 1600 2400]\n"
     ]
    }
   ],
   "source": [
    "T = 4\n",
    "Delta = 800\n",
    "m = np.array([Delta] * T)\n",
    "cp_truth = np.cumsum(m)[:T-1]\n",
    "print(cp_truth)\n",
    "\n",
    "n = 20\n",
    "\n",
    "sub = 0.75"
   ]
  },
  {
   "cell_type": "code",
   "execution_count": 5,
   "metadata": {
    "executionInfo": {
     "elapsed": 1022,
     "status": "ok",
     "timestamp": 1659326706390,
     "user": {
      "displayName": "Wanshan Li",
      "userId": "04763723389758163402"
     },
     "user_tz": 240
    },
    "id": "hfhGQb_ifULO"
   },
   "outputs": [],
   "source": [
    "path = '/content/drive/MyDrive/CPD_BT/experiment_random/'\n",
    "with open(path + 'data_n' + str(n) + '_Delta' + str(Delta) + '_K' + str(T - 1) + '_sub' + str(int(100 * sub)) + '.npy', 'rb') as f:\n",
    "    beta_list = np.load(f)\n",
    "    X_train_list = np.load(f)\n",
    "    Y_train_list = np.load(f)\n",
    "    X_test_list = np.load(f)\n",
    "    Y_test_list = np.load(f)"
   ]
  },
  {
   "cell_type": "code",
   "execution_count": 6,
   "metadata": {
    "colab": {
     "base_uri": "https://localhost:8080/"
    },
    "executionInfo": {
     "elapsed": 5,
     "status": "ok",
     "timestamp": 1659326706391,
     "user": {
      "displayName": "Wanshan Li",
      "userId": "04763723389758163402"
     },
     "user_tz": 240
    },
    "id": "Xqvln61AntMT",
    "outputId": "b51dc189-98dc-412a-e629-8603ae0dfa6f"
   },
   "outputs": [
    {
     "data": {
      "text/plain": [
       "(100, 3200, 20)"
      ]
     },
     "execution_count": 6,
     "metadata": {},
     "output_type": "execute_result"
    }
   ],
   "source": [
    "X_train_list.shape"
   ]
  },
  {
   "cell_type": "code",
   "execution_count": 8,
   "metadata": {
    "colab": {
     "base_uri": "https://localhost:8080/"
    },
    "executionInfo": {
     "elapsed": 14181812,
     "status": "ok",
     "timestamp": 1659341160581,
     "user": {
      "displayName": "Wanshan Li",
      "userId": "04763723389758163402"
     },
     "user_tz": 240
    },
    "id": "Qmel4DHRxLGT",
    "outputId": "d61e8e78-474e-45bc-ca2e-5e29b426748f"
   },
   "outputs": [
    {
     "name": "stdout",
     "output_type": "stream",
     "text": [
      "0\n",
      "1\n",
      "2\n",
      "3\n",
      "4\n",
      "5\n",
      "6\n",
      "7\n",
      "8\n",
      "9\n",
      "10\n",
      "11\n",
      "12\n",
      "13\n",
      "14\n",
      "15\n",
      "16\n",
      "17\n",
      "18\n",
      "19\n",
      "20\n",
      "21\n",
      "22\n",
      "23\n",
      "24\n",
      "25\n",
      "26\n",
      "27\n",
      "28\n",
      "29\n",
      "30\n",
      "31\n",
      "32\n",
      "33\n",
      "34\n",
      "35\n",
      "36\n",
      "37\n",
      "38\n",
      "39\n",
      "40\n",
      "41\n",
      "42\n",
      "43\n",
      "44\n",
      "45\n",
      "46\n",
      "47\n",
      "48\n",
      "49\n",
      "50\n",
      "51\n",
      "52\n",
      "53\n",
      "54\n",
      "55\n",
      "56\n",
      "57\n",
      "58\n",
      "59\n",
      "60\n",
      "61\n",
      "62\n",
      "63\n",
      "64\n",
      "65\n",
      "66\n",
      "67\n",
      "68\n",
      "69\n",
      "70\n",
      "71\n",
      "72\n",
      "73\n",
      "74\n",
      "75\n",
      "76\n",
      "77\n",
      "78\n",
      "79\n",
      "80\n",
      "81\n",
      "82\n",
      "83\n",
      "84\n",
      "85\n",
      "86\n",
      "87\n",
      "88\n",
      "89\n",
      "90\n",
      "91\n",
      "92\n",
      "93\n",
      "94\n",
      "95\n",
      "96\n",
      "97\n",
      "98\n",
      "99\n",
      "---------- wbs -----------\n",
      "avg loc error: 349.6, avg time: 141.81631350040436\n",
      "std loc error: 261.77853235129885, std time: 17.184563229145464\n",
      "K < K*: 13, K = K*: 28, K > K*: 59\n"
     ]
    }
   ],
   "source": [
    "np.random.seed(0)\n",
    "\n",
    "m_intervals = 50\n",
    "grid_n = 200\n",
    "gamma_list = [20, 40]\n",
    "lam_list = [0.1]\n",
    "\n",
    "nt = Delta * T\n",
    "B = 100\n",
    "\n",
    "run_time_wbs = np.zeros(B)\n",
    "loc_error_wbs = np.zeros(B)\n",
    "K_wbs = np.zeros(B)\n",
    "\n",
    "cp_best_list = []\n",
    "param_best_list = []\n",
    "\n",
    "for b in range(B):\n",
    "    X_train = X_train_list[b]\n",
    "    Y_train = Y_train_list[b]\n",
    "    X_test = X_test_list[b]\n",
    "    Y_test = Y_test_list[b]\n",
    "\n",
    "    start_time = time.time()\n",
    "    wbs_fit = wbs_cv_bt(m_intervals, grid_n, lam_list, gamma_list, smooth = 5, buffer = 5)\n",
    "    res = wbs_fit.fit((X_train, Y_train), (X_test, Y_test))\n",
    "    cp_best, cp_val, cusum_val, threshold_best, grid = res   \n",
    "    run_time_wbs[b] = time.time() - start_time\n",
    "    loc_error_wbs[b] = cp_distance(cp_best, cp_truth)\n",
    "    K_wbs[b] = len(cp_best)\n",
    "\n",
    "    cp_best_list.append(cp_best)\n",
    "    param_best_list.append(threshold_best)\n",
    "\n",
    "    print(b)\n",
    "\n",
    "print('---------- wbs -----------')\n",
    "print(\"avg loc error: {0}, avg time: {1}\".format(loc_error_wbs.mean(), run_time_wbs.mean()))\n",
    "print(\"std loc error: {0}, std time: {1}\".format(loc_error_wbs.std(), run_time_wbs.std()))\n",
    "print('K < K*: {0}, K = K*: {1}, K > K*: {2}'.format(sum(K_wbs < T - 1), sum(K_wbs == T - 1), sum(K_wbs > T - 1)))"
   ]
  },
  {
   "cell_type": "code",
   "execution_count": 9,
   "metadata": {
    "colab": {
     "base_uri": "https://localhost:8080/"
    },
    "executionInfo": {
     "elapsed": 18,
     "status": "ok",
     "timestamp": 1659341160582,
     "user": {
      "displayName": "Wanshan Li",
      "userId": "04763723389758163402"
     },
     "user_tz": 240
    },
    "id": "Qe8Pn9foJDJQ",
    "outputId": "5829a01d-1267-4895-a661-ad4b5eaba933"
   },
   "outputs": [
    {
     "data": {
      "text/plain": [
       "array([384., 352., 336., 416., 656., 384.,   0.,   0., 448., 352., 176.,\n",
       "       384., 160., 272., 224., 432., 464., 544., 272., 832.,  48.,   0.,\n",
       "       192., 800., 272., 784.,   0., 384., 496., 320.,   0., 208., 832.,\n",
       "       592., 288., 800., 272., 640., 352., 544., 656.,  32.,   0., 544.,\n",
       "         0.,  48.,  80., 384.,   0., 320., 592., 432., 816., 272., 512.,\n",
       "       304., 288., 384., 688.,  16., 512., 688., 784., 352., 528., 352.,\n",
       "       208., 544., 304., 800., 336.,  32., 304.,   0.,   0., 288., 800.,\n",
       "       656.,  32., 848.,   0., 560., 272.,  16., 400.,  16., 800., 800.,\n",
       "       576.,  16.,  16., 480.,  64.,  16.,  48.,  32., 336.,  64., 576.,\n",
       "       224.])"
      ]
     },
     "execution_count": 9,
     "metadata": {},
     "output_type": "execute_result"
    }
   ],
   "source": [
    "loc_error_wbs"
   ]
  },
  {
   "cell_type": "code",
   "execution_count": 10,
   "metadata": {
    "colab": {
     "base_uri": "https://localhost:8080/"
    },
    "executionInfo": {
     "elapsed": 15,
     "status": "ok",
     "timestamp": 1659341160582,
     "user": {
      "displayName": "Wanshan Li",
      "userId": "04763723389758163402"
     },
     "user_tz": 240
    },
    "id": "Kyi5K_w8JBWt",
    "outputId": "5a1f3638-6d93-43d8-ef5a-110b6947ab18"
   },
   "outputs": [
    {
     "data": {
      "text/plain": [
       "[[784, 1152, 1568, 1792, 2016, 2352],\n",
       " [896, 1600, 2048, 2432],\n",
       " [800, 1264, 1568, 2432],\n",
       " [384, 800, 1648, 2368],\n",
       " [144, 400, 816, 1376, 1600, 2384, 2640],\n",
       " [800, 1600, 2400, 2784],\n",
       " [800, 1600, 2400],\n",
       " [800, 1600, 2400],\n",
       " [800, 1440, 1600, 2384, 2848],\n",
       " [880, 1248, 1456, 2400],\n",
       " [736, 1600, 1776, 2400, 2576],\n",
       " [784, 1216, 1392, 1600, 2064, 2400],\n",
       " [784, 1616, 2560],\n",
       " [816, 1600, 1872, 2400],\n",
       " [752, 1600, 2176, 2416],\n",
       " [784, 992, 1600, 2400, 2832],\n",
       " [800, 1056, 1632, 2032, 2400, 2864],\n",
       " [640, 800, 1600, 2432, 2944],\n",
       " [528, 800, 1552, 2224, 2400],\n",
       " [1632, 2400],\n",
       " [800, 1648, 2384],\n",
       " [800, 1600, 2400],\n",
       " [784, 1600, 1792, 2400],\n",
       " [800, 2400],\n",
       " [800, 1616, 1872, 2272],\n",
       " [816, 2400],\n",
       " [800, 1600, 2400],\n",
       " [416, 800, 1616, 1856, 2112, 2416],\n",
       " [800, 1648, 2720, 2896],\n",
       " [800, 1616, 1920, 2400],\n",
       " [800, 1600, 2400],\n",
       " [816, 1600, 1792, 2400, 2608],\n",
       " [1632, 2400],\n",
       " [224, 800, 1600, 2368, 2992],\n",
       " [576, 800, 1600, 2112, 2416],\n",
       " [1600, 2400],\n",
       " [800, 1328, 1600, 2416],\n",
       " [592, 784, 1600, 2400, 3040],\n",
       " [816, 1248, 1568, 2080, 2432, 2592],\n",
       " [416, 800, 1600, 2400, 2944],\n",
       " [144, 320, 800, 1392, 1568, 2416],\n",
       " [800, 1616, 2432],\n",
       " [800, 1600, 2400],\n",
       " [256, 656, 816, 1056, 1600, 2400],\n",
       " [800, 1600, 2400],\n",
       " [816, 1648, 2400],\n",
       " [800, 1600, 2480],\n",
       " [512, 800, 1216, 1600, 2400, 2768],\n",
       " [800, 1600, 2400],\n",
       " [800, 1120, 1616, 2080, 2416],\n",
       " [272, 800, 1024, 1616, 2400, 2624, 2992],\n",
       " [800, 1328, 1600, 1904, 2384, 2624, 2832],\n",
       " [1616, 2384],\n",
       " [752, 1600, 2400, 2672],\n",
       " [624, 800, 1136, 1328, 1616, 2400, 2720, 2912],\n",
       " [784, 1408, 1600, 2096, 2400],\n",
       " [640, 800, 1584, 2400, 2688],\n",
       " [816, 1184, 1632, 1872, 2432],\n",
       " [288, 640, 800, 1440, 2400, 3088],\n",
       " [800, 1616, 2400],\n",
       " [800, 1600, 2384, 2912],\n",
       " [112, 800, 1584, 1904, 2400],\n",
       " [1584, 2448],\n",
       " [800, 1248, 1584, 1904, 2384],\n",
       " [800, 1568, 2384, 2752, 2928],\n",
       " [800, 1248, 1600, 2400],\n",
       " [800, 1632, 1808, 2480],\n",
       " [256, 560, 784, 1584, 2416],\n",
       " [800, 1600, 1872, 2512, 2704],\n",
       " [1600, 2400],\n",
       " [464, 1504, 2240, 2400],\n",
       " [800, 1584, 2432],\n",
       " [752, 1104, 1408, 1600, 2448],\n",
       " [800, 1600, 2400],\n",
       " [800, 1600, 2400],\n",
       " [800, 1728, 2384, 2688],\n",
       " [784, 2400],\n",
       " [784, 2256],\n",
       " [768, 1600, 2400],\n",
       " [1648, 2400],\n",
       " [800, 1600, 2400],\n",
       " [240, 768, 1024, 1600, 1824, 2400, 2704],\n",
       " [768, 1072, 1600, 2400, 2560],\n",
       " [816, 1600, 2400],\n",
       " [800, 1200, 1440, 1600, 2400],\n",
       " [784, 1600, 2400],\n",
       " [1600, 2400],\n",
       " [736, 2400],\n",
       " [736, 1568, 1808, 2400, 2976],\n",
       " [800, 1600, 2384],\n",
       " [816, 1600, 2400],\n",
       " [672, 848, 1584, 2400, 2704, 2880],\n",
       " [800, 1536, 2400],\n",
       " [800, 1584, 2400],\n",
       " [768, 1600, 2448],\n",
       " [800, 1616, 2432],\n",
       " [752, 1136, 1600, 2400],\n",
       " [768, 1536, 2400],\n",
       " [224, 800, 1600, 2368, 2576],\n",
       " [800, 1600, 2384, 2624]]"
      ]
     },
     "execution_count": 10,
     "metadata": {},
     "output_type": "execute_result"
    }
   ],
   "source": [
    "cp_best_list"
   ]
  },
  {
   "cell_type": "code",
   "execution_count": 11,
   "metadata": {
    "executionInfo": {
     "elapsed": 13,
     "status": "ok",
     "timestamp": 1659341160583,
     "user": {
      "displayName": "Wanshan Li",
      "userId": "04763723389758163402"
     },
     "user_tz": 240
    },
    "id": "JUnKEsc4vGd0"
   },
   "outputs": [],
   "source": [
    "import pickle\n",
    "with open(path + 'wbs_n' + str(n) + '_Delta' + str(Delta) + '_K' + str(T - 1) + '_grid' + str(grid_n) + '_sub' + str(int(100 * sub)) + '.pickle', 'wb') as f:\n",
    "    pickle.dump([beta_list, cp_best_list, param_best_list, loc_error_wbs, run_time_wbs, K_wbs], f)"
   ]
  },
  {
   "cell_type": "code",
   "execution_count": 11,
   "metadata": {
    "executionInfo": {
     "elapsed": 13,
     "status": "ok",
     "timestamp": 1659341160583,
     "user": {
      "displayName": "Wanshan Li",
      "userId": "04763723389758163402"
     },
     "user_tz": 240
    },
    "id": "ZYnLxRuSyBwY"
   },
   "outputs": [],
   "source": []
  },
  {
   "cell_type": "code",
   "execution_count": 12,
   "metadata": {
    "colab": {
     "base_uri": "https://localhost:8080/"
    },
    "executionInfo": {
     "elapsed": 13,
     "status": "ok",
     "timestamp": 1659341160584,
     "user": {
      "displayName": "Wanshan Li",
      "userId": "04763723389758163402"
     },
     "user_tz": 240
    },
    "id": "zLInlly5Wwwn",
    "outputId": "6ab132e5-bbde-4363-de38-0166853ab241"
   },
   "outputs": [
    {
     "name": "stdout",
     "output_type": "stream",
     "text": [
      "avg loc error: 349.6, avg time: 141.81631350040436\n",
      "std loc error: 261.77853235129885, std time: 17.184563229145464\n",
      "K < K*: 13, K = K*: 28, K > K*: 59\n"
     ]
    }
   ],
   "source": [
    "loc_error_wbs[loc_error_wbs > (T // 2) * Delta] = (T // 2) * Delta\n",
    "\n",
    "print(\"avg loc error: {0}, avg time: {1}\".format(loc_error_wbs.mean(), run_time_wbs.mean()))\n",
    "print(\"std loc error: {0}, std time: {1}\".format(loc_error_wbs.std(), run_time_wbs.std()))\n",
    "print('K < K*: {0}, K = K*: {1}, K > K*: {2}'.format(sum(K_wbs < T - 1), sum(K_wbs == T - 1), sum(K_wbs > T - 1)))"
   ]
  },
  {
   "cell_type": "code",
   "execution_count": null,
   "metadata": {
    "id": "Uk33W0F59mzH"
   },
   "outputs": [],
   "source": []
  }
 ],
 "metadata": {
  "colab": {
   "collapsed_sections": [],
   "name": "WBS_n20_Delta800_K3_sub75.ipynb",
   "provenance": []
  },
  "kernelspec": {
   "display_name": "Python 3",
   "language": "python",
   "name": "python3"
  },
  "language_info": {
   "codemirror_mode": {
    "name": "ipython",
    "version": 3
   },
   "file_extension": ".py",
   "mimetype": "text/x-python",
   "name": "python",
   "nbconvert_exporter": "python",
   "pygments_lexer": "ipython3",
   "version": "3.7.4"
  }
 },
 "nbformat": 4,
 "nbformat_minor": 1
}
