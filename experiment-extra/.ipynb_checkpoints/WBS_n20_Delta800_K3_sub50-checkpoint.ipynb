{
 "cells": [
  {
   "cell_type": "code",
   "execution_count": 1,
   "metadata": {
    "colab": {
     "base_uri": "https://localhost:8080/"
    },
    "executionInfo": {
     "elapsed": 15473,
     "status": "ok",
     "timestamp": 1659327071183,
     "user": {
      "displayName": "Wanshan Li",
      "userId": "04763723389758163402"
     },
     "user_tz": 240
    },
    "id": "im-zBYvoLM2x",
    "outputId": "fecd3b04-5def-4249-947a-73a58c664f42"
   },
   "outputs": [
    {
     "name": "stdout",
     "output_type": "stream",
     "text": [
      "Mounted at /content/drive\n"
     ]
    }
   ],
   "source": [
    "from google.colab import drive\n",
    "drive.mount('/content/drive')"
   ]
  },
  {
   "cell_type": "code",
   "execution_count": 2,
   "metadata": {
    "executionInfo": {
     "elapsed": 4,
     "status": "ok",
     "timestamp": 1659327071184,
     "user": {
      "displayName": "Wanshan Li",
      "userId": "04763723389758163402"
     },
     "user_tz": 240
    },
    "id": "yADnUZVCNYL0"
   },
   "outputs": [],
   "source": [
    "import os, sys\n",
    "sys.path.append('/content/drive/MyDrive/CPD_BT')"
   ]
  },
  {
   "cell_type": "code",
   "execution_count": 3,
   "metadata": {
    "colab": {
     "base_uri": "https://localhost:8080/"
    },
    "executionInfo": {
     "elapsed": 2491,
     "status": "ok",
     "timestamp": 1659327073672,
     "user": {
      "displayName": "Wanshan Li",
      "userId": "04763723389758163402"
     },
     "user_tz": 240
    },
    "id": "uIKHDjhONeFr",
    "outputId": "d95c9059-aa0d-4a9f-b500-dd0c265c2630"
   },
   "outputs": [
    {
     "name": "stderr",
     "output_type": "stream",
     "text": [
      "/usr/local/lib/python3.7/dist-packages/statsmodels/tools/_testing.py:19: FutureWarning: pandas.util.testing is deprecated. Use the functions in the public API at pandas.testing instead.\n",
      "  import pandas.util.testing as tm\n"
     ]
    }
   ],
   "source": [
    "import numpy as np\n",
    "import matplotlib.pyplot as plt\n",
    "import scipy.stats as stats\n",
    "import random\n",
    "\n",
    "import itertools\n",
    "\n",
    "from bt_cpd import *\n",
    "\n",
    "import time\n",
    "import bisect\n",
    "\n",
    "import pandas as pd\n",
    "\n",
    "import statsmodels.api as sm\n",
    "from sklearn import linear_model\n",
    "\n",
    "from warnings import simplefilter\n",
    "from sklearn.exceptions import ConvergenceWarning\n",
    "simplefilter(\"ignore\", category=ConvergenceWarning)"
   ]
  },
  {
   "cell_type": "code",
   "execution_count": 4,
   "metadata": {
    "colab": {
     "base_uri": "https://localhost:8080/"
    },
    "executionInfo": {
     "elapsed": 6,
     "status": "ok",
     "timestamp": 1659327073672,
     "user": {
      "displayName": "Wanshan Li",
      "userId": "04763723389758163402"
     },
     "user_tz": 240
    },
    "id": "Ns9hvspTPlgL",
    "outputId": "41a89078-8590-4a98-806d-7c609ecfa028"
   },
   "outputs": [
    {
     "name": "stdout",
     "output_type": "stream",
     "text": [
      "[ 800 1600 2400]\n"
     ]
    }
   ],
   "source": [
    "T = 4\n",
    "Delta = 800\n",
    "m = np.array([Delta] * T)\n",
    "cp_truth = np.cumsum(m)[:T-1]\n",
    "print(cp_truth)\n",
    "\n",
    "n = 20\n",
    "\n",
    "sub = 0.5"
   ]
  },
  {
   "cell_type": "code",
   "execution_count": 5,
   "metadata": {
    "executionInfo": {
     "elapsed": 664,
     "status": "ok",
     "timestamp": 1659327074332,
     "user": {
      "displayName": "Wanshan Li",
      "userId": "04763723389758163402"
     },
     "user_tz": 240
    },
    "id": "hfhGQb_ifULO"
   },
   "outputs": [],
   "source": [
    "path = '/content/drive/MyDrive/CPD_BT/experiment_random/'\n",
    "with open(path + 'data_n' + str(n) + '_Delta' + str(Delta) + '_K' + str(T - 1) + '_sub' + str(int(100 * sub)) + '.npy', 'rb') as f:\n",
    "    beta_list = np.load(f)\n",
    "    X_train_list = np.load(f)\n",
    "    Y_train_list = np.load(f)\n",
    "    X_test_list = np.load(f)\n",
    "    Y_test_list = np.load(f)"
   ]
  },
  {
   "cell_type": "code",
   "execution_count": 6,
   "metadata": {
    "colab": {
     "base_uri": "https://localhost:8080/"
    },
    "executionInfo": {
     "elapsed": 22,
     "status": "ok",
     "timestamp": 1659327074334,
     "user": {
      "displayName": "Wanshan Li",
      "userId": "04763723389758163402"
     },
     "user_tz": 240
    },
    "id": "Xqvln61AntMT",
    "outputId": "c5fcbe82-af98-493f-ca8d-f9086e53a12e"
   },
   "outputs": [
    {
     "data": {
      "text/plain": [
       "(100, 3200, 20)"
      ]
     },
     "execution_count": 6,
     "metadata": {},
     "output_type": "execute_result"
    }
   ],
   "source": [
    "X_train_list.shape"
   ]
  },
  {
   "cell_type": "code",
   "execution_count": 7,
   "metadata": {
    "colab": {
     "base_uri": "https://localhost:8080/"
    },
    "executionInfo": {
     "elapsed": 13724518,
     "status": "ok",
     "timestamp": 1659340829193,
     "user": {
      "displayName": "Wanshan Li",
      "userId": "04763723389758163402"
     },
     "user_tz": 240
    },
    "id": "Qmel4DHRxLGT",
    "outputId": "c50c8255-0cd9-405d-b04e-f3be9a4e9757"
   },
   "outputs": [
    {
     "name": "stdout",
     "output_type": "stream",
     "text": [
      "0\n",
      "1\n",
      "2\n",
      "3\n",
      "4\n",
      "5\n",
      "6\n",
      "7\n",
      "8\n",
      "9\n",
      "10\n",
      "11\n",
      "12\n",
      "13\n",
      "14\n",
      "15\n",
      "16\n",
      "17\n",
      "18\n",
      "19\n",
      "20\n",
      "21\n",
      "22\n",
      "23\n",
      "24\n",
      "25\n",
      "26\n",
      "27\n",
      "28\n",
      "29\n",
      "30\n",
      "31\n",
      "32\n",
      "33\n",
      "34\n",
      "35\n",
      "36\n",
      "37\n",
      "38\n",
      "39\n",
      "40\n",
      "41\n",
      "42\n",
      "43\n",
      "44\n",
      "45\n",
      "46\n",
      "47\n",
      "48\n",
      "49\n",
      "50\n",
      "51\n",
      "52\n",
      "53\n",
      "54\n",
      "55\n",
      "56\n",
      "57\n",
      "58\n",
      "59\n",
      "60\n",
      "61\n",
      "62\n",
      "63\n",
      "64\n",
      "65\n",
      "66\n",
      "67\n",
      "68\n",
      "69\n",
      "70\n",
      "71\n",
      "72\n",
      "73\n",
      "74\n",
      "75\n",
      "76\n",
      "77\n",
      "78\n",
      "79\n",
      "80\n",
      "81\n",
      "82\n",
      "83\n",
      "84\n",
      "85\n",
      "86\n",
      "87\n",
      "88\n",
      "89\n",
      "90\n",
      "91\n",
      "92\n",
      "93\n",
      "94\n",
      "95\n",
      "96\n",
      "97\n",
      "98\n",
      "99\n",
      "---------- wbs -----------\n",
      "avg loc error: 407.52, avg time: 137.2441203761101\n",
      "std loc error: 336.79490732491786, std time: 21.65641279747018\n",
      "K < K*: 10, K = K*: 21, K > K*: 69\n"
     ]
    }
   ],
   "source": [
    "np.random.seed(0)\n",
    "\n",
    "m_intervals = 50\n",
    "grid_n = 200\n",
    "gamma_list = [20, 40]\n",
    "lam_list = [0.1]\n",
    "\n",
    "nt = Delta * T\n",
    "B = 100\n",
    "\n",
    "run_time_wbs = np.zeros(B)\n",
    "loc_error_wbs = np.zeros(B)\n",
    "K_wbs = np.zeros(B)\n",
    "\n",
    "cp_best_list = []\n",
    "param_best_list = []\n",
    "\n",
    "for b in range(B):\n",
    "    X_train = X_train_list[b]\n",
    "    Y_train = Y_train_list[b]\n",
    "    X_test = X_test_list[b]\n",
    "    Y_test = Y_test_list[b]\n",
    "\n",
    "    start_time = time.time()\n",
    "    wbs_fit = wbs_cv_bt(m_intervals, grid_n, lam_list, gamma_list, smooth = 5, buffer = 5)\n",
    "    res = wbs_fit.fit((X_train, Y_train), (X_test, Y_test))\n",
    "    cp_best, cp_val, cusum_val, threshold_best, grid = res   \n",
    "    run_time_wbs[b] = time.time() - start_time\n",
    "    loc_error_wbs[b] = cp_distance(cp_best, cp_truth)\n",
    "    K_wbs[b] = len(cp_best)\n",
    "\n",
    "    cp_best_list.append(cp_best)\n",
    "    param_best_list.append(threshold_best)\n",
    "\n",
    "    print(b)\n",
    "\n",
    "print('---------- wbs -----------')\n",
    "print(\"avg loc error: {0}, avg time: {1}\".format(loc_error_wbs.mean(), run_time_wbs.mean()))\n",
    "print(\"std loc error: {0}, std time: {1}\".format(loc_error_wbs.std(), run_time_wbs.std()))\n",
    "print('K < K*: {0}, K = K*: {1}, K > K*: {2}'.format(sum(K_wbs < T - 1), sum(K_wbs == T - 1), sum(K_wbs > T - 1)))"
   ]
  },
  {
   "cell_type": "code",
   "execution_count": 8,
   "metadata": {
    "colab": {
     "base_uri": "https://localhost:8080/"
    },
    "executionInfo": {
     "elapsed": 12,
     "status": "ok",
     "timestamp": 1659340829193,
     "user": {
      "displayName": "Wanshan Li",
      "userId": "04763723389758163402"
     },
     "user_tz": 240
    },
    "id": "Qe8Pn9foJDJQ",
    "outputId": "fa2f8815-1cf2-46b9-9657-04ff4cef172e"
   },
   "outputs": [
    {
     "data": {
      "text/plain": [
       "array([ 368.,  416.,  208.,  256.,  416.,   16.,  560.,  352., 1632.,\n",
       "         16.,  368.,  224.,   80.,    0.,  272.,  672.,  368.,  336.,\n",
       "         32.,  224.,  208.,  400.,  576.,  208.,  400.,  272.,  304.,\n",
       "        448.,  272.,  592.,  560.,  256.,  816.,  384.,  272., 1600.,\n",
       "        448.,  368.,   32.,  400., 1568.,  400.,   48.,  320.,  352.,\n",
       "        416.,  784.,  336.,  688.,  272.,  256.,  224.,  224.,  496.,\n",
       "        784.,  352.,   96.,  800.,  416.,  256.,   80.,  240.,  336.,\n",
       "        288.,  656.,  608.,  352.,   32., 1600.,  368.,  624.,   16.,\n",
       "        560.,  224.,  400.,   80.,  256.,    0.,  240.,  336.,  544.,\n",
       "        640.,  608.,  128.,  560.,   48.,  336.,  416.,  144.,  400.,\n",
       "         16.,  784.,   16.,  496.,  304.,  464.,  368.,  544., 1552.,\n",
       "        368.])"
      ]
     },
     "execution_count": 8,
     "metadata": {},
     "output_type": "execute_result"
    }
   ],
   "source": [
    "loc_error_wbs"
   ]
  },
  {
   "cell_type": "code",
   "execution_count": 9,
   "metadata": {
    "colab": {
     "base_uri": "https://localhost:8080/"
    },
    "executionInfo": {
     "elapsed": 10,
     "status": "ok",
     "timestamp": 1659340829194,
     "user": {
      "displayName": "Wanshan Li",
      "userId": "04763723389758163402"
     },
     "user_tz": 240
    },
    "id": "Kyi5K_w8JBWt",
    "outputId": "eb4e9967-c315-4603-ce9e-7aae1f37ae15"
   },
   "outputs": [
    {
     "data": {
      "text/plain": [
       "[[432, 592, 832, 1584, 2384],\n",
       " [384, 592, 800, 1840, 2288, 2656],\n",
       " [800, 1616, 1808, 2400, 2560],\n",
       " [800, 1600, 2464, 2656],\n",
       " [800, 1504, 2416, 2816],\n",
       " [800, 1616, 2400],\n",
       " [768, 1600, 2384, 2960],\n",
       " [816, 1600, 2048],\n",
       " [2432],\n",
       " [784, 1600, 2400],\n",
       " [624, 800, 1232, 1584, 2400, 2640],\n",
       " [640, 800, 1024, 1600, 1808, 2400],\n",
       " [720, 1664, 2384],\n",
       " [800, 1600, 2400],\n",
       " [784, 1552, 2400, 2672],\n",
       " [800, 1600, 2432, 3072],\n",
       " [800, 1040, 1584, 1968, 2400],\n",
       " [640, 816, 1136, 1312, 2416],\n",
       " [800, 1568, 2416],\n",
       " [752, 1504, 1824, 2400],\n",
       " [800, 1008, 1632, 2368],\n",
       " [784, 1520, 2432, 2800],\n",
       " [224, 448, 848, 1312, 1520, 2384],\n",
       " [816, 1008, 1584, 2192, 2416],\n",
       " [800, 1648, 1968, 2336, 2560, 2800],\n",
       " [800, 1600, 1808, 2128],\n",
       " [784, 1104, 1584, 2400],\n",
       " [960, 1632, 2384, 2848],\n",
       " [816, 1072, 1360, 1600, 2384, 2608],\n",
       " [208, 816, 1568, 2480, 2864],\n",
       " [800, 1344, 1712, 2064, 2400, 2960],\n",
       " [800, 1600, 2400, 2656],\n",
       " [1616, 2496],\n",
       " [416, 832, 1280, 1664, 2400, 2768],\n",
       " [864, 1392, 1600, 1840, 2128, 2416],\n",
       " [2400],\n",
       " [352, 704, 1232, 1392, 1616, 2400],\n",
       " [752, 992, 1680, 2176, 2384, 2768],\n",
       " [768, 1584, 2400],\n",
       " [400, 752, 1136, 1664, 2304],\n",
       " [2368],\n",
       " [400, 1312, 1616, 2384, 2688],\n",
       " [800, 1600, 2448],\n",
       " [800, 1616, 2432, 2720],\n",
       " [800, 1600, 2048, 2400, 2592],\n",
       " [464, 704, 896, 1600, 2400, 2656, 2816],\n",
       " [800, 2384],\n",
       " [864, 1568, 1760, 1936, 2464],\n",
       " [848, 1600, 2448, 2688, 3088],\n",
       " [800, 1072, 1600, 2176, 2384],\n",
       " [544, 800, 1584, 2400],\n",
       " [784, 1376, 1600, 2176, 2400],\n",
       " [800, 1376, 1584, 2400, 2624],\n",
       " [912, 2064, 2272, 2896],\n",
       " [816, 2400],\n",
       " [448, 800, 1456, 2448, 2640],\n",
       " [752, 1600, 2304],\n",
       " [800, 2496],\n",
       " [768, 1712, 2816],\n",
       " [800, 1344, 1600, 2400],\n",
       " [784, 1600, 2320],\n",
       " [784, 1568, 2160, 2368],\n",
       " [608, 1136, 1648, 2352, 2704],\n",
       " [512, 1056, 1536, 2384],\n",
       " [144, 736, 1648, 2176, 2352],\n",
       " [320, 496, 784, 1296, 1680, 1840, 2256, 2416, 3008],\n",
       " [800, 1584, 2048, 2496],\n",
       " [800, 1600, 2368],\n",
       " [2400],\n",
       " [608, 800, 1632, 2112, 2352, 2768],\n",
       " [272, 512, 720, 992, 1600, 1968, 2400, 3024],\n",
       " [816, 1616, 2416],\n",
       " [800, 2160, 2384],\n",
       " [800, 1376, 1552, 2400],\n",
       " [688, 1200, 1600, 2352],\n",
       " [816, 1584, 2320],\n",
       " [752, 944, 1344, 1600, 2368],\n",
       " [800, 1600, 2400],\n",
       " [768, 1616, 2400, 2640],\n",
       " [800, 992, 1264, 1648, 2400],\n",
       " [656, 816, 1600, 2400, 2944],\n",
       " [800, 1600, 2128, 2368, 3040],\n",
       " [192, 528, 832, 1008, 1184, 1616, 1808, 2400],\n",
       " [816, 1568, 1728, 2432],\n",
       " [240, 784, 1600, 2384],\n",
       " [816, 1600, 2352],\n",
       " [720, 1264, 1616, 2400],\n",
       " [624, 1072, 1600, 2816],\n",
       " [944, 1616, 2416],\n",
       " [608, 800, 1600, 2400, 2800],\n",
       " [816, 1600, 2384],\n",
       " [816, 2464],\n",
       " [784, 1584, 2400],\n",
       " [304, 576, 832, 1600, 2304, 2704],\n",
       " [816, 1600, 2096, 2400],\n",
       " [336, 1568, 2400],\n",
       " [816, 1520, 2432, 2592, 2768],\n",
       " [464, 800, 1600, 2336, 2944],\n",
       " [2352],\n",
       " [800, 1600, 2032, 2320]]"
      ]
     },
     "execution_count": 9,
     "metadata": {},
     "output_type": "execute_result"
    }
   ],
   "source": [
    "cp_best_list"
   ]
  },
  {
   "cell_type": "code",
   "execution_count": 10,
   "metadata": {
    "executionInfo": {
     "elapsed": 7,
     "status": "ok",
     "timestamp": 1659340829194,
     "user": {
      "displayName": "Wanshan Li",
      "userId": "04763723389758163402"
     },
     "user_tz": 240
    },
    "id": "JUnKEsc4vGd0"
   },
   "outputs": [],
   "source": [
    "import pickle\n",
    "with open(path + 'wbs_n' + str(n) + '_Delta' + str(Delta) + '_K' + str(T - 1) + '_grid' + str(grid_n) + '_sub' + str(int(100 * sub)) + '.pickle', 'wb') as f:\n",
    "    pickle.dump([beta_list, cp_best_list, param_best_list, loc_error_wbs, run_time_wbs, K_wbs], f)"
   ]
  },
  {
   "cell_type": "code",
   "execution_count": null,
   "metadata": {
    "id": "ZYnLxRuSyBwY"
   },
   "outputs": [],
   "source": []
  },
  {
   "cell_type": "code",
   "execution_count": 11,
   "metadata": {
    "colab": {
     "base_uri": "https://localhost:8080/"
    },
    "executionInfo": {
     "elapsed": 7,
     "status": "ok",
     "timestamp": 1659340829194,
     "user": {
      "displayName": "Wanshan Li",
      "userId": "04763723389758163402"
     },
     "user_tz": 240
    },
    "id": "zLInlly5Wwwn",
    "outputId": "68cae87b-c3be-472f-b9db-febf9f6248c6"
   },
   "outputs": [
    {
     "name": "stdout",
     "output_type": "stream",
     "text": [
      "avg loc error: 407.2, avg time: 137.2441203761101\n",
      "std loc error: 335.6445739171125, std time: 21.65641279747018\n",
      "K < K*: 10, K = K*: 21, K > K*: 69\n"
     ]
    }
   ],
   "source": [
    "loc_error_wbs[loc_error_wbs > (T // 2) * Delta] = (T // 2) * Delta\n",
    "\n",
    "print(\"avg loc error: {0}, avg time: {1}\".format(loc_error_wbs.mean(), run_time_wbs.mean()))\n",
    "print(\"std loc error: {0}, std time: {1}\".format(loc_error_wbs.std(), run_time_wbs.std()))\n",
    "print('K < K*: {0}, K = K*: {1}, K > K*: {2}'.format(sum(K_wbs < T - 1), sum(K_wbs == T - 1), sum(K_wbs > T - 1)))"
   ]
  },
  {
   "cell_type": "code",
   "execution_count": null,
   "metadata": {
    "id": "Uk33W0F59mzH"
   },
   "outputs": [],
   "source": []
  }
 ],
 "metadata": {
  "colab": {
   "collapsed_sections": [],
   "name": "WBS_n20_Delta800_K3_sub50.ipynb",
   "provenance": []
  },
  "kernelspec": {
   "display_name": "Python 3",
   "language": "python",
   "name": "python3"
  },
  "language_info": {
   "codemirror_mode": {
    "name": "ipython",
    "version": 3
   },
   "file_extension": ".py",
   "mimetype": "text/x-python",
   "name": "python",
   "nbconvert_exporter": "python",
   "pygments_lexer": "ipython3",
   "version": "3.7.4"
  }
 },
 "nbformat": 4,
 "nbformat_minor": 1
}
