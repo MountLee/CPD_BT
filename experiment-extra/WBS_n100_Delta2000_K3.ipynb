{
 "cells": [
  {
   "cell_type": "code",
   "execution_count": 1,
   "metadata": {
    "colab": {
     "base_uri": "https://localhost:8080/"
    },
    "id": "im-zBYvoLM2x",
    "outputId": "397eedcd-a594-4718-f149-9dc5e2d0049c"
   },
   "outputs": [
    {
     "name": "stdout",
     "output_type": "stream",
     "text": [
      "Mounted at /content/drive\n"
     ]
    }
   ],
   "source": [
    "from google.colab import drive\n",
    "drive.mount('/content/drive')"
   ]
  },
  {
   "cell_type": "code",
   "execution_count": 2,
   "metadata": {
    "id": "yADnUZVCNYL0"
   },
   "outputs": [],
   "source": [
    "import os, sys\n",
    "sys.path.append('/content/drive/MyDrive/CPD_BT')"
   ]
  },
  {
   "cell_type": "code",
   "execution_count": 3,
   "metadata": {
    "colab": {
     "base_uri": "https://localhost:8080/"
    },
    "id": "uIKHDjhONeFr",
    "outputId": "3ae792b0-5e7f-4095-806c-58ba511fb9da"
   },
   "outputs": [
    {
     "name": "stderr",
     "output_type": "stream",
     "text": [
      "/usr/local/lib/python3.7/dist-packages/statsmodels/tools/_testing.py:19: FutureWarning: pandas.util.testing is deprecated. Use the functions in the public API at pandas.testing instead.\n",
      "  import pandas.util.testing as tm\n"
     ]
    }
   ],
   "source": [
    "import numpy as np\n",
    "import matplotlib.pyplot as plt\n",
    "import scipy.stats as stats\n",
    "import random\n",
    "\n",
    "import itertools\n",
    "\n",
    "from bt_cpd import *\n",
    "\n",
    "import time\n",
    "import bisect\n",
    "\n",
    "import pandas as pd\n",
    "\n",
    "import statsmodels.api as sm\n",
    "from sklearn import linear_model\n",
    "\n",
    "from warnings import simplefilter\n",
    "from sklearn.exceptions import ConvergenceWarning\n",
    "simplefilter(\"ignore\", category=ConvergenceWarning)"
   ]
  },
  {
   "cell_type": "code",
   "execution_count": 4,
   "metadata": {
    "colab": {
     "base_uri": "https://localhost:8080/"
    },
    "id": "Ns9hvspTPlgL",
    "outputId": "c17b8f7e-8c51-4b92-9ff0-dd4c579328ad"
   },
   "outputs": [
    {
     "name": "stdout",
     "output_type": "stream",
     "text": [
      "[2000 4000 6000]\n"
     ]
    }
   ],
   "source": [
    "T = 4\n",
    "Delta = 2000\n",
    "m = np.array([Delta] * T)\n",
    "cp_truth = np.cumsum(m)[:T-1]\n",
    "print(cp_truth)\n",
    "\n",
    "n = 100"
   ]
  },
  {
   "cell_type": "code",
   "execution_count": 5,
   "metadata": {
    "id": "hfhGQb_ifULO"
   },
   "outputs": [],
   "source": [
    "path = '/content/drive/MyDrive/CPD_BT/experiment_random/'\n",
    "with open(path + 'data_n' + str(n) + '_Delta' + str(Delta) + '_K' + str(T - 1) + '.npy', 'rb') as f:\n",
    "    beta_list = np.load(f)\n",
    "    X_train_list = np.load(f)\n",
    "    Y_train_list = np.load(f)\n",
    "    X_test_list = np.load(f)\n",
    "    Y_test_list = np.load(f)"
   ]
  },
  {
   "cell_type": "code",
   "execution_count": 6,
   "metadata": {
    "colab": {
     "base_uri": "https://localhost:8080/"
    },
    "id": "dNqKBzsPJtyC",
    "outputId": "b47521b6-30fd-4ffc-996f-8b179e5d76c9"
   },
   "outputs": [
    {
     "data": {
      "text/plain": [
       "(100, 8000, 100)"
      ]
     },
     "execution_count": 6,
     "metadata": {},
     "output_type": "execute_result"
    }
   ],
   "source": [
    "X_train_list.shape"
   ]
  },
  {
   "cell_type": "code",
   "execution_count": 7,
   "metadata": {
    "colab": {
     "base_uri": "https://localhost:8080/"
    },
    "id": "Qmel4DHRxLGT",
    "outputId": "7922ebde-9641-472a-8e01-05963caac096"
   },
   "outputs": [
    {
     "name": "stdout",
     "output_type": "stream",
     "text": [
      "0\n",
      "1\n",
      "2\n",
      "3\n",
      "4\n",
      "5\n",
      "6\n",
      "7\n",
      "8\n",
      "9\n",
      "10\n",
      "11\n",
      "12\n",
      "13\n",
      "14\n",
      "15\n",
      "16\n",
      "17\n",
      "18\n",
      "19\n",
      "20\n",
      "21\n",
      "22\n",
      "23\n",
      "24\n",
      "25\n",
      "26\n",
      "27\n",
      "28\n",
      "29\n",
      "30\n",
      "31\n",
      "32\n",
      "33\n",
      "34\n",
      "35\n",
      "36\n",
      "37\n",
      "38\n",
      "39\n",
      "40\n",
      "41\n",
      "42\n",
      "43\n",
      "44\n",
      "45\n",
      "46\n",
      "47\n",
      "48\n",
      "49\n",
      "50\n",
      "51\n",
      "52\n",
      "53\n",
      "54\n",
      "55\n",
      "56\n",
      "57\n",
      "58\n",
      "59\n",
      "60\n",
      "61\n",
      "62\n",
      "63\n",
      "64\n",
      "65\n",
      "66\n",
      "67\n",
      "68\n",
      "69\n",
      "70\n",
      "71\n",
      "72\n",
      "73\n",
      "74\n",
      "75\n",
      "76\n",
      "77\n",
      "78\n",
      "79\n",
      "80\n",
      "81\n",
      "82\n",
      "83\n",
      "84\n",
      "85\n",
      "86\n",
      "87\n",
      "88\n",
      "89\n",
      "90\n",
      "91\n",
      "92\n",
      "93\n",
      "94\n",
      "95\n",
      "96\n",
      "97\n",
      "98\n",
      "99\n",
      "---------- wbs -----------\n",
      "avg loc error: 459.36, avg time: 410.5220726919174\n",
      "std loc error: 512.7858718802615, std time: 48.67291383007389\n",
      "K < K*: 0, K = K*: 53, K > K*: 47\n"
     ]
    }
   ],
   "source": [
    "np.random.seed(0)\n",
    "\n",
    "m_intervals = 50\n",
    "grid_n = 250\n",
    "gamma_list = [80, 100]\n",
    "lam_list = [0.1]\n",
    "\n",
    "nt = Delta * T\n",
    "B = 100\n",
    "\n",
    "run_time_wbs = np.zeros(B)\n",
    "loc_error_wbs = np.zeros(B)\n",
    "K_wbs = np.zeros(B)\n",
    "\n",
    "cp_best_list = []\n",
    "param_best_list = []\n",
    "\n",
    "for b in range(B):\n",
    "    X_train = X_train_list[b]\n",
    "    Y_train = Y_train_list[b]\n",
    "    X_test = X_test_list[b]\n",
    "    Y_test = Y_test_list[b]\n",
    "\n",
    "    start_time = time.time()\n",
    "    wbs_fit = wbs_cv_bt(m_intervals, grid_n, lam_list, gamma_list, smooth = 5, buffer = 5)\n",
    "    res = wbs_fit.fit((X_train, Y_train), (X_test, Y_test))\n",
    "    cp_best, cp_val, cusum_val, threshold_best, grid = res   \n",
    "    run_time_wbs[b] = time.time() - start_time\n",
    "    loc_error_wbs[b] = cp_distance(cp_best, cp_truth)\n",
    "    K_wbs[b] = len(cp_best)\n",
    "\n",
    "    cp_best_list.append(cp_best)\n",
    "    param_best_list.append(threshold_best)\n",
    "\n",
    "    print(b)\n",
    "\n",
    "print('---------- wbs -----------')\n",
    "print(\"avg loc error: {0}, avg time: {1}\".format(loc_error_wbs.mean(), run_time_wbs.mean()))\n",
    "print(\"std loc error: {0}, std time: {1}\".format(loc_error_wbs.std(), run_time_wbs.std()))\n",
    "print('K < K*: {0}, K = K*: {1}, K > K*: {2}'.format(sum(K_wbs < T - 1), sum(K_wbs == T - 1), sum(K_wbs > T - 1)))"
   ]
  },
  {
   "cell_type": "code",
   "execution_count": 8,
   "metadata": {
    "colab": {
     "base_uri": "https://localhost:8080/"
    },
    "id": "Qe8Pn9foJDJQ",
    "outputId": "325b3887-b037-427f-8559-d4646752703c"
   },
   "outputs": [
    {
     "data": {
      "text/plain": [
       "array([ 896.,   16.,   16.,   16.,   16., 1456.,  864.,  576.,   16.,\n",
       "         16.,   16.,  848.,   16.,   16.,  384., 1328.,   48.,  928.,\n",
       "       1360.,  848.,   16.,   48.,  688.,  688.,   32.,   48.,   16.,\n",
       "       1040.,   32., 1616., 1008.,   16.,   48.,   16.,   16.,   32.,\n",
       "         16.,  464.,  624.,  992.,  784.,   16.,   96., 1104.,   16.,\n",
       "        912.,  768., 1552., 1264.,   16.,   16.,   16.,   16.,   16.,\n",
       "         16.,  624.,   48.,   16.,  768.,   48.,   48.,   16., 1104.,\n",
       "         16.,   32., 1712., 1104.,   48.,  112.,  656.,  592., 1136.,\n",
       "         16.,   64., 1648.,   16.,  720.,   16.,  960.,   48.,  864.,\n",
       "         32.,  944.,   48.,   16.,  752.,  464.,   16.,  528.,  704.,\n",
       "         16.,  608.,   48.,   16.,  944., 1520.,  912.,  752.,   16.,\n",
       "       1424.])"
      ]
     },
     "execution_count": 8,
     "metadata": {},
     "output_type": "execute_result"
    }
   ],
   "source": [
    "loc_error_wbs"
   ]
  },
  {
   "cell_type": "code",
   "execution_count": 9,
   "metadata": {
    "colab": {
     "base_uri": "https://localhost:8080/"
    },
    "id": "WrC-7R1GwSx7",
    "outputId": "d6806b1d-e072-4a5d-f0dd-e95798df2fd2"
   },
   "outputs": [
    {
     "data": {
      "text/plain": [
       "[[1280, 1984, 3136, 4000, 4896, 5312, 5984],\n",
       " [2016, 4000, 6016],\n",
       " [1984, 4000, 5984],\n",
       " [2016, 4000, 6016],\n",
       " [1984, 4000, 6016],\n",
       " [544, 1984, 4000, 6016],\n",
       " [1920, 4000, 4864, 5984],\n",
       " [2016, 3424, 4032, 5984],\n",
       " [1984, 4000, 5984],\n",
       " [1984, 4000, 6016],\n",
       " [1984, 4000, 5984],\n",
       " [1984, 4000, 5504, 6080, 6848],\n",
       " [1984, 4000, 5984],\n",
       " [2016, 4000, 6016],\n",
       " [1984, 3616, 4000, 6048],\n",
       " [1984, 4000, 6016, 7328],\n",
       " [1952, 4000, 5984],\n",
       " [2016, 3488, 3968, 4928, 6016],\n",
       " [2016, 4000, 6016, 7360],\n",
       " [2176, 3392, 3904, 4384, 5152, 5952],\n",
       " [1984, 4000, 6016],\n",
       " [1952, 4000, 6016],\n",
       " [2016, 4000, 5312, 6016, 6560],\n",
       " [2016, 4000, 5984, 6688],\n",
       " [2016, 3968, 5984],\n",
       " [2016, 3968, 6048],\n",
       " [1984, 4000, 6016],\n",
       " [2016, 4000, 5984, 6528, 7040],\n",
       " [1984, 4032, 5984],\n",
       " [1248, 1984, 4000, 6016, 7616],\n",
       " [1984, 3168, 4000, 6048, 7008],\n",
       " [2016, 4000, 6016],\n",
       " [1984, 4000, 5952],\n",
       " [1984, 4000, 6016],\n",
       " [1984, 4000, 5984],\n",
       " [1984, 3968, 5984],\n",
       " [2016, 4000, 5984],\n",
       " [2080, 2464, 4000, 6016],\n",
       " [1952, 4000, 6048, 6624],\n",
       " [2016, 4000, 4992, 6016],\n",
       " [2048, 2784, 4000, 4736, 6080],\n",
       " [1984, 4000, 5984],\n",
       " [1984, 3904, 6016],\n",
       " [2016, 4000, 5984, 7104],\n",
       " [1984, 4000, 5984],\n",
       " [1984, 2912, 4000, 6016, 6912],\n",
       " [1984, 2624, 3232, 4000, 5984],\n",
       " [1952, 4032, 4928, 5920, 6784, 7552],\n",
       " [2016, 4000, 5568, 6016, 7264],\n",
       " [2016, 4000, 5984],\n",
       " [2016, 4000, 5984],\n",
       " [1984, 4000, 6016],\n",
       " [1984, 4000, 6016],\n",
       " [1984, 4000, 5984],\n",
       " [2016, 4000, 5984],\n",
       " [1984, 2624, 4000, 6016],\n",
       " [2016, 4000, 5952],\n",
       " [2016, 4000, 6016],\n",
       " [1984, 4064, 4768, 5984],\n",
       " [2048, 4000, 6016],\n",
       " [1984, 4000, 5952],\n",
       " [2016, 4000, 5984],\n",
       " [2016, 4032, 5344, 5984, 6464, 7104],\n",
       " [1984, 4000, 5984],\n",
       " [1984, 4032, 5984],\n",
       " [576, 2080, 4000, 6016, 6912, 7712],\n",
       " [2016, 4000, 6016, 7104],\n",
       " [1952, 4000, 5984],\n",
       " [1888, 4000, 6016],\n",
       " [1984, 4000, 5984, 6656],\n",
       " [1888, 4000, 6048, 6592],\n",
       " [2016, 4000, 6016, 7136],\n",
       " [2016, 4000, 6016],\n",
       " [2016, 3936, 5984],\n",
       " [512, 2016, 4000, 6016, 7040, 7648],\n",
       " [1984, 4000, 5984],\n",
       " [1984, 4000, 6016, 6720],\n",
       " [2016, 4000, 5984],\n",
       " [1984, 3040, 4000, 6016],\n",
       " [1952, 4000, 5984],\n",
       " [2048, 3136, 4000, 5152, 6048],\n",
       " [1984, 4032, 5984],\n",
       " [2016, 2944, 4000, 6016],\n",
       " [1984, 3968, 5952],\n",
       " [2016, 4000, 6016],\n",
       " [2016, 2592, 4000, 5248, 6016],\n",
       " [1536, 1952, 3584, 4032, 5984],\n",
       " [1984, 4000, 6016],\n",
       " [2016, 2528, 4000, 5984],\n",
       " [1632, 2016, 3296, 4000, 5984, 6560],\n",
       " [2016, 4000, 5984],\n",
       " [1984, 3392, 4000, 5984],\n",
       " [1984, 4000, 5952],\n",
       " [2016, 4000, 6016],\n",
       " [1664, 2016, 4000, 6016, 6944],\n",
       " [1984, 4000, 5984, 7520],\n",
       " [1984, 3904, 5984, 6912],\n",
       " [2016, 4000, 4672, 5248, 5952, 6592],\n",
       " [2016, 4000, 5984],\n",
       " [2016, 4000, 6016, 7424]]"
      ]
     },
     "execution_count": 9,
     "metadata": {},
     "output_type": "execute_result"
    }
   ],
   "source": [
    "cp_best_list"
   ]
  },
  {
   "cell_type": "code",
   "execution_count": 10,
   "metadata": {
    "id": "JUnKEsc4vGd0"
   },
   "outputs": [],
   "source": [
    "import pickle\n",
    "with open(path + 'wbs_n' + str(n) + '_Delta' + str(Delta) + '_K' + str(T - 1) + '_grid' + str(grid_n) + '.pickle', 'wb') as f:\n",
    "    pickle.dump([cp_best_list, param_best_list, loc_error_wbs, run_time_wbs, K_wbs], f)"
   ]
  },
  {
   "cell_type": "code",
   "execution_count": null,
   "metadata": {},
   "outputs": [],
   "source": []
  }
 ],
 "metadata": {
  "colab": {
   "collapsed_sections": [],
   "name": "WBS_n100_Delta2000_K3.ipynb",
   "provenance": [],
   "toc_visible": true
  },
  "kernelspec": {
   "display_name": "Python 3",
   "language": "python",
   "name": "python3"
  },
  "language_info": {
   "codemirror_mode": {
    "name": "ipython",
    "version": 3
   },
   "file_extension": ".py",
   "mimetype": "text/x-python",
   "name": "python",
   "nbconvert_exporter": "python",
   "pygments_lexer": "ipython3",
   "version": "3.7.4"
  }
 },
 "nbformat": 4,
 "nbformat_minor": 1
}
