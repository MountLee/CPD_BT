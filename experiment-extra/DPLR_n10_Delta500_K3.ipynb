{
 "cells": [
  {
   "cell_type": "code",
   "execution_count": 1,
   "metadata": {
    "colab": {
     "base_uri": "https://localhost:8080/"
    },
    "id": "im-zBYvoLM2x",
    "outputId": "7562fb66-1c7f-49b4-b26e-76c97ad21601"
   },
   "outputs": [
    {
     "name": "stdout",
     "output_type": "stream",
     "text": [
      "Drive already mounted at /content/drive; to attempt to forcibly remount, call drive.mount(\"/content/drive\", force_remount=True).\n"
     ]
    }
   ],
   "source": [
    "from google.colab import drive\n",
    "drive.mount('/content/drive')"
   ]
  },
  {
   "cell_type": "code",
   "execution_count": 2,
   "metadata": {
    "id": "yADnUZVCNYL0"
   },
   "outputs": [],
   "source": [
    "import os, sys\n",
    "sys.path.append('/content/drive/MyDrive/CPD_BT')"
   ]
  },
  {
   "cell_type": "code",
   "execution_count": 3,
   "metadata": {
    "colab": {
     "base_uri": "https://localhost:8080/"
    },
    "id": "uIKHDjhONeFr",
    "outputId": "10d8a24e-5f2b-40f2-b906-add3ac88dbb6"
   },
   "outputs": [
    {
     "name": "stderr",
     "output_type": "stream",
     "text": [
      "/usr/local/lib/python3.7/dist-packages/statsmodels/tools/_testing.py:19: FutureWarning: pandas.util.testing is deprecated. Use the functions in the public API at pandas.testing instead.\n",
      "  import pandas.util.testing as tm\n"
     ]
    }
   ],
   "source": [
    "import numpy as np\n",
    "import matplotlib.pyplot as plt\n",
    "import scipy.stats as stats\n",
    "import random\n",
    "\n",
    "import itertools\n",
    "\n",
    "from bt_cpd import *\n",
    "\n",
    "import time\n",
    "import bisect\n",
    "\n",
    "import pandas as pd\n",
    "\n",
    "import statsmodels.api as sm\n",
    "from sklearn import linear_model\n",
    "\n",
    "from warnings import simplefilter\n",
    "from sklearn.exceptions import ConvergenceWarning\n",
    "simplefilter(\"ignore\", category=ConvergenceWarning)"
   ]
  },
  {
   "cell_type": "code",
   "execution_count": 4,
   "metadata": {
    "colab": {
     "base_uri": "https://localhost:8080/"
    },
    "id": "Ns9hvspTPlgL",
    "outputId": "2c11529f-1291-41e3-c2cb-e0cb48a3cb53"
   },
   "outputs": [
    {
     "name": "stdout",
     "output_type": "stream",
     "text": [
      "[ 500 1000 1500]\n"
     ]
    }
   ],
   "source": [
    "T = 4\n",
    "Delta = 500\n",
    "m = np.array([Delta] * T)\n",
    "cp_truth = np.cumsum(m)[:T-1]\n",
    "print(cp_truth)\n",
    "\n",
    "n = 10"
   ]
  },
  {
   "cell_type": "code",
   "execution_count": 5,
   "metadata": {
    "id": "hfhGQb_ifULO"
   },
   "outputs": [],
   "source": [
    "path = '/content/drive/MyDrive/CPD_BT/experiment_random/'\n",
    "with open(path + 'data_n' + str(n) + '_Delta' + str(Delta) + '_K' + str(T - 1) + '.npy', 'rb') as f:\n",
    "    beta_list = np.load(f)\n",
    "    X_train_list = np.load(f)\n",
    "    Y_train_list = np.load(f)\n",
    "    X_test_list = np.load(f)\n",
    "    Y_test_list = np.load(f)"
   ]
  },
  {
   "cell_type": "code",
   "execution_count": 6,
   "metadata": {
    "colab": {
     "base_uri": "https://localhost:8080/"
    },
    "id": "Xqvln61AntMT",
    "outputId": "6fcc3cb4-d403-429e-d286-ea0ae867756a"
   },
   "outputs": [
    {
     "data": {
      "text/plain": [
       "(100, 2000, 10)"
      ]
     },
     "execution_count": 6,
     "metadata": {},
     "output_type": "execute_result"
    }
   ],
   "source": [
    "X_train_list.shape"
   ]
  },
  {
   "cell_type": "code",
   "execution_count": 7,
   "metadata": {
    "colab": {
     "base_uri": "https://localhost:8080/"
    },
    "id": "Qmel4DHRxLGT",
    "outputId": "071dc4eb-5fe4-4c7c-cb28-b9b6035bb451"
   },
   "outputs": [
    {
     "name": "stdout",
     "output_type": "stream",
     "text": [
      "0\n",
      "1\n",
      "2\n",
      "3\n",
      "4\n",
      "5\n",
      "6\n",
      "7\n",
      "8\n",
      "9\n",
      "10\n",
      "11\n",
      "12\n",
      "13\n",
      "14\n",
      "15\n",
      "16\n",
      "17\n",
      "18\n",
      "19\n",
      "20\n",
      "21\n",
      "22\n",
      "23\n",
      "24\n",
      "25\n",
      "26\n",
      "27\n",
      "28\n",
      "29\n",
      "30\n",
      "31\n",
      "32\n",
      "33\n",
      "34\n",
      "35\n",
      "36\n",
      "37\n",
      "38\n",
      "39\n",
      "40\n",
      "41\n",
      "42\n",
      "43\n",
      "44\n",
      "45\n",
      "46\n",
      "47\n",
      "48\n",
      "49\n",
      "50\n",
      "51\n",
      "52\n",
      "53\n",
      "54\n",
      "55\n",
      "56\n",
      "57\n",
      "58\n",
      "59\n",
      "60\n",
      "61\n",
      "62\n",
      "63\n",
      "64\n",
      "65\n",
      "66\n",
      "67\n",
      "68\n",
      "69\n",
      "70\n",
      "71\n",
      "72\n",
      "73\n",
      "74\n",
      "75\n",
      "76\n",
      "77\n",
      "78\n",
      "79\n",
      "80\n",
      "81\n",
      "82\n",
      "83\n",
      "84\n",
      "85\n",
      "86\n",
      "87\n",
      "88\n",
      "89\n",
      "90\n",
      "91\n",
      "92\n",
      "93\n",
      "94\n",
      "95\n",
      "96\n",
      "97\n",
      "98\n",
      "99\n",
      "---------- dplr -----------\n",
      "avg loc error: 12.09, avg time: 62.43706190109253\n",
      "std loc error: 13.318479642962254, std time: 2.139522797504321\n",
      "K < K*: 0, K = K*: 100, K > K*: 0\n"
     ]
    }
   ],
   "source": [
    "np.random.seed(0)\n",
    "\n",
    "grid_n = 90\n",
    "gamma_list = [20, 40]\n",
    "lam_list = [0.1]\n",
    "\n",
    "nt = Delta * T\n",
    "B = 100\n",
    "\n",
    "run_time_d = np.zeros(B)\n",
    "loc_error_d = np.zeros(B)\n",
    "K_d = np.zeros(B)\n",
    "\n",
    "cp_best_list = []\n",
    "param_best_list = []\n",
    "cp_best_cand_list = []\n",
    "\n",
    "for b in range(B):\n",
    "    X_train = X_train_list[b]\n",
    "    Y_train = Y_train_list[b]\n",
    "    X_test = X_test_list[b]\n",
    "    Y_test = Y_test_list[b]\n",
    "\n",
    "    start_time = time.time()\n",
    "    dp_fit = dplr_cv_bt(grid_n, lam_list, gamma_list)\n",
    "    cp_best, param_best, cp_best_cand = dp_fit.fit((Y_train, X_train), (Y_test, X_test))    \n",
    "    run_time_d[b] = time.time() - start_time\n",
    "    loc_error_d[b] = cp_distance(cp_best, cp_truth)\n",
    "    K_d[b] = len(cp_best)\n",
    "\n",
    "    cp_best_list.append(cp_best)\n",
    "    param_best_list.append(param_best)\n",
    "    cp_best_cand_list.append(cp_best_cand)\n",
    "    print(b)\n",
    "\n",
    "\n",
    "print('---------- dplr -----------')\n",
    "print(\"avg loc error: {0}, avg time: {1}\".format(loc_error_d.mean(), run_time_d.mean()))\n",
    "print(\"std loc error: {0}, std time: {1}\".format(loc_error_d.std(), run_time_d.std()))\n",
    "print('K < K*: {0}, K = K*: {1}, K > K*: {2}'.format(sum(K_d < T - 1), sum(K_d == T - 1), sum(K_d > T - 1)))"
   ]
  },
  {
   "cell_type": "code",
   "execution_count": 12,
   "metadata": {
    "colab": {
     "base_uri": "https://localhost:8080/"
    },
    "id": "Qe8Pn9foJDJQ",
    "outputId": "d69e81ab-4583-4473-ccd3-c8034c5282a9"
   },
   "outputs": [
    {
     "data": {
      "text/plain": [
       "array([ 5.,  1., 10.,  6.,  8.,  6., 11.,  4.,  5.,  8.,  6.,  3.,  3.,\n",
       "        7.,  8., 25., 32., 11., 21., 11.,  7., 12.,  5., 10.,  3.,  4.,\n",
       "       22.,  9., 14.,  8., 19.,  6.,  6., 18.,  3.,  1., 10.,  5., 18.,\n",
       "        8.,  4., 19.,  6.,  3., 64.,  2.,  5.,  5.,  2.,  9.,  3., 18.,\n",
       "        4.,  5.,  7., 16.,  4., 14., 16., 49., 17., 48., 17.,  6., 34.,\n",
       "        6., 23., 63.,  2.,  4.,  2., 35.,  8., 24.,  2.,  6., 74.,  9.,\n",
       "        3.,  3.,  3., 15.,  8.,  7.,  2., 10., 16., 17., 10., 26.,  1.,\n",
       "        6.,  7., 13.,  7.,  6.,  3., 16.,  1., 15.])"
      ]
     },
     "execution_count": 12,
     "metadata": {},
     "output_type": "execute_result"
    }
   ],
   "source": [
    "loc_error_d"
   ]
  },
  {
   "cell_type": "code",
   "execution_count": 9,
   "metadata": {
    "colab": {
     "base_uri": "https://localhost:8080/"
    },
    "id": "Kyi5K_w8JBWt",
    "outputId": "bf88db44-4af7-4ee4-fcde-0191ba29ab83"
   },
   "outputs": [
    {
     "data": {
      "text/plain": [
       "[[500, 1005, 1497],\n",
       " [500, 1000, 1499],\n",
       " [490, 1000, 1503],\n",
       " [494, 1000, 1500],\n",
       " [496, 1008, 1496],\n",
       " [494, 999, 1501],\n",
       " [502, 989, 1500],\n",
       " [504, 1000, 1501],\n",
       " [501, 995, 1500],\n",
       " [500, 1000, 1492],\n",
       " [499, 994, 1499],\n",
       " [503, 1000, 1500],\n",
       " [500, 1003, 1498],\n",
       " [500, 993, 1504],\n",
       " [498, 1005, 1492],\n",
       " [475, 1000, 1502],\n",
       " [516, 968, 1477],\n",
       " [489, 999, 1500],\n",
       " [500, 979, 1498],\n",
       " [497, 1011, 1510],\n",
       " [504, 999, 1507],\n",
       " [500, 988, 1507],\n",
       " [502, 997, 1495],\n",
       " [499, 995, 1490],\n",
       " [499, 1003, 1501],\n",
       " [502, 1002, 1496],\n",
       " [478, 995, 1500],\n",
       " [496, 1002, 1491],\n",
       " [514, 999, 1509],\n",
       " [508, 1003, 1499],\n",
       " [495, 1000, 1519],\n",
       " [499, 994, 1504],\n",
       " [499, 1000, 1494],\n",
       " [501, 1018, 1498],\n",
       " [498, 997, 1501],\n",
       " [499, 1001, 1500],\n",
       " [494, 1010, 1496],\n",
       " [505, 1001, 1500],\n",
       " [518, 997, 1499],\n",
       " [495, 992, 1501],\n",
       " [500, 1004, 1504],\n",
       " [515, 1019, 1502],\n",
       " [496, 994, 1505],\n",
       " [502, 1000, 1497],\n",
       " [501, 1064, 1499],\n",
       " [501, 1002, 1500],\n",
       " [500, 1001, 1505],\n",
       " [505, 998, 1502],\n",
       " [498, 999, 1500],\n",
       " [509, 1004, 1498],\n",
       " [500, 997, 1500],\n",
       " [500, 982, 1500],\n",
       " [504, 1001, 1498],\n",
       " [500, 1005, 1505],\n",
       " [507, 1003, 1505],\n",
       " [488, 1000, 1516],\n",
       " [496, 1000, 1498],\n",
       " [514, 989, 1504],\n",
       " [497, 1005, 1516],\n",
       " [455, 1018, 1451],\n",
       " [517, 996, 1500],\n",
       " [548, 999, 1506],\n",
       " [506, 1000, 1483],\n",
       " [494, 995, 1500],\n",
       " [500, 1034, 1501],\n",
       " [500, 999, 1494],\n",
       " [523, 983, 1496],\n",
       " [500, 937, 1497],\n",
       " [502, 1001, 1502],\n",
       " [504, 1001, 1497],\n",
       " [500, 998, 1500],\n",
       " [502, 1035, 1500],\n",
       " [501, 1008, 1502],\n",
       " [476, 1001, 1517],\n",
       " [498, 999, 1500],\n",
       " [494, 1003, 1500],\n",
       " [501, 1074, 1480],\n",
       " [509, 1000, 1497],\n",
       " [498, 997, 1501],\n",
       " [501, 1000, 1497],\n",
       " [499, 1003, 1503],\n",
       " [515, 999, 1504],\n",
       " [508, 1000, 1492],\n",
       " [507, 1001, 1505],\n",
       " [500, 998, 1500],\n",
       " [490, 1004, 1495],\n",
       " [500, 1016, 1512],\n",
       " [517, 996, 1498],\n",
       " [490, 999, 1499],\n",
       " [474, 1001, 1504],\n",
       " [499, 1000, 1500],\n",
       " [494, 999, 1504],\n",
       " [506, 1007, 1498],\n",
       " [513, 1003, 1505],\n",
       " [500, 1007, 1496],\n",
       " [496, 1006, 1500],\n",
       " [497, 1000, 1500],\n",
       " [500, 1003, 1516],\n",
       " [500, 1001, 1501],\n",
       " [485, 1003, 1500]]"
      ]
     },
     "execution_count": 9,
     "metadata": {},
     "output_type": "execute_result"
    }
   ],
   "source": [
    "cp_best_list"
   ]
  },
  {
   "cell_type": "code",
   "execution_count": 10,
   "metadata": {
    "colab": {
     "base_uri": "https://localhost:8080/"
    },
    "id": "0GVWff9GJDWw",
    "outputId": "04bf829d-5c86-40e6-8cc1-0e1589eb25a2"
   },
   "outputs": [
    {
     "data": {
      "text/plain": [
       "[array([ 506, 1012, 1496]),\n",
       " array([ 506, 1012, 1496]),\n",
       " array([ 506,  990, 1496]),\n",
       " array([ 506,  990, 1496]),\n",
       " array([ 484, 1012, 1496]),\n",
       " array([ 484, 1012, 1496]),\n",
       " array([ 506,  990, 1496]),\n",
       " array([ 506, 1012, 1496]),\n",
       " array([ 484, 1012, 1496]),\n",
       " array([ 506, 1012, 1496]),\n",
       " array([ 506,  990, 1496]),\n",
       " array([ 506,  990, 1496]),\n",
       " array([ 506, 1012, 1496]),\n",
       " array([ 506,  990, 1518]),\n",
       " array([ 506, 1012, 1496]),\n",
       " array([ 484,  990, 1496]),\n",
       " array([ 506,  968, 1518]),\n",
       " array([ 506,  990, 1496]),\n",
       " array([ 484,  968, 1496]),\n",
       " array([ 506, 1012, 1518]),\n",
       " array([ 506,  990, 1518]),\n",
       " array([ 506,  990, 1496]),\n",
       " array([ 506,  990, 1496]),\n",
       " array([ 506,  990, 1496]),\n",
       " array([ 506, 1012, 1496]),\n",
       " array([ 506, 1012, 1496]),\n",
       " array([ 484, 1012, 1496]),\n",
       " array([ 484, 1012, 1496]),\n",
       " array([ 506,  990, 1518]),\n",
       " array([ 506, 1012, 1496]),\n",
       " array([ 484, 1012, 1518]),\n",
       " array([ 506,  990, 1496]),\n",
       " array([ 506, 1012, 1496]),\n",
       " array([ 506, 1012, 1496]),\n",
       " array([ 506, 1012, 1518]),\n",
       " array([ 484, 1012, 1496]),\n",
       " array([ 506, 1056, 1496]),\n",
       " array([ 506,  968, 1496]),\n",
       " array([ 506,  990, 1496]),\n",
       " array([ 440,  990, 1496]),\n",
       " array([ 506,  990, 1496]),\n",
       " array([ 506, 1012, 1518]),\n",
       " array([ 506,  990, 1496]),\n",
       " array([ 506, 1012, 1496]),\n",
       " array([ 506, 1012, 1474]),\n",
       " array([ 506,  990, 1518]),\n",
       " array([ 484,  990, 1496]),\n",
       " array([ 572, 1012, 1518]),\n",
       " array([ 506,  990, 1496]),\n",
       " array([ 506, 1012, 1496]),\n",
       " array([ 506,  990, 1496]),\n",
       " array([ 506,  990, 1496]),\n",
       " array([ 506, 1012, 1496]),\n",
       " array([ 506,  990, 1496]),\n",
       " array([ 506,  990, 1518]),\n",
       " array([ 484,  990, 1518]),\n",
       " array([ 506,  990, 1496]),\n",
       " array([ 528,  990, 1496]),\n",
       " array([ 506, 1012, 1518]),\n",
       " array([ 462, 1012, 1452]),\n",
       " array([ 506,  990, 1496]),\n",
       " array([ 550, 1012, 1518]),\n",
       " array([ 506,  990, 1496]),\n",
       " array([ 506, 1012, 1496]),\n",
       " array([ 506, 1034, 1496]),\n",
       " array([ 506,  990, 1496]),\n",
       " array([ 528,  968, 1496]),\n",
       " array([ 506,  990, 1496]),\n",
       " array([ 506,  990, 1496]),\n",
       " array([ 506, 1012, 1496]),\n",
       " array([ 506,  990, 1496]),\n",
       " array([ 484, 1034, 1496]),\n",
       " array([ 506, 1012, 1496]),\n",
       " array([ 484,  990, 1518]),\n",
       " array([ 506, 1012, 1496]),\n",
       " array([ 484, 1012, 1518]),\n",
       " array([ 506, 1034, 1474]),\n",
       " array([ 506,  990, 1496]),\n",
       " array([ 506,  990, 1496]),\n",
       " array([ 506, 1012, 1496]),\n",
       " array([ 506, 1012, 1496]),\n",
       " array([ 506,  990, 1518]),\n",
       " array([ 506,  990, 1496]),\n",
       " array([ 506, 1012, 1496]),\n",
       " array([ 506,  990, 1496]),\n",
       " array([ 484,  990, 1496]),\n",
       " array([ 506, 1012, 1518]),\n",
       " array([ 506,  990, 1496]),\n",
       " array([ 484, 1012, 1496]),\n",
       " array([ 484,  990, 1496]),\n",
       " array([ 484, 1012, 1496]),\n",
       " array([ 484, 1012, 1496]),\n",
       " array([ 506, 1012, 1496]),\n",
       " array([ 506, 1012, 1496]),\n",
       " array([ 506, 1012, 1496]),\n",
       " array([ 484, 1012, 1496]),\n",
       " array([ 506,  990, 1496]),\n",
       " array([ 506, 1012, 1518]),\n",
       " array([ 484,  990, 1496]),\n",
       " array([ 484,  990, 1496])]"
      ]
     },
     "execution_count": 10,
     "metadata": {},
     "output_type": "execute_result"
    }
   ],
   "source": [
    "cp_best_cand_list"
   ]
  },
  {
   "cell_type": "code",
   "execution_count": 11,
   "metadata": {
    "id": "JUnKEsc4vGd0"
   },
   "outputs": [],
   "source": [
    "import pickle\n",
    "with open(path + 'dplr_n' + str(n) + '_Delta' + str(Delta) + '_K' + str(T - 1) + '_grid' + str(grid_n) + '.pickle', 'wb') as f:\n",
    "    pickle.dump([cp_best_list, param_best_list, cp_best_cand_list, loc_error_d, run_time_d, K_d], f)"
   ]
  },
  {
   "cell_type": "code",
   "execution_count": null,
   "metadata": {
    "id": "ZYnLxRuSyBwY"
   },
   "outputs": [],
   "source": []
  }
 ],
 "metadata": {
  "colab": {
   "collapsed_sections": [],
   "name": "DPLR_n10_Delta500_K3.ipynb",
   "provenance": [],
   "toc_visible": true
  },
  "kernelspec": {
   "display_name": "Python 3",
   "language": "python",
   "name": "python3"
  },
  "language_info": {
   "codemirror_mode": {
    "name": "ipython",
    "version": 3
   },
   "file_extension": ".py",
   "mimetype": "text/x-python",
   "name": "python",
   "nbconvert_exporter": "python",
   "pygments_lexer": "ipython3",
   "version": "3.7.4"
  }
 },
 "nbformat": 4,
 "nbformat_minor": 1
}
