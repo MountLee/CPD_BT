{
 "cells": [
  {
   "cell_type": "code",
   "execution_count": 1,
   "metadata": {
    "colab": {
     "base_uri": "https://localhost:8080/"
    },
    "id": "im-zBYvoLM2x",
    "outputId": "d4d51ce3-9ca3-4b49-ce16-2380ff024aca"
   },
   "outputs": [
    {
     "name": "stdout",
     "output_type": "stream",
     "text": [
      "Mounted at /content/drive\n"
     ]
    }
   ],
   "source": [
    "from google.colab import drive\n",
    "drive.mount('/content/drive')"
   ]
  },
  {
   "cell_type": "code",
   "execution_count": 2,
   "metadata": {
    "id": "yADnUZVCNYL0"
   },
   "outputs": [],
   "source": [
    "import os, sys\n",
    "sys.path.append('/content/drive/MyDrive/CPD_BT')"
   ]
  },
  {
   "cell_type": "code",
   "execution_count": 3,
   "metadata": {
    "colab": {
     "base_uri": "https://localhost:8080/"
    },
    "id": "uIKHDjhONeFr",
    "outputId": "c9c3c87a-c671-40b4-bf07-add79777a40c"
   },
   "outputs": [
    {
     "name": "stderr",
     "output_type": "stream",
     "text": [
      "/usr/local/lib/python3.7/dist-packages/statsmodels/tools/_testing.py:19: FutureWarning: pandas.util.testing is deprecated. Use the functions in the public API at pandas.testing instead.\n",
      "  import pandas.util.testing as tm\n"
     ]
    }
   ],
   "source": [
    "import numpy as np\n",
    "import matplotlib.pyplot as plt\n",
    "import scipy.stats as stats\n",
    "import random\n",
    "\n",
    "import itertools\n",
    "\n",
    "from bt_cpd import *\n",
    "\n",
    "import time\n",
    "import bisect\n",
    "\n",
    "import pandas as pd\n",
    "\n",
    "import statsmodels.api as sm\n",
    "from sklearn import linear_model\n",
    "\n",
    "from warnings import simplefilter\n",
    "from sklearn.exceptions import ConvergenceWarning\n",
    "simplefilter(\"ignore\", category=ConvergenceWarning)"
   ]
  },
  {
   "cell_type": "code",
   "execution_count": 5,
   "metadata": {
    "colab": {
     "base_uri": "https://localhost:8080/"
    },
    "id": "Ns9hvspTPlgL",
    "outputId": "e888cbc3-2c9c-4d9c-a7e9-99f8e5b7a4ca"
   },
   "outputs": [
    {
     "name": "stdout",
     "output_type": "stream",
     "text": [
      "[ 800 1600 2400]\n"
     ]
    }
   ],
   "source": [
    "T = 4\n",
    "Delta = 800\n",
    "m = np.array([Delta] * T)\n",
    "cp_truth = np.cumsum(m)[:T-1]\n",
    "print(cp_truth)\n",
    "\n",
    "n = 20"
   ]
  },
  {
   "cell_type": "code",
   "execution_count": 6,
   "metadata": {
    "id": "hfhGQb_ifULO"
   },
   "outputs": [],
   "source": [
    "path = '/content/drive/MyDrive/CPD_BT/experiment_random/'\n",
    "with open(path + 'data_n' + str(n) + '_Delta' + str(Delta) + '_K' + str(T - 1) + '.npy', 'rb') as f:\n",
    "    beta_list = np.load(f)\n",
    "    X_train_list = np.load(f)\n",
    "    Y_train_list = np.load(f)\n",
    "    X_test_list = np.load(f)\n",
    "    Y_test_list = np.load(f)"
   ]
  },
  {
   "cell_type": "code",
   "execution_count": 7,
   "metadata": {
    "colab": {
     "base_uri": "https://localhost:8080/"
    },
    "id": "dNqKBzsPJtyC",
    "outputId": "647fd5c4-c138-4283-f33d-66a660b1931b"
   },
   "outputs": [
    {
     "data": {
      "text/plain": [
       "(100, 3200, 20)"
      ]
     },
     "execution_count": 7,
     "metadata": {},
     "output_type": "execute_result"
    }
   ],
   "source": [
    "X_train_list.shape"
   ]
  },
  {
   "cell_type": "code",
   "execution_count": 8,
   "metadata": {
    "colab": {
     "base_uri": "https://localhost:8080/"
    },
    "id": "Qmel4DHRxLGT",
    "outputId": "93d7941e-e1a6-4a84-afb8-68073e052160"
   },
   "outputs": [
    {
     "name": "stdout",
     "output_type": "stream",
     "text": [
      "0\n",
      "1\n",
      "2\n",
      "3\n",
      "4\n",
      "5\n",
      "6\n",
      "7\n",
      "8\n",
      "9\n",
      "10\n",
      "11\n",
      "12\n",
      "13\n",
      "14\n",
      "15\n",
      "16\n",
      "17\n",
      "18\n",
      "19\n",
      "20\n",
      "21\n",
      "22\n",
      "23\n",
      "24\n",
      "25\n",
      "26\n",
      "27\n",
      "28\n",
      "29\n",
      "30\n",
      "31\n",
      "32\n",
      "33\n",
      "34\n",
      "35\n",
      "36\n",
      "37\n",
      "38\n",
      "39\n",
      "40\n",
      "41\n",
      "42\n",
      "43\n",
      "44\n",
      "45\n",
      "46\n",
      "47\n",
      "48\n",
      "49\n",
      "50\n",
      "51\n",
      "52\n",
      "53\n",
      "54\n",
      "55\n",
      "56\n",
      "57\n",
      "58\n",
      "59\n",
      "60\n",
      "61\n",
      "62\n",
      "63\n",
      "64\n",
      "65\n",
      "66\n",
      "67\n",
      "68\n",
      "69\n",
      "70\n",
      "71\n",
      "72\n",
      "73\n",
      "74\n",
      "75\n",
      "76\n",
      "77\n",
      "78\n",
      "79\n",
      "80\n",
      "81\n",
      "82\n",
      "83\n",
      "84\n",
      "85\n",
      "86\n",
      "87\n",
      "88\n",
      "89\n",
      "90\n",
      "91\n",
      "92\n",
      "93\n",
      "94\n",
      "95\n",
      "96\n",
      "97\n",
      "98\n",
      "99\n",
      "---------- wbs -----------\n",
      "avg loc error: 251.68, avg time: 133.72949260234833\n",
      "std loc error: 219.90374621638443, std time: 14.67894917675527\n",
      "K < K*: 0, K = K*: 40, K > K*: 60\n"
     ]
    }
   ],
   "source": [
    "np.random.seed(0)\n",
    "\n",
    "m_intervals = 50\n",
    "grid_n = 200\n",
    "gamma_list = [20, 40]\n",
    "lam_list = [0.1]\n",
    "\n",
    "nt = Delta * T\n",
    "B = 100\n",
    "\n",
    "run_time_wbs = np.zeros(B)\n",
    "loc_error_wbs = np.zeros(B)\n",
    "K_wbs = np.zeros(B)\n",
    "\n",
    "cp_best_list = []\n",
    "param_best_list = []\n",
    "\n",
    "for b in range(B):\n",
    "    X_train = X_train_list[b]\n",
    "    Y_train = Y_train_list[b]\n",
    "    X_test = X_test_list[b]\n",
    "    Y_test = Y_test_list[b]\n",
    "\n",
    "    start_time = time.time()\n",
    "    wbs_fit = wbs_cv_bt(m_intervals, grid_n, lam_list, gamma_list, smooth = 5, buffer = 5)\n",
    "    res = wbs_fit.fit((X_train, Y_train), (X_test, Y_test))\n",
    "    cp_best, cp_val, cusum_val, threshold_best, grid = res   \n",
    "    run_time_wbs[b] = time.time() - start_time\n",
    "    loc_error_wbs[b] = cp_distance(cp_best, cp_truth)\n",
    "    K_wbs[b] = len(cp_best)\n",
    "\n",
    "    cp_best_list.append(cp_best)\n",
    "    param_best_list.append(threshold_best)\n",
    "\n",
    "    print(b)\n",
    "\n",
    "print('---------- wbs -----------')\n",
    "print(\"avg loc error: {0}, avg time: {1}\".format(loc_error_wbs.mean(), run_time_wbs.mean()))\n",
    "print(\"std loc error: {0}, std time: {1}\".format(loc_error_wbs.std(), run_time_wbs.std()))\n",
    "print('K < K*: {0}, K = K*: {1}, K > K*: {2}'.format(sum(K_wbs < T - 1), sum(K_wbs == T - 1), sum(K_wbs > T - 1)))"
   ]
  },
  {
   "cell_type": "code",
   "execution_count": 9,
   "metadata": {
    "colab": {
     "base_uri": "https://localhost:8080/"
    },
    "id": "Qe8Pn9foJDJQ",
    "outputId": "f2134ba8-53bf-41a1-fd8c-971065acd098"
   },
   "outputs": [
    {
     "data": {
      "text/plain": [
       "array([672.,  32., 368., 672.,   0.,   0., 272., 512., 464.,  16., 240.,\n",
       "        96.,  16., 384.,  16., 496., 592., 624.,  16., 352., 608., 496.,\n",
       "        16., 400.,  16.,   0.,   0., 480., 240., 256.,   0.,  32., 304.,\n",
       "       416., 384., 544.,   0., 224., 512., 208., 400.,   0., 384., 528.,\n",
       "       192.,  32., 384.,  16., 256., 272.,   0., 304.,   0., 544., 304.,\n",
       "        16., 400., 144.,  48.,   0., 688.,   0., 656., 432., 448.,  48.,\n",
       "       560.,   0.,   0.,   0., 240., 320., 144., 160.,  32., 464., 416.,\n",
       "        16., 576.,  32., 336.,  32., 464., 496.,  16.,   0., 464., 400.,\n",
       "        32., 336., 352., 432.,  16.,  16., 496.,   0.,  16., 448.,  32.,\n",
       "       352.])"
      ]
     },
     "execution_count": 9,
     "metadata": {},
     "output_type": "execute_result"
    }
   ],
   "source": [
    "loc_error_wbs"
   ]
  },
  {
   "cell_type": "code",
   "execution_count": 10,
   "metadata": {
    "colab": {
     "base_uri": "https://localhost:8080/"
    },
    "id": "WrC-7R1GwSx7",
    "outputId": "8bdc48ab-7922-4566-ada1-b1cc73af3036"
   },
   "outputs": [
    {
     "data": {
      "text/plain": [
       "[[816, 1600, 2048, 2400, 3072],\n",
       " [816, 1632, 2400],\n",
       " [432, 784, 1600, 2096, 2400, 2720],\n",
       " [512, 784, 1600, 2208, 2416, 2784, 3072],\n",
       " [800, 1600, 2400],\n",
       " [800, 1600, 2400],\n",
       " [800, 1072, 1600, 2400],\n",
       " [752, 1600, 2384, 2912],\n",
       " [336, 800, 1152, 1600, 2400, 2560],\n",
       " [816, 1600, 2400],\n",
       " [784, 1600, 1840, 2400],\n",
       " [800, 1600, 2496],\n",
       " [816, 1616, 2400],\n",
       " [816, 992, 1184, 1600, 2400],\n",
       " [784, 1600, 2400],\n",
       " [304, 800, 1600, 2400, 2752],\n",
       " [800, 1440, 1600, 2400, 2992],\n",
       " [784, 1152, 1600, 1776, 2416, 2768, 3024],\n",
       " [800, 1584, 2416],\n",
       " [496, 800, 1600, 2400, 2752],\n",
       " [192, 800, 1168, 1600, 2400, 2976],\n",
       " [800, 1600, 2384, 2896],\n",
       " [800, 1616, 2400],\n",
       " [784, 1600, 2032, 2336, 2800],\n",
       " [784, 1600, 2384],\n",
       " [800, 1600, 2400],\n",
       " [800, 1600, 2400],\n",
       " [752, 1600, 1808, 2400, 2880],\n",
       " [816, 1616, 2400, 2640],\n",
       " [800, 1584, 2464, 2656],\n",
       " [800, 1600, 2400],\n",
       " [816, 1568, 2432],\n",
       " [784, 1296, 1584, 2096, 2400],\n",
       " [800, 1312, 1600, 2032, 2368, 2816],\n",
       " [544, 800, 1008, 1328, 1600, 2400, 2784],\n",
       " [256, 800, 1104, 1600, 2400],\n",
       " [800, 1600, 2400],\n",
       " [768, 1024, 1600, 2448],\n",
       " [288, 528, 800, 1120, 1280, 1584, 2128, 2384],\n",
       " [800, 1008, 1600, 2400, 2592],\n",
       " [800, 1424, 1648, 2400, 2800],\n",
       " [800, 1600, 2400],\n",
       " [416, 800, 1280, 1600, 2016, 2400],\n",
       " [800, 1616, 2400, 2640, 2928],\n",
       " [608, 800, 1600, 2240, 2400],\n",
       " [800, 1568, 2400],\n",
       " [800, 1376, 1584, 1744, 2208, 2400, 2784],\n",
       " [800, 1584, 2384],\n",
       " [800, 1584, 2384, 2656],\n",
       " [528, 800, 1008, 1600, 2192, 2400, 2656],\n",
       " [800, 1600, 2400],\n",
       " [832, 1296, 1584, 2192, 2384],\n",
       " [800, 1600, 2400],\n",
       " [800, 1600, 2400, 2944],\n",
       " [800, 1584, 1904, 2400],\n",
       " [800, 1616, 2416],\n",
       " [416, 784, 1600, 2400, 2800],\n",
       " [800, 1600, 2384, 2544],\n",
       " [752, 1584, 2400],\n",
       " [800, 1600, 2400],\n",
       " [800, 1584, 2352, 3088],\n",
       " [800, 1600, 2400],\n",
       " [144, 800, 1632, 2400, 2736],\n",
       " [784, 960, 1600, 2400, 2832],\n",
       " [832, 1616, 2368, 2848],\n",
       " [800, 1648, 2400],\n",
       " [240, 800, 1584, 2000, 2400],\n",
       " [800, 1600, 2400],\n",
       " [800, 1600, 2400],\n",
       " [800, 1600, 2400],\n",
       " [800, 1600, 2384, 2640],\n",
       " [800, 1120, 1296, 1600, 2368],\n",
       " [800, 1584, 1744, 2368],\n",
       " [784, 1584, 1760, 2256, 2416],\n",
       " [800, 1632, 2400],\n",
       " [800, 1616, 2416, 2688, 2864],\n",
       " [800, 1600, 2032, 2400, 2816],\n",
       " [784, 1600, 2416],\n",
       " [224, 432, 800, 1600, 2416],\n",
       " [768, 1600, 2400],\n",
       " [464, 656, 832, 1616, 1824, 2368],\n",
       " [832, 1600, 2416],\n",
       " [336, 784, 992, 1616, 2400],\n",
       " [416, 832, 1296, 1600, 2416, 2896],\n",
       " [800, 1616, 2384],\n",
       " [800, 1600, 2400],\n",
       " [800, 1600, 2400, 2864],\n",
       " [800, 1600, 1792, 2064, 2400, 2800],\n",
       " [800, 1584, 2368],\n",
       " [800, 976, 1584, 1936, 2320],\n",
       " [592, 800, 1248, 1440, 1600, 2400, 2576],\n",
       " [800, 1600, 2400, 2832],\n",
       " [800, 1616, 2416],\n",
       " [816, 1600, 2384],\n",
       " [304, 816, 992, 1600, 1776, 2400, 2880],\n",
       " [800, 1600, 2400],\n",
       " [800, 1584, 2400],\n",
       " [496, 800, 1104, 1616, 1968, 2416, 2656, 2848],\n",
       " [800, 1600, 2432],\n",
       " [800, 1152, 1536, 1712, 2400]]"
      ]
     },
     "execution_count": 10,
     "metadata": {},
     "output_type": "execute_result"
    }
   ],
   "source": [
    "cp_best_list"
   ]
  },
  {
   "cell_type": "code",
   "execution_count": 11,
   "metadata": {
    "id": "JUnKEsc4vGd0"
   },
   "outputs": [],
   "source": [
    "import pickle\n",
    "with open(path + 'wbs_n' + str(n) + '_Delta' + str(Delta) + '_K' + str(T - 1) + '_grid' + str(grid_n) + '.pickle', 'wb') as f:\n",
    "    pickle.dump([cp_best_list, param_best_list, loc_error_wbs, run_time_wbs, K_wbs], f)"
   ]
  },
  {
   "cell_type": "code",
   "execution_count": null,
   "metadata": {},
   "outputs": [],
   "source": []
  }
 ],
 "metadata": {
  "colab": {
   "collapsed_sections": [],
   "name": "WBS_n20_Delta800_K3.ipynb",
   "provenance": [],
   "toc_visible": true
  },
  "kernelspec": {
   "display_name": "Python 3",
   "language": "python",
   "name": "python3"
  },
  "language_info": {
   "codemirror_mode": {
    "name": "ipython",
    "version": 3
   },
   "file_extension": ".py",
   "mimetype": "text/x-python",
   "name": "python",
   "nbconvert_exporter": "python",
   "pygments_lexer": "ipython3",
   "version": "3.7.4"
  }
 },
 "nbformat": 4,
 "nbformat_minor": 1
}
