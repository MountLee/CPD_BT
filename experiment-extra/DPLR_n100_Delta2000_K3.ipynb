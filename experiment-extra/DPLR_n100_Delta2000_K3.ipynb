{
 "cells": [
  {
   "cell_type": "code",
   "execution_count": 1,
   "metadata": {
    "colab": {
     "base_uri": "https://localhost:8080/"
    },
    "id": "im-zBYvoLM2x",
    "outputId": "8d28dde9-25ea-412d-ae4e-2c5e602675af"
   },
   "outputs": [
    {
     "name": "stdout",
     "output_type": "stream",
     "text": [
      "Mounted at /content/drive\n"
     ]
    }
   ],
   "source": [
    "from google.colab import drive\n",
    "drive.mount('/content/drive')"
   ]
  },
  {
   "cell_type": "code",
   "execution_count": 2,
   "metadata": {
    "id": "yADnUZVCNYL0"
   },
   "outputs": [],
   "source": [
    "import os, sys\n",
    "sys.path.append('/content/drive/MyDrive/CPD_BT')"
   ]
  },
  {
   "cell_type": "code",
   "execution_count": 3,
   "metadata": {
    "colab": {
     "base_uri": "https://localhost:8080/"
    },
    "id": "uIKHDjhONeFr",
    "outputId": "9dc814b8-6307-4cb7-a6a2-70681223b246"
   },
   "outputs": [
    {
     "name": "stderr",
     "output_type": "stream",
     "text": [
      "/usr/local/lib/python3.7/dist-packages/statsmodels/tools/_testing.py:19: FutureWarning: pandas.util.testing is deprecated. Use the functions in the public API at pandas.testing instead.\n",
      "  import pandas.util.testing as tm\n"
     ]
    }
   ],
   "source": [
    "import numpy as np\n",
    "import matplotlib.pyplot as plt\n",
    "import scipy.stats as stats\n",
    "import random\n",
    "\n",
    "import itertools\n",
    "\n",
    "from bt_cpd import *\n",
    "\n",
    "import time\n",
    "import bisect\n",
    "\n",
    "import pandas as pd\n",
    "\n",
    "import statsmodels.api as sm\n",
    "from sklearn import linear_model\n",
    "\n",
    "from warnings import simplefilter\n",
    "from sklearn.exceptions import ConvergenceWarning\n",
    "simplefilter(\"ignore\", category=ConvergenceWarning)"
   ]
  },
  {
   "cell_type": "code",
   "execution_count": 4,
   "metadata": {
    "colab": {
     "base_uri": "https://localhost:8080/"
    },
    "id": "Ns9hvspTPlgL",
    "outputId": "f1b5b7b2-db22-4870-e1b7-0c87bc8dc25b"
   },
   "outputs": [
    {
     "name": "stdout",
     "output_type": "stream",
     "text": [
      "[2000 4000 6000]\n"
     ]
    }
   ],
   "source": [
    "T = 4\n",
    "Delta = 2000\n",
    "m = np.array([Delta] * T)\n",
    "cp_truth = np.cumsum(m)[:T-1]\n",
    "print(cp_truth)\n",
    "\n",
    "n = 100"
   ]
  },
  {
   "cell_type": "code",
   "execution_count": 5,
   "metadata": {
    "id": "hfhGQb_ifULO"
   },
   "outputs": [],
   "source": [
    "path = '/content/drive/MyDrive/CPD_BT/experiment_random/'\n",
    "with open(path + 'data_n' + str(n) + '_Delta' + str(Delta) + '_K' + str(T - 1) + '.npy', 'rb') as f:\n",
    "    beta_list = np.load(f)\n",
    "    X_train_list = np.load(f)\n",
    "    Y_train_list = np.load(f)\n",
    "    X_test_list = np.load(f)\n",
    "    Y_test_list = np.load(f)"
   ]
  },
  {
   "cell_type": "code",
   "execution_count": 6,
   "metadata": {
    "colab": {
     "base_uri": "https://localhost:8080/"
    },
    "id": "Xqvln61AntMT",
    "outputId": "d3981f82-ea71-4de9-a829-baa20a3bf7c3"
   },
   "outputs": [
    {
     "data": {
      "text/plain": [
       "(100, 8000, 100)"
      ]
     },
     "execution_count": 6,
     "metadata": {},
     "output_type": "execute_result"
    }
   ],
   "source": [
    "X_train_list.shape"
   ]
  },
  {
   "cell_type": "code",
   "execution_count": 7,
   "metadata": {
    "colab": {
     "base_uri": "https://localhost:8080/"
    },
    "id": "Qmel4DHRxLGT",
    "outputId": "0bfd75ea-1a0c-4da8-d777-647268f908ef"
   },
   "outputs": [
    {
     "name": "stdout",
     "output_type": "stream",
     "text": [
      "0\n",
      "1\n",
      "2\n",
      "3\n",
      "4\n",
      "5\n",
      "6\n",
      "7\n",
      "8\n",
      "9\n",
      "10\n",
      "11\n",
      "12\n",
      "13\n",
      "14\n",
      "15\n",
      "16\n",
      "17\n",
      "18\n",
      "19\n",
      "20\n",
      "21\n",
      "22\n",
      "23\n",
      "24\n",
      "25\n",
      "26\n",
      "27\n",
      "28\n",
      "29\n",
      "30\n",
      "31\n",
      "32\n",
      "33\n",
      "34\n",
      "35\n",
      "36\n",
      "37\n",
      "38\n",
      "39\n",
      "40\n",
      "41\n",
      "42\n",
      "43\n",
      "44\n",
      "45\n",
      "46\n",
      "47\n",
      "48\n",
      "49\n",
      "50\n",
      "51\n",
      "52\n",
      "53\n",
      "54\n",
      "55\n",
      "56\n",
      "57\n",
      "58\n",
      "59\n",
      "60\n",
      "61\n",
      "62\n",
      "63\n",
      "64\n",
      "65\n",
      "66\n",
      "67\n",
      "68\n",
      "69\n",
      "70\n",
      "71\n",
      "72\n",
      "73\n",
      "74\n",
      "75\n",
      "76\n",
      "77\n",
      "78\n",
      "79\n",
      "80\n",
      "81\n",
      "82\n",
      "83\n",
      "84\n",
      "85\n",
      "86\n",
      "87\n",
      "88\n",
      "89\n",
      "90\n",
      "91\n",
      "92\n",
      "93\n",
      "94\n",
      "95\n",
      "96\n",
      "97\n",
      "98\n",
      "99\n",
      "---------- dplr -----------\n",
      "avg loc error: 28.34, avg time: 453.6335827922821\n",
      "std loc error: 26.53722668253034, std time: 9.23085962623162\n",
      "K < K*: 0, K = K*: 100, K > K*: 0\n"
     ]
    }
   ],
   "source": [
    "np.random.seed(0)\n",
    "\n",
    "grid_n = 100\n",
    "gamma_list = [80, 100]\n",
    "lam_list = [0.1]\n",
    "\n",
    "nt = Delta * T\n",
    "B = 100\n",
    "\n",
    "run_time_d = np.zeros(B)\n",
    "loc_error_d = np.zeros(B)\n",
    "K_d = np.zeros(B)\n",
    "\n",
    "cp_best_list = []\n",
    "param_best_list = []\n",
    "cp_best_cand_list = []\n",
    "\n",
    "for b in range(B):\n",
    "    X_train = X_train_list[b]\n",
    "    Y_train = Y_train_list[b]\n",
    "    X_test = X_test_list[b]\n",
    "    Y_test = Y_test_list[b]\n",
    "\n",
    "    start_time = time.time()\n",
    "    dp_fit = dplr_cv_bt(grid_n, lam_list, gamma_list)\n",
    "    cp_best, param_best, cp_best_cand = dp_fit.fit((Y_train, X_train), (Y_test, X_test))    \n",
    "    run_time_d[b] = time.time() - start_time\n",
    "    loc_error_d[b] = cp_distance(cp_best, cp_truth)\n",
    "    K_d[b] = len(cp_best)\n",
    "\n",
    "    cp_best_list.append(cp_best)\n",
    "    param_best_list.append(param_best)\n",
    "    cp_best_cand_list.append(cp_best_cand)\n",
    "    print(b)\n",
    "\n",
    "\n",
    "print('---------- dplr -----------')\n",
    "print(\"avg loc error: {0}, avg time: {1}\".format(loc_error_d.mean(), run_time_d.mean()))\n",
    "print(\"std loc error: {0}, std time: {1}\".format(loc_error_d.std(), run_time_d.std()))\n",
    "print('K < K*: {0}, K = K*: {1}, K > K*: {2}'.format(sum(K_d < T - 1), sum(K_d == T - 1), sum(K_d > T - 1)))"
   ]
  },
  {
   "cell_type": "code",
   "execution_count": 8,
   "metadata": {
    "colab": {
     "base_uri": "https://localhost:8080/"
    },
    "id": "Qe8Pn9foJDJQ",
    "outputId": "74ec9cc8-4658-4864-fb13-1a74b8795466"
   },
   "outputs": [
    {
     "data": {
      "text/plain": [
       "array([  2.,  11.,  30.,  23.,   9.,   7.,   9.,  34.,  20.,   1.,  14.,\n",
       "         8.,  35.,   8.,  50.,   4.,  18.,  29.,  14., 174.,  14.,  46.,\n",
       "        17.,  18.,  29.,  55.,  29.,  20.,  46.,  10.,  33.,  24.,  47.,\n",
       "         8.,  23.,   6.,  26.,  65.,  49.,   4.,  55.,  74.,  65.,   6.,\n",
       "        10.,  87.,  17.,  44.,  17.,  16.,  26.,  69.,  59.,   4.,   2.,\n",
       "         4.,  21.,   7.,  58.,  14.,  38.,  24.,  28.,   6.,  30.,  20.,\n",
       "         9.,   3.,  75.,  15.,  32.,  15.,  18.,  66.,  18.,  21.,   7.,\n",
       "        14.,   7., 111.,  66.,  17.,  15.,  23.,  25.,  42.,  58.,  12.,\n",
       "        32.,   5.,  10.,  17.,   3.,  44.,  17.,  51.,  24.,  76.,   9.,\n",
       "         7.])"
      ]
     },
     "execution_count": 8,
     "metadata": {},
     "output_type": "execute_result"
    }
   ],
   "source": [
    "loc_error_d"
   ]
  },
  {
   "cell_type": "code",
   "execution_count": 9,
   "metadata": {
    "colab": {
     "base_uri": "https://localhost:8080/"
    },
    "id": "Kyi5K_w8JBWt",
    "outputId": "fccebbfc-f26e-42df-938c-5aaba24a9017"
   },
   "outputs": [
    {
     "data": {
      "text/plain": [
       "[[2002, 4001, 5999],\n",
       " [2005, 4011, 6005],\n",
       " [1997, 4000, 5970],\n",
       " [2013, 4000, 6023],\n",
       " [1991, 4006, 6000],\n",
       " [2007, 4003, 6006],\n",
       " [1997, 3995, 6009],\n",
       " [2007, 4034, 5993],\n",
       " [1999, 3997, 5980],\n",
       " [2000, 4001, 6001],\n",
       " [1995, 3999, 5986],\n",
       " [1992, 4005, 6001],\n",
       " [1991, 4001, 6035],\n",
       " [1996, 3992, 5996],\n",
       " [1997, 3995, 6050],\n",
       " [2003, 3998, 5996],\n",
       " [2018, 4006, 5996],\n",
       " [2022, 3971, 6008],\n",
       " [2012, 3986, 6000],\n",
       " [2174, 3947, 6009],\n",
       " [1986, 4006, 5999],\n",
       " [1997, 3998, 5954],\n",
       " [2004, 3995, 6017],\n",
       " [1998, 3991, 5982],\n",
       " [2001, 3971, 6005],\n",
       " [2030, 3962, 6055],\n",
       " [1996, 3993, 6029],\n",
       " [1996, 4005, 5980],\n",
       " [2006, 4046, 5980],\n",
       " [1990, 3999, 6000],\n",
       " [2001, 3977, 6033],\n",
       " [2024, 3999, 6003],\n",
       " [1991, 4001, 5953],\n",
       " [1997, 4006, 6008],\n",
       " [2001, 4003, 6023],\n",
       " [2000, 4006, 5999],\n",
       " [1999, 4002, 5974],\n",
       " [2065, 3999, 6008],\n",
       " [1997, 4014, 6049],\n",
       " [2004, 3998, 6004],\n",
       " [1946, 3998, 6055],\n",
       " [1926, 4003, 6003],\n",
       " [1987, 3935, 6018],\n",
       " [2006, 3995, 5999],\n",
       " [1997, 4008, 6010],\n",
       " [1996, 4004, 6087],\n",
       " [1999, 4007, 5983],\n",
       " [1956, 4035, 5990],\n",
       " [2006, 4000, 6017],\n",
       " [2009, 3998, 5984],\n",
       " [2000, 3974, 5977],\n",
       " [1984, 3931, 6013],\n",
       " [2059, 4003, 5999],\n",
       " [2002, 4000, 5996],\n",
       " [2000, 4002, 5998],\n",
       " [2004, 4000, 6003],\n",
       " [1999, 3996, 5979],\n",
       " [2005, 4007, 5999],\n",
       " [1974, 4058, 5992],\n",
       " [2006, 3986, 5997],\n",
       " [1996, 4009, 5962],\n",
       " [2007, 3976, 5987],\n",
       " [1999, 4028, 5980],\n",
       " [1994, 4003, 5996],\n",
       " [2000, 4030, 5999],\n",
       " [2014, 4006, 6020],\n",
       " [2000, 3999, 5991],\n",
       " [2003, 3997, 5997],\n",
       " [1925, 3999, 6000],\n",
       " [1993, 4015, 5986],\n",
       " [2001, 3992, 6032],\n",
       " [2015, 3987, 6000],\n",
       " [1999, 4000, 6018],\n",
       " [2020, 3934, 5999],\n",
       " [1998, 3982, 6010],\n",
       " [1998, 4021, 5999],\n",
       " [1993, 4002, 6005],\n",
       " [2014, 4009, 5996],\n",
       " [1995, 4002, 6007],\n",
       " [2001, 4111, 6018],\n",
       " [2066, 4004, 5968],\n",
       " [2001, 4013, 5983],\n",
       " [2015, 4004, 6001],\n",
       " [2000, 3977, 5995],\n",
       " [2025, 4001, 6017],\n",
       " [2011, 3988, 5958],\n",
       " [1942, 4008, 5990],\n",
       " [1998, 4012, 6000],\n",
       " [2002, 3994, 5968],\n",
       " [2005, 4002, 6002],\n",
       " [2010, 3990, 6000],\n",
       " [2006, 4005, 5983],\n",
       " [1997, 4002, 5997],\n",
       " [2044, 3991, 6019],\n",
       " [1987, 4017, 6006],\n",
       " [2000, 3999, 6051],\n",
       " [2008, 3999, 5976],\n",
       " [2004, 3986, 5924],\n",
       " [1996, 4006, 6009],\n",
       " [2002, 4004, 6007]]"
      ]
     },
     "execution_count": 9,
     "metadata": {},
     "output_type": "execute_result"
    }
   ],
   "source": [
    "cp_best_list"
   ]
  },
  {
   "cell_type": "code",
   "execution_count": 10,
   "metadata": {
    "colab": {
     "base_uri": "https://localhost:8080/"
    },
    "id": "0GVWff9GJDWw",
    "outputId": "6e4454f9-17df-47b9-dfd6-1ba06b8be3f9"
   },
   "outputs": [
    {
     "data": {
      "text/plain": [
       "[array([2000, 4000, 6000]),\n",
       " array([2000, 4000, 6000]),\n",
       " array([2000, 4000, 6000]),\n",
       " array([2000, 4000, 6000]),\n",
       " array([2000, 4000, 6000]),\n",
       " array([2000, 4000, 6000]),\n",
       " array([2000, 4000, 6000]),\n",
       " array([2000, 4000, 6000]),\n",
       " array([2000, 4000, 6000]),\n",
       " array([2000, 4000, 6000]),\n",
       " array([2000, 4000, 6000]),\n",
       " array([2000, 4000, 6000]),\n",
       " array([2000, 4000, 6000]),\n",
       " array([2000, 4000, 6000]),\n",
       " array([2000, 4000, 6000]),\n",
       " array([2000, 4000, 6000]),\n",
       " array([2000, 4000, 6000]),\n",
       " array([2000, 4000, 6000]),\n",
       " array([2000, 4000, 6000]),\n",
       " array([2000, 4000, 6000]),\n",
       " array([2000, 4000, 6000]),\n",
       " array([2000, 4000, 6000]),\n",
       " array([2000, 4000, 6000]),\n",
       " array([2000, 4000, 6000]),\n",
       " array([2000, 4000, 6000]),\n",
       " array([2000, 4000, 6000]),\n",
       " array([2000, 4000, 6000]),\n",
       " array([2000, 4000, 6000]),\n",
       " array([2000, 4080, 6000]),\n",
       " array([2000, 4000, 6000]),\n",
       " array([2000, 4000, 6000]),\n",
       " array([2080, 4000, 6000]),\n",
       " array([2000, 4000, 6000]),\n",
       " array([2000, 4000, 6000]),\n",
       " array([2000, 4000, 6000]),\n",
       " array([2000, 4000, 6000]),\n",
       " array([2000, 4000, 6000]),\n",
       " array([2080, 4000, 6000]),\n",
       " array([2000, 4000, 6000]),\n",
       " array([2000, 4000, 6000]),\n",
       " array([2000, 4000, 6080]),\n",
       " array([1920, 4000, 6000]),\n",
       " array([2000, 3920, 6000]),\n",
       " array([2000, 4000, 6000]),\n",
       " array([2000, 4000, 6000]),\n",
       " array([2000, 4000, 6000]),\n",
       " array([2000, 4000, 6000]),\n",
       " array([2000, 4000, 6000]),\n",
       " array([2000, 4000, 6000]),\n",
       " array([2000, 4000, 6000]),\n",
       " array([2000, 4000, 6000]),\n",
       " array([2000, 4000, 6000]),\n",
       " array([2000, 4000, 6000]),\n",
       " array([2000, 4000, 6000]),\n",
       " array([2000, 4000, 6000]),\n",
       " array([2000, 4000, 6000]),\n",
       " array([2000, 4000, 6000]),\n",
       " array([2000, 4000, 6000]),\n",
       " array([2000, 4080, 6000]),\n",
       " array([2000, 4000, 6000]),\n",
       " array([2000, 4000, 6000]),\n",
       " array([2000, 4000, 6000]),\n",
       " array([2000, 4000, 6000]),\n",
       " array([2000, 4000, 6000]),\n",
       " array([2000, 4000, 6000]),\n",
       " array([2000, 4000, 6000]),\n",
       " array([2000, 4000, 6000]),\n",
       " array([2000, 4000, 6000]),\n",
       " array([1920, 4000, 6000]),\n",
       " array([2000, 4000, 6000]),\n",
       " array([2000, 4000, 6000]),\n",
       " array([2000, 4000, 6000]),\n",
       " array([2000, 4000, 6000]),\n",
       " array([2000, 3920, 6000]),\n",
       " array([2000, 4000, 6000]),\n",
       " array([2000, 4000, 6000]),\n",
       " array([2000, 4000, 6000]),\n",
       " array([2000, 4000, 6000]),\n",
       " array([2000, 4000, 6000]),\n",
       " array([2000, 4000, 6000]),\n",
       " array([2000, 4000, 6000]),\n",
       " array([2000, 4000, 6000]),\n",
       " array([2000, 4000, 6000]),\n",
       " array([2000, 4000, 6000]),\n",
       " array([2000, 4000, 6000]),\n",
       " array([2000, 4000, 6000]),\n",
       " array([2000, 4000, 6000]),\n",
       " array([2000, 4000, 6000]),\n",
       " array([2000, 4000, 6000]),\n",
       " array([2000, 4000, 6000]),\n",
       " array([2000, 4000, 6000]),\n",
       " array([2000, 4000, 6000]),\n",
       " array([2000, 4000, 6000]),\n",
       " array([2000, 4000, 6000]),\n",
       " array([2000, 4000, 6000]),\n",
       " array([2000, 4000, 6000]),\n",
       " array([2000, 4000, 6000]),\n",
       " array([2000, 4000, 6000]),\n",
       " array([2000, 4000, 6000]),\n",
       " array([2000, 4000, 6000])]"
      ]
     },
     "execution_count": 10,
     "metadata": {},
     "output_type": "execute_result"
    }
   ],
   "source": [
    "cp_best_cand_list"
   ]
  },
  {
   "cell_type": "code",
   "execution_count": 11,
   "metadata": {
    "id": "JUnKEsc4vGd0"
   },
   "outputs": [],
   "source": [
    "import pickle\n",
    "with open(path + 'dplr_n' + str(n) + '_Delta' + str(Delta) + '_K' + str(T - 1) + '_grid' + str(grid_n) + '.pickle', 'wb') as f:\n",
    "    pickle.dump([cp_best_list, param_best_list, cp_best_cand_list, loc_error_d, run_time_d, K_d], f)"
   ]
  },
  {
   "cell_type": "code",
   "execution_count": 11,
   "metadata": {
    "id": "ZYnLxRuSyBwY"
   },
   "outputs": [],
   "source": []
  }
 ],
 "metadata": {
  "colab": {
   "collapsed_sections": [],
   "name": "DPLR_n100_Delta2000_K3.ipynb",
   "provenance": [],
   "toc_visible": true
  },
  "kernelspec": {
   "display_name": "Python 3",
   "language": "python",
   "name": "python3"
  },
  "language_info": {
   "codemirror_mode": {
    "name": "ipython",
    "version": 3
   },
   "file_extension": ".py",
   "mimetype": "text/x-python",
   "name": "python",
   "nbconvert_exporter": "python",
   "pygments_lexer": "ipython3",
   "version": "3.7.4"
  }
 },
 "nbformat": 4,
 "nbformat_minor": 1
}
