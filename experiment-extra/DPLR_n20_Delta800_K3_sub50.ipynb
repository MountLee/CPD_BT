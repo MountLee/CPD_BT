{
 "cells": [
  {
   "cell_type": "code",
   "execution_count": 1,
   "metadata": {
    "colab": {
     "base_uri": "https://localhost:8080/"
    },
    "id": "im-zBYvoLM2x",
    "outputId": "c253d77b-5b03-4c67-aa9e-1c6c724378d5"
   },
   "outputs": [
    {
     "name": "stdout",
     "output_type": "stream",
     "text": [
      "Mounted at /content/drive\n"
     ]
    }
   ],
   "source": [
    "from google.colab import drive\n",
    "drive.mount('/content/drive')"
   ]
  },
  {
   "cell_type": "code",
   "execution_count": 2,
   "metadata": {
    "id": "yADnUZVCNYL0"
   },
   "outputs": [],
   "source": [
    "import os, sys\n",
    "sys.path.append('/content/drive/MyDrive/CPD_BT')"
   ]
  },
  {
   "cell_type": "code",
   "execution_count": 3,
   "metadata": {
    "colab": {
     "base_uri": "https://localhost:8080/"
    },
    "id": "uIKHDjhONeFr",
    "outputId": "f037bad4-2934-4fa7-c4c6-81f3d8445f84"
   },
   "outputs": [
    {
     "name": "stderr",
     "output_type": "stream",
     "text": [
      "/usr/local/lib/python3.7/dist-packages/statsmodels/tools/_testing.py:19: FutureWarning: pandas.util.testing is deprecated. Use the functions in the public API at pandas.testing instead.\n",
      "  import pandas.util.testing as tm\n"
     ]
    }
   ],
   "source": [
    "import numpy as np\n",
    "import matplotlib.pyplot as plt\n",
    "import scipy.stats as stats\n",
    "import random\n",
    "\n",
    "import itertools\n",
    "\n",
    "from bt_cpd import *\n",
    "\n",
    "import time\n",
    "import bisect\n",
    "\n",
    "import pandas as pd\n",
    "\n",
    "import statsmodels.api as sm\n",
    "from sklearn import linear_model\n",
    "\n",
    "from warnings import simplefilter\n",
    "from sklearn.exceptions import ConvergenceWarning\n",
    "simplefilter(\"ignore\", category=ConvergenceWarning)"
   ]
  },
  {
   "cell_type": "code",
   "execution_count": 4,
   "metadata": {
    "colab": {
     "base_uri": "https://localhost:8080/"
    },
    "id": "Ns9hvspTPlgL",
    "outputId": "3e3aaf23-3c65-4572-d481-b4bde39634f1"
   },
   "outputs": [
    {
     "name": "stdout",
     "output_type": "stream",
     "text": [
      "[ 800 1600 2400]\n"
     ]
    }
   ],
   "source": [
    "T = 4\n",
    "Delta = 800\n",
    "m = np.array([Delta] * T)\n",
    "cp_truth = np.cumsum(m)[:T-1]\n",
    "print(cp_truth)\n",
    "\n",
    "n = 20\n",
    "\n",
    "sub = 0.50"
   ]
  },
  {
   "cell_type": "code",
   "execution_count": 5,
   "metadata": {
    "id": "hfhGQb_ifULO"
   },
   "outputs": [],
   "source": [
    "path = '/content/drive/MyDrive/CPD_BT/experiment_random/'\n",
    "with open(path + 'data_n' + str(n) + '_Delta' + str(Delta) + '_K' + str(T - 1) + '_sub' + str(int(100 * sub)) + '.npy', 'rb') as f:\n",
    "    beta_list = np.load(f)\n",
    "    X_train_list = np.load(f)\n",
    "    Y_train_list = np.load(f)\n",
    "    X_test_list = np.load(f)\n",
    "    Y_test_list = np.load(f)"
   ]
  },
  {
   "cell_type": "code",
   "execution_count": 6,
   "metadata": {
    "colab": {
     "base_uri": "https://localhost:8080/"
    },
    "id": "Xqvln61AntMT",
    "outputId": "db609bfd-1a34-4ea3-9b0b-b2f630b451d6"
   },
   "outputs": [
    {
     "data": {
      "text/plain": [
       "(100, 3200, 20)"
      ]
     },
     "execution_count": 6,
     "metadata": {},
     "output_type": "execute_result"
    }
   ],
   "source": [
    "X_train_list.shape"
   ]
  },
  {
   "cell_type": "code",
   "execution_count": 7,
   "metadata": {
    "colab": {
     "base_uri": "https://localhost:8080/"
    },
    "id": "Qmel4DHRxLGT",
    "outputId": "25ee62c4-f4f7-41ae-ce93-45915b2a823a"
   },
   "outputs": [
    {
     "name": "stdout",
     "output_type": "stream",
     "text": [
      "0\n",
      "1\n",
      "2\n",
      "3\n",
      "4\n",
      "5\n",
      "6\n",
      "7\n",
      "8\n",
      "9\n",
      "10\n",
      "11\n",
      "12\n",
      "13\n",
      "14\n",
      "15\n",
      "16\n",
      "17\n",
      "18\n",
      "19\n",
      "20\n",
      "21\n",
      "22\n",
      "23\n",
      "24\n",
      "25\n",
      "26\n",
      "27\n",
      "28\n",
      "29\n",
      "30\n",
      "31\n",
      "32\n",
      "33\n",
      "34\n",
      "35\n",
      "36\n",
      "37\n",
      "38\n",
      "39\n",
      "40\n",
      "41\n",
      "42\n",
      "43\n",
      "44\n",
      "45\n",
      "46\n",
      "47\n",
      "48\n",
      "49\n",
      "50\n",
      "51\n",
      "52\n",
      "53\n",
      "54\n",
      "55\n",
      "56\n",
      "57\n",
      "58\n",
      "59\n",
      "60\n",
      "61\n",
      "62\n",
      "63\n",
      "64\n",
      "65\n",
      "66\n",
      "67\n",
      "68\n",
      "69\n",
      "70\n",
      "71\n",
      "72\n",
      "73\n",
      "74\n",
      "75\n",
      "76\n",
      "77\n",
      "78\n",
      "79\n",
      "80\n",
      "81\n",
      "82\n",
      "83\n",
      "84\n",
      "85\n",
      "86\n",
      "87\n",
      "88\n",
      "89\n",
      "90\n",
      "91\n",
      "92\n",
      "93\n",
      "94\n",
      "95\n",
      "96\n",
      "97\n",
      "98\n",
      "99\n",
      "---------- dplr -----------\n",
      "avg loc error: inf, avg time: 97.06034440994263\n",
      "std loc error: nan, std time: 10.370942580372569\n",
      "K < K*: 27, K = K*: 67, K > K*: 6\n"
     ]
    },
    {
     "name": "stderr",
     "output_type": "stream",
     "text": [
      "/usr/local/lib/python3.7/dist-packages/numpy/core/_methods.py:230: RuntimeWarning: invalid value encountered in subtract\n",
      "  x = asanyarray(arr - arrmean)\n"
     ]
    }
   ],
   "source": [
    "np.random.seed(0)\n",
    "\n",
    "grid_n = 90\n",
    "gamma_list = [20, 40]\n",
    "lam_list = [0.1]\n",
    "\n",
    "nt = Delta * T\n",
    "B = 100\n",
    "\n",
    "run_time_d = np.zeros(B)\n",
    "loc_error_d = np.zeros(B)\n",
    "K_d = np.zeros(B)\n",
    "\n",
    "cp_best_list = []\n",
    "param_best_list = []\n",
    "cp_best_cand_list = []\n",
    "\n",
    "for b in range(B):\n",
    "    X_train = X_train_list[b]\n",
    "    Y_train = Y_train_list[b]\n",
    "    X_test = X_test_list[b]\n",
    "    Y_test = Y_test_list[b]\n",
    "\n",
    "    start_time = time.time()\n",
    "    dp_fit = dplr_cv_bt(grid_n, lam_list, gamma_list)\n",
    "    cp_best, param_best, cp_best_cand = dp_fit.fit((Y_train, X_train), (Y_test, X_test))    \n",
    "    run_time_d[b] = time.time() - start_time\n",
    "    loc_error_d[b] = cp_distance(cp_best, cp_truth)\n",
    "    K_d[b] = len(cp_best)\n",
    "\n",
    "    cp_best_list.append(cp_best)\n",
    "    param_best_list.append(param_best)\n",
    "    cp_best_cand_list.append(cp_best_cand)\n",
    "    print(b)\n",
    "\n",
    "\n",
    "print('---------- dplr -----------')\n",
    "print(\"avg loc error: {0}, avg time: {1}\".format(loc_error_d.mean(), run_time_d.mean()))\n",
    "print(\"std loc error: {0}, std time: {1}\".format(loc_error_d.std(), run_time_d.std()))\n",
    "print('K < K*: {0}, K = K*: {1}, K > K*: {2}'.format(sum(K_d < T - 1), sum(K_d == T - 1), sum(K_d > T - 1)))"
   ]
  },
  {
   "cell_type": "code",
   "execution_count": 8,
   "metadata": {
    "colab": {
     "base_uri": "https://localhost:8080/"
    },
    "id": "Qe8Pn9foJDJQ",
    "outputId": "1eae1199-e748-4476-8666-0b5e49e3b352"
   },
   "outputs": [
    {
     "data": {
      "text/plain": [
       "array([  inf,   inf,   19.,   68.,   95.,   13.,   25.,  792.,  178.,\n",
       "         13.,   19.,  810.,   66.,    7.,   46.,   34.,   24.,  781.,\n",
       "        831.,  798.,   39.,   35.,  764., 1610.,   57.,  783.,   16.,\n",
       "        166.,    9.,   inf,   93.,   11.,   24.,  771., 1592.,   inf,\n",
       "         95.,  607.,   32.,  764.,  489.,  398.,   54.,  107.,    8.,\n",
       "         83.,  317.,   65.,   47.,   21.,    7.,    5.,   14.,   inf,\n",
       "         26.,   48.,   55.,  803.,  415.,  184.,   66.,   26.,  859.,\n",
       "        843.,   65.,  891.,  819.,  119., 1598.,  800.,  492.,   19.,\n",
       "         inf,  418.,  106.,   78.,   46.,    3.,   25.,   62.,   47.,\n",
       "         43.,   14.,  203.,   25.,   72.,  118.,  803.,   12.,   12.,\n",
       "         23.,   63.,    9.,  116.,   25.,   inf,   28.,   44.,  777.,\n",
       "         92.])"
      ]
     },
     "execution_count": 8,
     "metadata": {},
     "output_type": "execute_result"
    }
   ],
   "source": [
    "loc_error_d"
   ]
  },
  {
   "cell_type": "code",
   "execution_count": 9,
   "metadata": {
    "colab": {
     "base_uri": "https://localhost:8080/"
    },
    "id": "Kyi5K_w8JBWt",
    "outputId": "ff120c1e-682f-49b5-e31f-a3c9c4770a19"
   },
   "outputs": [
    {
     "data": {
      "text/plain": [
       "[[],\n",
       " [],\n",
       " [783, 1619, 2405],\n",
       " [806, 1601, 2468],\n",
       " [800, 1505, 2428],\n",
       " [799, 1613, 2397],\n",
       " [775, 1611, 2388],\n",
       " [814, 1608],\n",
       " [800, 1422, 2503],\n",
       " [787, 1600, 2393],\n",
       " [810, 1581, 2405],\n",
       " [1610],\n",
       " [790, 1666, 2377],\n",
       " [793, 1601, 2401],\n",
       " [789, 1554, 2405],\n",
       " [797, 1597, 2434],\n",
       " [795, 1576, 2403],\n",
       " [819, 2410],\n",
       " [798, 1569],\n",
       " [754, 2398],\n",
       " [806, 1591, 2361],\n",
       " [814, 1565, 2429],\n",
       " [796, 2364],\n",
       " [790],\n",
       " [810, 1651, 2343],\n",
       " [811, 1617],\n",
       " [793, 1584, 2404],\n",
       " [966, 1580, 2389],\n",
       " [794, 1598, 2391],\n",
       " [],\n",
       " [798, 1693, 2400],\n",
       " [793, 1592, 2389],\n",
       " [788, 1611, 2424],\n",
       " [829, 2399],\n",
       " [2392],\n",
       " [],\n",
       " [705, 1618, 2401],\n",
       " [752, 1593, 2380, 3007],\n",
       " [768, 1589, 2400],\n",
       " [754, 1636],\n",
       " [1111, 1111, 2372],\n",
       " [402, 1621, 2685],\n",
       " [800, 1602, 2454],\n",
       " [796, 1616, 2293],\n",
       " [792, 1597, 2401],\n",
       " [717, 1577, 2400],\n",
       " [828, 1557, 1917, 2399],\n",
       " [865, 1572, 2393],\n",
       " [846, 1601, 2447],\n",
       " [802, 1604, 2379],\n",
       " [796, 1593, 2402],\n",
       " [795, 1600, 2401],\n",
       " [800, 1586, 2393],\n",
       " [],\n",
       " [795, 1599, 2374],\n",
       " [797, 1648, 2393],\n",
       " [754, 1616, 2345],\n",
       " [1597],\n",
       " [773, 1722, 2815],\n",
       " [800, 984, 1645, 2412],\n",
       " [782, 1596, 2334],\n",
       " [791, 1574, 2376],\n",
       " [1659],\n",
       " [1557],\n",
       " [735, 1644, 2351],\n",
       " [1691, 2425],\n",
       " [805, 1581],\n",
       " [793, 1597, 2370, 2519],\n",
       " [2398],\n",
       " [799, 1600],\n",
       " [308, 728, 1672, 2404],\n",
       " [792, 1609, 2419],\n",
       " [],\n",
       " [822, 2018, 2397],\n",
       " [694, 1593, 2350],\n",
       " [803, 1634, 2322],\n",
       " [782, 1554, 2370],\n",
       " [798, 1599, 2403],\n",
       " [775, 1620, 2403],\n",
       " [862, 1641, 2408],\n",
       " [847, 1612, 2403],\n",
       " [792, 1581, 2357],\n",
       " [800, 1614, 2406],\n",
       " [818, 1003, 1588, 2436],\n",
       " [785, 1598, 2375],\n",
       " [807, 1603, 2328],\n",
       " [723, 1718, 2401],\n",
       " [1603],\n",
       " [803, 1598, 2412],\n",
       " [788, 1609, 2399],\n",
       " [813, 1602, 2377],\n",
       " [815, 1628, 2463],\n",
       " [796, 1591, 2398],\n",
       " [833, 1603, 2284],\n",
       " [825, 1611, 2393],\n",
       " [],\n",
       " [817, 1618, 2428],\n",
       " [799, 1603, 2356],\n",
       " [1577, 2433],\n",
       " [810, 1645, 2308]]"
      ]
     },
     "execution_count": 9,
     "metadata": {},
     "output_type": "execute_result"
    }
   ],
   "source": [
    "cp_best_list"
   ]
  },
  {
   "cell_type": "code",
   "execution_count": 10,
   "metadata": {
    "colab": {
     "base_uri": "https://localhost:8080/"
    },
    "id": "0GVWff9GJDWw",
    "outputId": "7c22e978-50e6-4c1f-e844-0f1b6a4f9129"
   },
   "outputs": [
    {
     "data": {
      "text/plain": [
       "[array([], dtype=float64),\n",
       " array([], dtype=float64),\n",
       " array([ 805, 1610, 2415]),\n",
       " array([ 805, 1575, 2485]),\n",
       " array([ 805, 1505, 2415]),\n",
       " array([ 805, 1610, 2380]),\n",
       " array([ 770, 1610, 2380]),\n",
       " array([ 805, 1610]),\n",
       " array([ 805, 1400, 2485]),\n",
       " array([ 805, 1610, 2380]),\n",
       " array([ 665, 1610, 2415]),\n",
       " array([2415]),\n",
       " array([ 805, 1680, 2380]),\n",
       " array([ 805, 1610, 2380]),\n",
       " array([ 805, 1540, 2415]),\n",
       " array([ 805, 1610, 2450]),\n",
       " array([ 805, 1575, 2415]),\n",
       " array([ 840, 2380]),\n",
       " array([ 805, 1610]),\n",
       " array([ 770, 2415]),\n",
       " array([ 805, 1575, 2380]),\n",
       " array([ 700, 1575, 2380]),\n",
       " array([ 245, 2380]),\n",
       " array([770]),\n",
       " array([ 805, 1645, 2555]),\n",
       " array([ 805, 1610]),\n",
       " array([ 770, 1575, 2415]),\n",
       " array([ 945, 1575, 2380]),\n",
       " array([ 805, 1505, 2380]),\n",
       " array([], dtype=float64),\n",
       " array([ 805, 1575, 2415]),\n",
       " array([ 805, 1610, 2380]),\n",
       " array([ 875, 1610, 2485]),\n",
       " array([ 805, 2415]),\n",
       " array([2380]),\n",
       " array([], dtype=float64),\n",
       " array([ 875, 1610, 2380]),\n",
       " array([ 770, 1540, 2380, 2765]),\n",
       " array([ 770, 1575, 2380]),\n",
       " array([ 735, 1680]),\n",
       " array([ 805, 1365, 2380]),\n",
       " array([ 840, 1610, 2380]),\n",
       " array([ 805, 1575, 2450]),\n",
       " array([ 805, 1610, 2380]),\n",
       " array([ 840, 1575, 2380]),\n",
       " array([ 735, 1575, 2380]),\n",
       " array([ 805, 1575, 1925, 2345]),\n",
       " array([ 840, 1540, 2450]),\n",
       " array([ 805, 1610, 2450]),\n",
       " array([ 805, 1680, 2380]),\n",
       " array([ 805, 1610, 2380]),\n",
       " array([ 805, 1610, 2415]),\n",
       " array([ 805, 1575, 2380]),\n",
       " array([], dtype=float64),\n",
       " array([ 805, 1610, 2380]),\n",
       " array([ 805, 1645, 2345]),\n",
       " array([ 770, 1610, 2345]),\n",
       " array([2485]),\n",
       " array([ 770, 1610, 2310]),\n",
       " array([ 805,  945, 1645, 2415]),\n",
       " array([ 805, 1610, 2415]),\n",
       " array([ 770, 1575, 2380]),\n",
       " array([1610]),\n",
       " array([1505]),\n",
       " array([ 735, 1645, 2345]),\n",
       " array([1680, 2415]),\n",
       " array([ 805, 1715]),\n",
       " array([ 805, 1505, 2380, 2520]),\n",
       " array([2415]),\n",
       " array([ 805, 1610]),\n",
       " array([ 490,  735, 1645, 2380]),\n",
       " array([ 805, 1610, 2415]),\n",
       " array([], dtype=float64),\n",
       " array([ 805, 2170, 2415]),\n",
       " array([ 700, 1610, 2345]),\n",
       " array([ 805, 1575, 2345]),\n",
       " array([ 735, 1610, 2380]),\n",
       " array([ 805, 1610, 2415]),\n",
       " array([ 770, 1610, 2415]),\n",
       " array([ 805, 1645, 2415]),\n",
       " array([ 805, 1610, 2380]),\n",
       " array([ 805, 1575, 2380]),\n",
       " array([ 805, 1610, 2345]),\n",
       " array([ 805,  945, 1575, 2450]),\n",
       " array([ 770, 1610, 2380]),\n",
       " array([ 805, 1610, 2345]),\n",
       " array([ 735, 1260, 2415]),\n",
       " array([1610]),\n",
       " array([ 805, 1610, 2415]),\n",
       " array([ 805, 1610, 2415]),\n",
       " array([ 805, 1610, 2380]),\n",
       " array([ 805, 1610, 2415]),\n",
       " array([ 805, 1575, 2380]),\n",
       " array([ 805, 1610, 2310]),\n",
       " array([ 805, 1610, 2380]),\n",
       " array([], dtype=float64),\n",
       " array([ 805, 1610, 2415]),\n",
       " array([ 805, 1610, 2415]),\n",
       " array([1400, 2450]),\n",
       " array([ 805, 1645, 2310])]"
      ]
     },
     "execution_count": 10,
     "metadata": {},
     "output_type": "execute_result"
    }
   ],
   "source": [
    "cp_best_cand_list"
   ]
  },
  {
   "cell_type": "code",
   "execution_count": 11,
   "metadata": {
    "id": "JUnKEsc4vGd0"
   },
   "outputs": [],
   "source": [
    "import pickle\n",
    "with open(path + 'dplr_n' + str(n) + '_Delta' + str(Delta) + '_K' + str(T - 1) + '_grid' + str(grid_n) + '_sub' + str(int(100 * sub)) + '.pickle', 'wb') as f:\n",
    "    pickle.dump([beta_list, cp_best_list, param_best_list, cp_best_cand_list, loc_error_d, run_time_d, K_d], f)"
   ]
  },
  {
   "cell_type": "code",
   "execution_count": 11,
   "metadata": {
    "id": "ZYnLxRuSyBwY"
   },
   "outputs": [],
   "source": []
  },
  {
   "cell_type": "code",
   "execution_count": 18,
   "metadata": {
    "colab": {
     "base_uri": "https://localhost:8080/"
    },
    "id": "vDqLGi8dOn8Z",
    "outputId": "865c8720-85ab-41c3-d350-2babff365e60"
   },
   "outputs": [
    {
     "name": "stdout",
     "output_type": "stream",
     "text": [
      "avg loc error: 362.84, avg time: 97.06034440994263\n",
      "std loc error: 502.19804300693966, std time: 10.370942580372569\n",
      "K < K*: 27, K = K*: 67, K > K*: 6\n"
     ]
    }
   ],
   "source": [
    "loc_error_d[loc_error_d > (T // 2) * Delta] = (T // 2) * Delta\n",
    "\n",
    "print(\"avg loc error: {0}, avg time: {1}\".format(loc_error_d.mean(), run_time_d.mean()))\n",
    "print(\"std loc error: {0}, std time: {1}\".format(loc_error_d.std(), run_time_d.std()))\n",
    "print('K < K*: {0}, K = K*: {1}, K > K*: {2}'.format(sum(K_d < T - 1), sum(K_d == T - 1), sum(K_d > T - 1)))"
   ]
  },
  {
   "cell_type": "code",
   "execution_count": null,
   "metadata": {
    "id": "Uk33W0F59mzH"
   },
   "outputs": [],
   "source": []
  }
 ],
 "metadata": {
  "colab": {
   "collapsed_sections": [],
   "name": "DPLR_n20_Delta800_K3_sub50.ipynb",
   "provenance": [],
   "toc_visible": true
  },
  "kernelspec": {
   "display_name": "Python 3",
   "language": "python",
   "name": "python3"
  },
  "language_info": {
   "codemirror_mode": {
    "name": "ipython",
    "version": 3
   },
   "file_extension": ".py",
   "mimetype": "text/x-python",
   "name": "python",
   "nbconvert_exporter": "python",
   "pygments_lexer": "ipython3",
   "version": "3.7.4"
  }
 },
 "nbformat": 4,
 "nbformat_minor": 1
}
