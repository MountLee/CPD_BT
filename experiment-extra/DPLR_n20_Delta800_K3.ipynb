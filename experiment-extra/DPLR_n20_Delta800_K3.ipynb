{
 "cells": [
  {
   "cell_type": "code",
   "execution_count": 1,
   "metadata": {
    "colab": {
     "base_uri": "https://localhost:8080/"
    },
    "id": "im-zBYvoLM2x",
    "outputId": "19fbe47c-e71c-4784-d535-60b9666f99c0"
   },
   "outputs": [
    {
     "name": "stdout",
     "output_type": "stream",
     "text": [
      "Mounted at /content/drive\n"
     ]
    }
   ],
   "source": [
    "from google.colab import drive\n",
    "drive.mount('/content/drive')"
   ]
  },
  {
   "cell_type": "code",
   "execution_count": 2,
   "metadata": {
    "id": "yADnUZVCNYL0"
   },
   "outputs": [],
   "source": [
    "import os, sys\n",
    "sys.path.append('/content/drive/MyDrive/CPD_BT')"
   ]
  },
  {
   "cell_type": "code",
   "execution_count": 3,
   "metadata": {
    "colab": {
     "base_uri": "https://localhost:8080/"
    },
    "id": "uIKHDjhONeFr",
    "outputId": "6b1abe1c-a1c3-4565-8cad-0a6793b3feaf"
   },
   "outputs": [
    {
     "name": "stderr",
     "output_type": "stream",
     "text": [
      "/usr/local/lib/python3.7/dist-packages/statsmodels/tools/_testing.py:19: FutureWarning: pandas.util.testing is deprecated. Use the functions in the public API at pandas.testing instead.\n",
      "  import pandas.util.testing as tm\n"
     ]
    }
   ],
   "source": [
    "import numpy as np\n",
    "import matplotlib.pyplot as plt\n",
    "import scipy.stats as stats\n",
    "import random\n",
    "\n",
    "import itertools\n",
    "\n",
    "from bt_cpd import *\n",
    "\n",
    "import time\n",
    "import bisect\n",
    "\n",
    "import pandas as pd\n",
    "\n",
    "import statsmodels.api as sm\n",
    "from sklearn import linear_model\n",
    "\n",
    "from warnings import simplefilter\n",
    "from sklearn.exceptions import ConvergenceWarning\n",
    "simplefilter(\"ignore\", category=ConvergenceWarning)"
   ]
  },
  {
   "cell_type": "code",
   "execution_count": 6,
   "metadata": {
    "colab": {
     "base_uri": "https://localhost:8080/"
    },
    "id": "Ns9hvspTPlgL",
    "outputId": "c29c0a36-a386-4a71-9e81-50f21b7213be"
   },
   "outputs": [
    {
     "name": "stdout",
     "output_type": "stream",
     "text": [
      "[ 800 1600 2400]\n"
     ]
    }
   ],
   "source": [
    "T = 4\n",
    "Delta = 800\n",
    "m = np.array([Delta] * T)\n",
    "cp_truth = np.cumsum(m)[:T-1]\n",
    "print(cp_truth)\n",
    "\n",
    "n = 20"
   ]
  },
  {
   "cell_type": "code",
   "execution_count": 7,
   "metadata": {
    "id": "hfhGQb_ifULO"
   },
   "outputs": [],
   "source": [
    "path = '/content/drive/MyDrive/CPD_BT/experiment_random/'\n",
    "with open(path + 'data_n' + str(n) + '_Delta' + str(Delta) + '_K' + str(T - 1) + '.npy', 'rb') as f:\n",
    "    beta_list = np.load(f)\n",
    "    X_train_list = np.load(f)\n",
    "    Y_train_list = np.load(f)\n",
    "    X_test_list = np.load(f)\n",
    "    Y_test_list = np.load(f)"
   ]
  },
  {
   "cell_type": "code",
   "execution_count": 8,
   "metadata": {
    "colab": {
     "base_uri": "https://localhost:8080/"
    },
    "id": "Xqvln61AntMT",
    "outputId": "a56a6365-ceda-4bad-e85b-b738b5cfe8f6"
   },
   "outputs": [
    {
     "data": {
      "text/plain": [
       "(100, 3200, 20)"
      ]
     },
     "execution_count": 8,
     "metadata": {},
     "output_type": "execute_result"
    }
   ],
   "source": [
    "X_train_list.shape"
   ]
  },
  {
   "cell_type": "code",
   "execution_count": 9,
   "metadata": {
    "colab": {
     "base_uri": "https://localhost:8080/"
    },
    "id": "Qmel4DHRxLGT",
    "outputId": "c3abcee4-01ca-4189-d800-631173e85d29"
   },
   "outputs": [
    {
     "name": "stdout",
     "output_type": "stream",
     "text": [
      "0\n",
      "1\n",
      "2\n",
      "3\n",
      "4\n",
      "5\n",
      "6\n",
      "7\n",
      "8\n",
      "9\n",
      "10\n",
      "11\n",
      "12\n",
      "13\n",
      "14\n",
      "15\n",
      "16\n",
      "17\n",
      "18\n",
      "19\n",
      "20\n",
      "21\n",
      "22\n",
      "23\n",
      "24\n",
      "25\n",
      "26\n",
      "27\n",
      "28\n",
      "29\n",
      "30\n",
      "31\n",
      "32\n",
      "33\n",
      "34\n",
      "35\n",
      "36\n",
      "37\n",
      "38\n",
      "39\n",
      "40\n",
      "41\n",
      "42\n",
      "43\n",
      "44\n",
      "45\n",
      "46\n",
      "47\n",
      "48\n",
      "49\n",
      "50\n",
      "51\n",
      "52\n",
      "53\n",
      "54\n",
      "55\n",
      "56\n",
      "57\n",
      "58\n",
      "59\n",
      "60\n",
      "61\n",
      "62\n",
      "63\n",
      "64\n",
      "65\n",
      "66\n",
      "67\n",
      "68\n",
      "69\n",
      "70\n",
      "71\n",
      "72\n",
      "73\n",
      "74\n",
      "75\n",
      "76\n",
      "77\n",
      "78\n",
      "79\n",
      "80\n",
      "81\n",
      "82\n",
      "83\n",
      "84\n",
      "85\n",
      "86\n",
      "87\n",
      "88\n",
      "89\n",
      "90\n",
      "91\n",
      "92\n",
      "93\n",
      "94\n",
      "95\n",
      "96\n",
      "97\n",
      "98\n",
      "99\n",
      "---------- dplr -----------\n",
      "avg loc error: 23.89, avg time: 105.77146171569824\n",
      "std loc error: 27.626398607129378, std time: 4.222208002819576\n",
      "K < K*: 0, K = K*: 100, K > K*: 0\n"
     ]
    }
   ],
   "source": [
    "np.random.seed(0)\n",
    "\n",
    "grid_n = 90\n",
    "gamma_list = [20, 40]\n",
    "lam_list = [0.1]\n",
    "\n",
    "nt = Delta * T\n",
    "B = 100\n",
    "\n",
    "run_time_d = np.zeros(B)\n",
    "loc_error_d = np.zeros(B)\n",
    "K_d = np.zeros(B)\n",
    "\n",
    "cp_best_list = []\n",
    "param_best_list = []\n",
    "cp_best_cand_list = []\n",
    "\n",
    "for b in range(B):\n",
    "    X_train = X_train_list[b]\n",
    "    Y_train = Y_train_list[b]\n",
    "    X_test = X_test_list[b]\n",
    "    Y_test = Y_test_list[b]\n",
    "\n",
    "    start_time = time.time()\n",
    "    dp_fit = dplr_cv_bt(grid_n, lam_list, gamma_list)\n",
    "    cp_best, param_best, cp_best_cand = dp_fit.fit((Y_train, X_train), (Y_test, X_test))    \n",
    "    run_time_d[b] = time.time() - start_time\n",
    "    loc_error_d[b] = cp_distance(cp_best, cp_truth)\n",
    "    K_d[b] = len(cp_best)\n",
    "\n",
    "    cp_best_list.append(cp_best)\n",
    "    param_best_list.append(param_best)\n",
    "    cp_best_cand_list.append(cp_best_cand)\n",
    "    print(b)\n",
    "\n",
    "\n",
    "print('---------- dplr -----------')\n",
    "print(\"avg loc error: {0}, avg time: {1}\".format(loc_error_d.mean(), run_time_d.mean()))\n",
    "print(\"std loc error: {0}, std time: {1}\".format(loc_error_d.std(), run_time_d.std()))\n",
    "print('K < K*: {0}, K = K*: {1}, K > K*: {2}'.format(sum(K_d < T - 1), sum(K_d == T - 1), sum(K_d > T - 1)))"
   ]
  },
  {
   "cell_type": "code",
   "execution_count": 10,
   "metadata": {
    "colab": {
     "base_uri": "https://localhost:8080/"
    },
    "id": "Qe8Pn9foJDJQ",
    "outputId": "e0ab65a0-dbe2-4346-eff1-c090f81360f2"
   },
   "outputs": [
    {
     "data": {
      "text/plain": [
       "array([ 17.,   7.,   5.,  13.,  21.,   1.,   8.,  28.,   5.,   7.,  22.,\n",
       "       102.,  23.,   9.,  16.,   7.,   5.,  17.,  16.,  10.,   9.,  12.,\n",
       "         6.,  61.,  15.,   4.,  24.,  12.,  16.,  64.,   3.,  19., 197.,\n",
       "        10.,   7.,  28.,   7.,  44.,  24.,  13.,  29.,   5.,   4.,   7.,\n",
       "        20.,   3.,  29.,  13.,  24.,  37.,   7., 103.,  13., 115.,  18.,\n",
       "        21.,  21.,   9.,  59.,   1.,  48.,  29.,  30.,  11.,   9.,  47.,\n",
       "        28.,   4.,   7.,   3.,  35.,  39.,  20.,  20.,  35.,  30.,   1.,\n",
       "         9.,  15.,  29.,  29.,  29.,  24.,  31.,  20.,   8.,   6.,  26.,\n",
       "        44.,  21.,   7.,  21.,  20.,   7.,  15.,   2.,  64.,  84.,  22.,\n",
       "         8.])"
      ]
     },
     "execution_count": 10,
     "metadata": {},
     "output_type": "execute_result"
    }
   ],
   "source": [
    "loc_error_d"
   ]
  },
  {
   "cell_type": "code",
   "execution_count": 11,
   "metadata": {
    "colab": {
     "base_uri": "https://localhost:8080/"
    },
    "id": "Kyi5K_w8JBWt",
    "outputId": "919a8d7c-6d2f-4c5b-acb8-4ce3446f8c5e"
   },
   "outputs": [
    {
     "data": {
      "text/plain": [
       "[[817, 1593, 2401],\n",
       " [807, 1606, 2403],\n",
       " [795, 1603, 2398],\n",
       " [799, 1597, 2413],\n",
       " [798, 1598, 2379],\n",
       " [801, 1600, 2399],\n",
       " [808, 1602, 2404],\n",
       " [772, 1602, 2382],\n",
       " [805, 1598, 2400],\n",
       " [807, 1604, 2399],\n",
       " [778, 1602, 2400],\n",
       " [795, 1598, 2502],\n",
       " [823, 1588, 2391],\n",
       " [793, 1591, 2401],\n",
       " [784, 1601, 2403],\n",
       " [793, 1597, 2395],\n",
       " [800, 1595, 2400],\n",
       " [795, 1600, 2417],\n",
       " [811, 1585, 2416],\n",
       " [810, 1601, 2405],\n",
       " [807, 1591, 2400],\n",
       " [798, 1601, 2388],\n",
       " [794, 1594, 2402],\n",
       " [787, 1594, 2339],\n",
       " [785, 1601, 2397],\n",
       " [804, 1599, 2400],\n",
       " [799, 1576, 2408],\n",
       " [812, 1599, 2395],\n",
       " [816, 1616, 2400],\n",
       " [800, 1586, 2464],\n",
       " [802, 1601, 2403],\n",
       " [809, 1604, 2419],\n",
       " [997, 1588, 2408],\n",
       " [810, 1594, 2408],\n",
       " [793, 1603, 2395],\n",
       " [796, 1603, 2428],\n",
       " [793, 1605, 2403],\n",
       " [792, 1602, 2444],\n",
       " [824, 1586, 2386],\n",
       " [798, 1592, 2413],\n",
       " [800, 1629, 2403],\n",
       " [802, 1605, 2396],\n",
       " [804, 1601, 2400],\n",
       " [798, 1607, 2394],\n",
       " [800, 1601, 2380],\n",
       " [799, 1603, 2400],\n",
       " [829, 1586, 2403],\n",
       " [800, 1590, 2387],\n",
       " [824, 1598, 2390],\n",
       " [763, 1603, 2406],\n",
       " [807, 1603, 2401],\n",
       " [843, 1609, 2297],\n",
       " [799, 1601, 2413],\n",
       " [685, 1600, 2397],\n",
       " [818, 1588, 2400],\n",
       " [807, 1613, 2421],\n",
       " [779, 1607, 2408],\n",
       " [800, 1599, 2391],\n",
       " [756, 1599, 2459],\n",
       " [800, 1599, 2400],\n",
       " [801, 1607, 2352],\n",
       " [771, 1613, 2393],\n",
       " [801, 1630, 2396],\n",
       " [798, 1611, 2393],\n",
       " [797, 1609, 2400],\n",
       " [800, 1647, 2404],\n",
       " [809, 1584, 2372],\n",
       " [804, 1599, 2401],\n",
       " [797, 1600, 2407],\n",
       " [803, 1603, 2399],\n",
       " [800, 1601, 2365],\n",
       " [801, 1596, 2361],\n",
       " [800, 1580, 2384],\n",
       " [783, 1580, 2416],\n",
       " [806, 1604, 2435],\n",
       " [802, 1630, 2417],\n",
       " [801, 1599, 2400],\n",
       " [791, 1597, 2398],\n",
       " [799, 1601, 2415],\n",
       " [771, 1602, 2401],\n",
       " [829, 1587, 2398],\n",
       " [829, 1595, 2409],\n",
       " [776, 1608, 2403],\n",
       " [831, 1600, 2431],\n",
       " [808, 1620, 2384],\n",
       " [802, 1592, 2400],\n",
       " [794, 1599, 2398],\n",
       " [787, 1574, 2400],\n",
       " [795, 1556, 2392],\n",
       " [802, 1579, 2382],\n",
       " [801, 1593, 2405],\n",
       " [803, 1586, 2379],\n",
       " [812, 1620, 2418],\n",
       " [801, 1597, 2393],\n",
       " [815, 1606, 2397],\n",
       " [800, 1601, 2398],\n",
       " [800, 1536, 2396],\n",
       " [791, 1516, 2409],\n",
       " [799, 1601, 2422],\n",
       " [797, 1604, 2392]]"
      ]
     },
     "execution_count": 11,
     "metadata": {},
     "output_type": "execute_result"
    }
   ],
   "source": [
    "cp_best_list"
   ]
  },
  {
   "cell_type": "code",
   "execution_count": 12,
   "metadata": {
    "colab": {
     "base_uri": "https://localhost:8080/"
    },
    "id": "0GVWff9GJDWw",
    "outputId": "e5d9f082-b178-4828-c90b-2e260e06e06a"
   },
   "outputs": [
    {
     "data": {
      "text/plain": [
       "[array([ 805, 1610, 2380]),\n",
       " array([ 805, 1610, 2415]),\n",
       " array([ 805, 1610, 2415]),\n",
       " array([ 805, 1610, 2415]),\n",
       " array([ 805, 1610, 2380]),\n",
       " array([ 805, 1610, 2415]),\n",
       " array([ 805, 1610, 2380]),\n",
       " array([ 770, 1610, 2380]),\n",
       " array([ 805, 1610, 2415]),\n",
       " array([ 805, 1610, 2415]),\n",
       " array([ 770, 1610, 2415]),\n",
       " array([ 805, 1610, 2485]),\n",
       " array([ 805, 1610, 2380]),\n",
       " array([ 805, 1575, 2415]),\n",
       " array([ 805, 1610, 2380]),\n",
       " array([ 805, 1575, 2380]),\n",
       " array([ 805, 1575, 2415]),\n",
       " array([ 805, 1610, 2415]),\n",
       " array([ 805, 1610, 2415]),\n",
       " array([ 805, 1610, 2415]),\n",
       " array([ 805, 1575, 2415]),\n",
       " array([ 805, 1610, 2380]),\n",
       " array([ 805, 1610, 2380]),\n",
       " array([ 805, 1610, 2345]),\n",
       " array([ 770, 1610, 2415]),\n",
       " array([ 805, 1610, 2380]),\n",
       " array([ 805, 1610, 2415]),\n",
       " array([ 770, 1610, 2415]),\n",
       " array([ 805, 1610, 2415]),\n",
       " array([ 805, 1575, 2450]),\n",
       " array([ 805, 1610, 2415]),\n",
       " array([ 805, 1610, 2415]),\n",
       " array([ 840, 1575, 2415]),\n",
       " array([ 805, 1575, 2415]),\n",
       " array([ 805, 1610, 2415]),\n",
       " array([ 805, 1610, 2450]),\n",
       " array([ 805, 1610, 2415]),\n",
       " array([ 770, 1610, 2450]),\n",
       " array([ 840, 1575, 2380]),\n",
       " array([ 805, 1575, 2415]),\n",
       " array([ 805, 1645, 2415]),\n",
       " array([ 805, 1610, 2380]),\n",
       " array([ 805, 1610, 2415]),\n",
       " array([ 805, 1610, 2415]),\n",
       " array([ 805, 1610, 2380]),\n",
       " array([ 875, 1610, 2380]),\n",
       " array([ 805, 1610, 2415]),\n",
       " array([ 805, 1575, 2380]),\n",
       " array([ 805, 1610, 2450]),\n",
       " array([ 805, 1610, 2380]),\n",
       " array([ 805, 1610, 2415]),\n",
       " array([ 840, 1610, 2310]),\n",
       " array([ 805, 1610, 2415]),\n",
       " array([ 770, 1610, 2380]),\n",
       " array([ 805, 1610, 2415]),\n",
       " array([ 805, 1610, 2415]),\n",
       " array([ 770, 1610, 2415]),\n",
       " array([ 805, 1610, 2380]),\n",
       " array([ 805, 1610, 2450]),\n",
       " array([ 805, 1610, 2415]),\n",
       " array([ 805, 1610, 2345]),\n",
       " array([ 770, 1610, 2380]),\n",
       " array([ 805, 1610, 2380]),\n",
       " array([ 805, 1610, 2380]),\n",
       " array([ 805, 1610, 2415]),\n",
       " array([ 805, 1645, 2415]),\n",
       " array([ 805, 1575, 2380]),\n",
       " array([ 805, 1610, 2380]),\n",
       " array([ 805, 1610, 2415]),\n",
       " array([ 805, 1610, 2415]),\n",
       " array([ 805, 1610, 2380]),\n",
       " array([ 805, 1575, 2380]),\n",
       " array([ 805, 1610, 2380]),\n",
       " array([ 805, 1575, 2415]),\n",
       " array([ 805, 1610, 2415]),\n",
       " array([ 805, 1610, 2415]),\n",
       " array([ 805, 1610, 2380]),\n",
       " array([ 770, 1610, 2415]),\n",
       " array([ 805, 1610, 2415]),\n",
       " array([ 770, 1610, 2415]),\n",
       " array([ 840, 1575, 2380]),\n",
       " array([ 805, 1610, 2415]),\n",
       " array([ 770, 1610, 2415]),\n",
       " array([ 805, 1610, 2415]),\n",
       " array([ 805, 1610, 2380]),\n",
       " array([ 805, 1610, 2415]),\n",
       " array([ 770, 1610, 2415]),\n",
       " array([ 770, 1575, 2415]),\n",
       " array([ 805, 1575, 2380]),\n",
       " array([ 805, 1540, 2380]),\n",
       " array([ 805, 1610, 2415]),\n",
       " array([ 805, 1575, 2380]),\n",
       " array([ 805, 1610, 2415]),\n",
       " array([ 805, 1575, 2415]),\n",
       " array([ 805, 1610, 2380]),\n",
       " array([ 805, 1610, 2415]),\n",
       " array([ 805, 1610, 2380]),\n",
       " array([ 805, 1610, 2415]),\n",
       " array([ 805, 1610, 2415]),\n",
       " array([ 805, 1575, 2415])]"
      ]
     },
     "execution_count": 12,
     "metadata": {},
     "output_type": "execute_result"
    }
   ],
   "source": [
    "cp_best_cand_list"
   ]
  },
  {
   "cell_type": "code",
   "execution_count": 13,
   "metadata": {
    "id": "JUnKEsc4vGd0"
   },
   "outputs": [],
   "source": [
    "import pickle\n",
    "with open(path + 'dplr_n' + str(n) + '_Delta' + str(Delta) + '_K' + str(T - 1) + '_grid' + str(grid_n) + '.pickle', 'wb') as f:\n",
    "    pickle.dump([cp_best_list, param_best_list, cp_best_cand_list, loc_error_d, run_time_d, K_d], f)"
   ]
  },
  {
   "cell_type": "code",
   "execution_count": null,
   "metadata": {
    "id": "ZYnLxRuSyBwY"
   },
   "outputs": [],
   "source": []
  }
 ],
 "metadata": {
  "colab": {
   "collapsed_sections": [],
   "name": "DPLR_n20_Delta800_K3.ipynb",
   "provenance": [],
   "toc_visible": true
  },
  "kernelspec": {
   "display_name": "Python 3",
   "language": "python",
   "name": "python3"
  },
  "language_info": {
   "codemirror_mode": {
    "name": "ipython",
    "version": 3
   },
   "file_extension": ".py",
   "mimetype": "text/x-python",
   "name": "python",
   "nbconvert_exporter": "python",
   "pygments_lexer": "ipython3",
   "version": "3.7.4"
  }
 },
 "nbformat": 4,
 "nbformat_minor": 1
}
