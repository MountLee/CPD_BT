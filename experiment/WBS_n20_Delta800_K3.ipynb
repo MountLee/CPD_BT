{
 "cells": [
  {
   "cell_type": "code",
   "execution_count": 1,
   "metadata": {
    "colab": {
     "base_uri": "https://localhost:8080/"
    },
    "id": "im-zBYvoLM2x",
    "outputId": "f0b06fcf-a5cc-4029-a696-7fa06d97e7fd"
   },
   "outputs": [
    {
     "name": "stdout",
     "output_type": "stream",
     "text": [
      "Drive already mounted at /content/drive; to attempt to forcibly remount, call drive.mount(\"/content/drive\", force_remount=True).\n"
     ]
    }
   ],
   "source": [
    "from google.colab import drive\n",
    "drive.mount('/content/drive')"
   ]
  },
  {
   "cell_type": "code",
   "execution_count": 2,
   "metadata": {
    "id": "yADnUZVCNYL0"
   },
   "outputs": [],
   "source": [
    "import os, sys\n",
    "sys.path.append('/content/drive/MyDrive/CPD_BT')"
   ]
  },
  {
   "cell_type": "code",
   "execution_count": 3,
   "metadata": {
    "colab": {
     "base_uri": "https://localhost:8080/"
    },
    "id": "uIKHDjhONeFr",
    "outputId": "e9b3f032-79f0-430a-f617-f4859961fcb1"
   },
   "outputs": [
    {
     "name": "stderr",
     "output_type": "stream",
     "text": [
      "/usr/local/lib/python3.7/dist-packages/statsmodels/tools/_testing.py:19: FutureWarning: pandas.util.testing is deprecated. Use the functions in the public API at pandas.testing instead.\n",
      "  import pandas.util.testing as tm\n"
     ]
    }
   ],
   "source": [
    "import numpy as np\n",
    "import matplotlib.pyplot as plt\n",
    "import scipy.stats as stats\n",
    "import random\n",
    "\n",
    "import itertools\n",
    "\n",
    "from bt_cpd import *\n",
    "\n",
    "import time\n",
    "import bisect\n",
    "\n",
    "import pandas as pd\n",
    "\n",
    "import statsmodels.api as sm\n",
    "from sklearn import linear_model\n",
    "\n",
    "from warnings import simplefilter\n",
    "from sklearn.exceptions import ConvergenceWarning\n",
    "simplefilter(\"ignore\", category=ConvergenceWarning)"
   ]
  },
  {
   "cell_type": "code",
   "execution_count": 4,
   "metadata": {
    "colab": {
     "base_uri": "https://localhost:8080/"
    },
    "id": "Ns9hvspTPlgL",
    "outputId": "d028ecba-886f-482d-cdc1-6f6fdc607ed2"
   },
   "outputs": [
    {
     "name": "stdout",
     "output_type": "stream",
     "text": [
      "2.1972245773362196\n",
      "[5.96433002 5.17173002 5.96433002]\n"
     ]
    }
   ],
   "source": [
    "T = 4\n",
    "Delta = 800\n",
    "m = np.array([Delta] * T)\n",
    "cp_truth = np.cumsum(m)[:T-1]\n",
    "\n",
    "n = 20\n",
    "beta = np.zeros((T, n))\n",
    "\n",
    "t = 0.9\n",
    "kappa = np.log(t / (1 - t))\n",
    "delta = 1\n",
    "beta_ref = get_beta_with_gap(n, delta)\n",
    "beta_ref *= kappa / (np.max(beta_ref) - np.min(beta_ref))\n",
    "beta[0] = beta_ref[:]\n",
    "beta[1] = change_type(beta_ref, 1)\n",
    "beta[2] = change_type(beta_ref, 2)\n",
    "beta[3] = change_type(beta_ref, 3)\n",
    "\n",
    "print(max(beta[0]) - min(beta[0]))\n",
    "\n",
    "diff = np.zeros(T - 1)\n",
    "for t in range(1, T):\n",
    "    diff[t - 1] = np.sum(np.abs(beta[t] - beta[t - 1])**2)**0.5\n",
    "print(diff)"
   ]
  },
  {
   "cell_type": "code",
   "execution_count": 5,
   "metadata": {
    "colab": {
     "base_uri": "https://localhost:8080/"
    },
    "id": "FLFx8a-OI9XK",
    "outputId": "e7b7368b-211e-4125-9cbd-6c31e03f9855"
   },
   "outputs": [
    {
     "data": {
      "text/plain": [
       "array([ 800, 1600, 2400])"
      ]
     },
     "execution_count": 5,
     "metadata": {},
     "output_type": "execute_result"
    }
   ],
   "source": [
    "cp_truth"
   ]
  },
  {
   "cell_type": "code",
   "execution_count": 6,
   "metadata": {
    "id": "hfhGQb_ifULO"
   },
   "outputs": [],
   "source": [
    "path = '/content/drive/MyDrive/CPD_BT/'\n",
    "with open(path + 'data_n' + str(n) + '_Delta' + str(Delta) + '_K' + str(T - 1) + '.npy', 'rb') as f:\n",
    "    X_train_list = np.load(f)\n",
    "    Y_train_list = np.load(f)\n",
    "    X_test_list = np.load(f)\n",
    "    Y_test_list = np.load(f)"
   ]
  },
  {
   "cell_type": "code",
   "execution_count": 7,
   "metadata": {
    "colab": {
     "base_uri": "https://localhost:8080/"
    },
    "id": "LIs03JMYzD57",
    "outputId": "9e403af1-a20d-4e8f-94d2-b523b0be226f"
   },
   "outputs": [
    {
     "data": {
      "text/plain": [
       "(100, 3200, 20)"
      ]
     },
     "execution_count": 7,
     "metadata": {},
     "output_type": "execute_result"
    }
   ],
   "source": [
    "X_train_list.shape"
   ]
  },
  {
   "cell_type": "code",
   "execution_count": 8,
   "metadata": {
    "colab": {
     "base_uri": "https://localhost:8080/"
    },
    "id": "Qmel4DHRxLGT",
    "outputId": "34dfa4a7-6017-4c87-c300-124b51b3d46c"
   },
   "outputs": [
    {
     "name": "stdout",
     "output_type": "stream",
     "text": [
      "0\n",
      "1\n",
      "2\n",
      "3\n",
      "4\n",
      "5\n",
      "6\n",
      "7\n",
      "8\n",
      "9\n",
      "10\n",
      "11\n",
      "12\n",
      "13\n",
      "14\n",
      "15\n",
      "16\n",
      "17\n",
      "18\n",
      "19\n",
      "20\n",
      "21\n",
      "22\n",
      "23\n",
      "24\n",
      "25\n",
      "26\n",
      "27\n",
      "28\n",
      "29\n",
      "30\n",
      "31\n",
      "32\n",
      "33\n",
      "34\n",
      "35\n",
      "36\n",
      "37\n",
      "38\n",
      "39\n",
      "40\n",
      "41\n",
      "42\n",
      "43\n",
      "44\n",
      "45\n",
      "46\n",
      "47\n",
      "48\n",
      "49\n",
      "50\n",
      "51\n",
      "52\n",
      "53\n",
      "54\n",
      "55\n",
      "56\n",
      "57\n",
      "58\n",
      "59\n",
      "60\n",
      "61\n",
      "62\n",
      "63\n",
      "64\n",
      "65\n",
      "66\n",
      "67\n",
      "68\n",
      "69\n",
      "70\n",
      "71\n",
      "72\n",
      "73\n",
      "74\n",
      "75\n",
      "76\n",
      "77\n",
      "78\n",
      "79\n",
      "80\n",
      "81\n",
      "82\n",
      "83\n",
      "84\n",
      "85\n",
      "86\n",
      "87\n",
      "88\n",
      "89\n",
      "90\n",
      "91\n",
      "92\n",
      "93\n",
      "94\n",
      "95\n",
      "96\n",
      "97\n",
      "98\n",
      "99\n",
      "---------- wbs -----------\n",
      "avg loc error: 240.48, avg time: 144.20785520553588\n",
      "std loc error: 220.3177922910449, std time: 12.5031040774292\n",
      "K < K*: 0, K = K*: 40, K > K*: 60\n"
     ]
    }
   ],
   "source": [
    "np.random.seed(0)\n",
    "\n",
    "m_intervals = 50\n",
    "grid_n = 200\n",
    "gamma_list = [20, 40]\n",
    "lam_list = [0.1]\n",
    "\n",
    "nt = Delta * T\n",
    "B = 100\n",
    "\n",
    "run_time_wbs = np.zeros(B)\n",
    "loc_error_wbs = np.zeros(B)\n",
    "K_wbs = np.zeros(B)\n",
    "\n",
    "cp_best_list = []\n",
    "param_best_list = []\n",
    "\n",
    "for b in range(B):\n",
    "    X_train = X_train_list[b]\n",
    "    Y_train = Y_train_list[b]\n",
    "    X_test = X_test_list[b]\n",
    "    Y_test = Y_test_list[b]\n",
    "\n",
    "    start_time = time.time()\n",
    "    wbs_fit = wbs_cv_bt(m_intervals, grid_n, lam_list, gamma_list, smooth = 5, buffer = 5)\n",
    "    res = wbs_fit.fit((X_train, Y_train), (X_test, Y_test))\n",
    "    cp_best, cp_val, cusum_val, threshold_best, grid = res   \n",
    "    run_time_wbs[b] = time.time() - start_time\n",
    "    loc_error_wbs[b] = cp_distance(cp_best, cp_truth)\n",
    "    K_wbs[b] = len(cp_best)\n",
    "\n",
    "    cp_best_list.append(cp_best)\n",
    "    param_best_list.append(threshold_best)\n",
    "\n",
    "    print(b)\n",
    "\n",
    "print('---------- wbs -----------')\n",
    "print(\"avg loc error: {0}, avg time: {1}\".format(loc_error_wbs.mean(), run_time_wbs.mean()))\n",
    "print(\"std loc error: {0}, std time: {1}\".format(loc_error_wbs.std(), run_time_wbs.std()))\n",
    "print('K < K*: {0}, K = K*: {1}, K > K*: {2}'.format(sum(K_wbs < T - 1), sum(K_wbs == T - 1), sum(K_wbs > T - 1)))"
   ]
  },
  {
   "cell_type": "code",
   "execution_count": 9,
   "metadata": {
    "colab": {
     "base_uri": "https://localhost:8080/"
    },
    "id": "Qe8Pn9foJDJQ",
    "outputId": "901d7bf8-7534-49f8-d786-8033ca11cf65"
   },
   "outputs": [
    {
     "data": {
      "text/plain": [
       "array([  0.,   0., 336., 256.,   0., 384.,   0.,  16., 464., 512., 576.,\n",
       "         0.,   0.,   0., 464.,   0., 144., 304., 400., 304., 352., 624.,\n",
       "       368., 528., 336., 240.,   0., 480., 496.,   0., 672., 256.,  32.,\n",
       "       288.,   0., 544., 384.,   0.,   0., 592.,  16., 432., 320., 384.,\n",
       "         0., 224.,   0., 288.,   0., 352., 160.,  16., 624.,  16.,   0.,\n",
       "       560., 528.,   0.,  16., 608.,   0., 576., 160., 176., 224.,   0.,\n",
       "         0.,   0., 640.,   0., 432., 384.,   0., 256.,  16.,   0., 336.,\n",
       "       336., 352., 304., 304.,   0.,   0.,  16., 304.,   0.,   0., 512.,\n",
       "       384.,   0., 352., 272., 384., 688.,   0., 480.,   0., 512., 352.,\n",
       "       400.])"
      ]
     },
     "execution_count": 9,
     "metadata": {},
     "output_type": "execute_result"
    }
   ],
   "source": [
    "loc_error_wbs"
   ]
  },
  {
   "cell_type": "code",
   "execution_count": 10,
   "metadata": {
    "colab": {
     "base_uri": "https://localhost:8080/"
    },
    "id": "WrC-7R1GwSx7",
    "outputId": "b4ba1b42-372c-46e9-fa0c-726c83495465"
   },
   "outputs": [
    {
     "data": {
      "text/plain": [
       "[[800, 1600, 2400],\n",
       " [800, 1600, 2400],\n",
       " [800, 1296, 1600, 2064, 2400],\n",
       " [800, 1344, 1600, 2400],\n",
       " [800, 1600, 2400],\n",
       " [800, 1600, 2016, 2176, 2400],\n",
       " [800, 1600, 2400],\n",
       " [800, 1616, 2400],\n",
       " [800, 1600, 2400, 2864],\n",
       " [576, 800, 1600, 2400, 2912],\n",
       " [800, 1616, 2048, 2400, 2976],\n",
       " [800, 1600, 2400],\n",
       " [800, 1600, 2400],\n",
       " [800, 1600, 2400],\n",
       " [800, 1008, 1344, 1600, 2400, 2864],\n",
       " [800, 1600, 2400],\n",
       " [800, 1600, 2256, 2416],\n",
       " [800, 1296, 1600, 1824, 2400],\n",
       " [400, 800, 1584, 1776, 1936, 2112, 2400],\n",
       " [608, 800, 1440, 1616, 2384, 2704],\n",
       " [800, 1136, 1600, 2400, 2752],\n",
       " [448, 800, 1600, 1888, 2384, 3024],\n",
       " [624, 800, 1600, 2032, 2384, 2672],\n",
       " [800, 1296, 1568, 2400, 2640, 2928],\n",
       " [784, 1264, 1600, 1808, 2240, 2400],\n",
       " [800, 1600, 2400, 2640],\n",
       " [800, 1600, 2400],\n",
       " [320, 800, 1600, 2400],\n",
       " [576, 800, 1600, 2176, 2400, 2896],\n",
       " [800, 1600, 2400],\n",
       " [128, 784, 1408, 1600, 2400],\n",
       " [800, 1600, 1856, 2384],\n",
       " [816, 1568, 2384],\n",
       " [800, 1600, 1888, 2400],\n",
       " [800, 1600, 2400],\n",
       " [256, 448, 800, 1600, 2400],\n",
       " [800, 1216, 1600, 2400, 2736],\n",
       " [800, 1600, 2400],\n",
       " [800, 1600, 2400],\n",
       " [800, 1600, 1760, 2384, 2992],\n",
       " [800, 1584, 2400],\n",
       " [368, 800, 1600, 2400, 2608],\n",
       " [496, 800, 1008, 1600, 2080, 2400],\n",
       " [448, 800, 960, 1600, 2384, 2592, 2784],\n",
       " [800, 1600, 2400],\n",
       " [800, 1392, 1600, 1824, 2400, 2624],\n",
       " [800, 1600, 2400],\n",
       " [800, 1600, 2400, 2688],\n",
       " [800, 1600, 2400],\n",
       " [800, 1600, 2400, 2752],\n",
       " [640, 800, 1600, 2400],\n",
       " [816, 1600, 2400],\n",
       " [176, 800, 1600, 1920, 2400],\n",
       " [800, 1600, 2416],\n",
       " [800, 1600, 2400],\n",
       " [800, 1616, 2112, 2400, 2960],\n",
       " [800, 1616, 2400, 2928],\n",
       " [800, 1600, 2400],\n",
       " [784, 1600, 2400],\n",
       " [800, 1600, 2400, 3008],\n",
       " [800, 1600, 2400],\n",
       " [640, 800, 1328, 1600, 2400, 2976],\n",
       " [640, 800, 1600, 2400],\n",
       " [800, 1600, 1776, 2224, 2400, 2560],\n",
       " [800, 1600, 1824, 2384, 2544],\n",
       " [800, 1600, 2400],\n",
       " [800, 1600, 2400],\n",
       " [800, 1600, 2400],\n",
       " [160, 800, 1616, 2400, 2576],\n",
       " [800, 1600, 2400],\n",
       " [368, 800, 1600, 1968, 2400, 2688],\n",
       " [784, 1600, 1984, 2416],\n",
       " [800, 1600, 2400],\n",
       " [784, 1344, 1600, 1808, 2400, 2640],\n",
       " [784, 1600, 2400],\n",
       " [800, 1600, 2400],\n",
       " [800, 1344, 1600, 2240, 2400, 2736],\n",
       " [576, 800, 1600, 2400, 2736],\n",
       " [448, 800, 1392, 1600, 2416],\n",
       " [800, 1680, 2096, 2400],\n",
       " [800, 1600, 2400, 2704],\n",
       " [800, 1600, 2400],\n",
       " [800, 1600, 2400],\n",
       " [784, 1616, 2400],\n",
       " [800, 1600, 1904, 2400],\n",
       " [800, 1600, 2400],\n",
       " [800, 1600, 2400],\n",
       " [800, 1216, 1600, 2400, 2624, 2912],\n",
       " [576, 784, 1296, 1600, 2112, 2400, 2784],\n",
       " [800, 1600, 2400],\n",
       " [464, 800, 1600, 1952, 2400],\n",
       " [800, 992, 1328, 1600, 2400],\n",
       " [816, 1024, 1248, 1584, 2400, 2784],\n",
       " [112, 800, 1600, 1984, 2400, 2592],\n",
       " [800, 1600, 2400],\n",
       " [800, 1184, 1360, 1600, 2384, 2880],\n",
       " [800, 1600, 2400],\n",
       " [784, 1600, 2400, 2688, 2912],\n",
       " [800, 1248, 1600, 1936, 2400],\n",
       " [400, 592, 784, 1280, 1600, 2160, 2400]]"
      ]
     },
     "execution_count": 10,
     "metadata": {},
     "output_type": "execute_result"
    }
   ],
   "source": [
    "cp_best_list"
   ]
  },
  {
   "cell_type": "code",
   "execution_count": 11,
   "metadata": {
    "id": "JUnKEsc4vGd0"
   },
   "outputs": [],
   "source": [
    "import pickle\n",
    "with open(path + 'wbs_n' + str(n) + '_Delta' + str(Delta) + '_K' + str(T - 1) + '_grid' + str(grid_n) + '.pickle', 'wb') as f:\n",
    "    pickle.dump([cp_best_list, param_best_list, loc_error_wbs, run_time_wbs, K_wbs], f)"
   ]
  }
 ],
 "metadata": {
  "colab": {
   "collapsed_sections": [],
   "name": "WBS-n20-Delta800-K3",
   "provenance": [],
   "toc_visible": true
  },
  "kernelspec": {
   "display_name": "Python 3",
   "language": "python",
   "name": "python3"
  },
  "language_info": {
   "codemirror_mode": {
    "name": "ipython",
    "version": 3
   },
   "file_extension": ".py",
   "mimetype": "text/x-python",
   "name": "python",
   "nbconvert_exporter": "python",
   "pygments_lexer": "ipython3",
   "version": "3.7.4"
  }
 },
 "nbformat": 4,
 "nbformat_minor": 1
}
