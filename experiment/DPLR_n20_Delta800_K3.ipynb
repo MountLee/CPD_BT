{
  "nbformat": 4,
  "nbformat_minor": 0,
  "metadata": {
    "colab": {
      "name": "DPLR-n20-Delta800-K3",
      "provenance": [],
      "collapsed_sections": [],
      "toc_visible": true
    },
    "kernelspec": {
      "name": "python3",
      "display_name": "Python 3"
    },
    "language_info": {
      "name": "python"
    }
  },
  "cells": [
    {
      "cell_type": "code",
      "execution_count": 1,
      "metadata": {
        "id": "im-zBYvoLM2x",
        "colab": {
          "base_uri": "https://localhost:8080/"
        },
        "outputId": "87948ea5-8080-4c8c-86aa-25430058cd5a"
      },
      "outputs": [
        {
          "output_type": "stream",
          "name": "stdout",
          "text": [
            "Drive already mounted at /content/drive; to attempt to forcibly remount, call drive.mount(\"/content/drive\", force_remount=True).\n"
          ]
        }
      ],
      "source": [
        "from google.colab import drive\n",
        "drive.mount('/content/drive')"
      ]
    },
    {
      "cell_type": "code",
      "source": [
        "import os, sys\n",
        "sys.path.append('/content/drive/MyDrive/CPD_BT')"
      ],
      "metadata": {
        "id": "yADnUZVCNYL0"
      },
      "execution_count": 2,
      "outputs": []
    },
    {
      "cell_type": "code",
      "source": [
        "import numpy as np\n",
        "import matplotlib.pyplot as plt\n",
        "import scipy.stats as stats\n",
        "import random\n",
        "\n",
        "import itertools\n",
        "\n",
        "from bt_cpd import *\n",
        "\n",
        "import time\n",
        "import bisect\n",
        "\n",
        "import pandas as pd\n",
        "\n",
        "import statsmodels.api as sm\n",
        "from sklearn import linear_model\n",
        "\n",
        "from warnings import simplefilter\n",
        "from sklearn.exceptions import ConvergenceWarning\n",
        "simplefilter(\"ignore\", category=ConvergenceWarning)"
      ],
      "metadata": {
        "id": "uIKHDjhONeFr",
        "colab": {
          "base_uri": "https://localhost:8080/"
        },
        "outputId": "fa99a315-d82f-49a7-dff0-7ffd6ca28f38"
      },
      "execution_count": 3,
      "outputs": [
        {
          "output_type": "stream",
          "name": "stderr",
          "text": [
            "/usr/local/lib/python3.7/dist-packages/statsmodels/tools/_testing.py:19: FutureWarning: pandas.util.testing is deprecated. Use the functions in the public API at pandas.testing instead.\n",
            "  import pandas.util.testing as tm\n"
          ]
        }
      ]
    },
    {
      "cell_type": "code",
      "source": [
        "T = 4\n",
        "Delta = 800\n",
        "m = np.array([Delta] * T)\n",
        "cp_truth = np.cumsum(m)[:T-1]\n",
        "\n",
        "n = 20\n",
        "beta = np.zeros((T, n))\n",
        "\n",
        "t = 0.9\n",
        "kappa = np.log(t / (1 - t))\n",
        "delta = 1\n",
        "beta_ref = get_beta_with_gap(n, delta)\n",
        "beta_ref *= kappa / (np.max(beta_ref) - np.min(beta_ref))\n",
        "beta[0] = beta_ref[:]\n",
        "beta[1] = change_type(beta_ref, 1)\n",
        "beta[2] = change_type(beta_ref, 2)\n",
        "beta[3] = change_type(beta_ref, 3)\n",
        "\n",
        "print(max(beta[0]) - min(beta[0]))\n",
        "\n",
        "diff = np.zeros(T - 1)\n",
        "for t in range(1, T):\n",
        "    diff[t - 1] = np.sum(np.abs(beta[t] - beta[t - 1])**2)**0.5\n",
        "print(diff)"
      ],
      "metadata": {
        "id": "Ns9hvspTPlgL",
        "colab": {
          "base_uri": "https://localhost:8080/"
        },
        "outputId": "301d42f1-21b1-42ec-b90d-2efebf5fe6b8"
      },
      "execution_count": 4,
      "outputs": [
        {
          "output_type": "stream",
          "name": "stdout",
          "text": [
            "2.1972245773362196\n",
            "[5.96433002 5.17173002 5.96433002]\n"
          ]
        }
      ]
    },
    {
      "cell_type": "code",
      "source": [
        "cp_truth"
      ],
      "metadata": {
        "id": "FLFx8a-OI9XK",
        "colab": {
          "base_uri": "https://localhost:8080/"
        },
        "outputId": "7671cbe8-6a2c-46a8-f228-cebc3111426b"
      },
      "execution_count": 5,
      "outputs": [
        {
          "output_type": "execute_result",
          "data": {
            "text/plain": [
              "array([ 800, 1600, 2400])"
            ]
          },
          "metadata": {},
          "execution_count": 5
        }
      ]
    },
    {
      "cell_type": "code",
      "source": [
        "path = '/content/drive/MyDrive/CPD_BT/'\n",
        "with open(path + 'data_n' + str(n) + '_Delta' + str(Delta) + '_K' + str(T - 1) + '.npy', 'rb') as f:\n",
        "    X_train_list = np.load(f)\n",
        "    Y_train_list = np.load(f)\n",
        "    X_test_list = np.load(f)\n",
        "    Y_test_list = np.load(f)"
      ],
      "metadata": {
        "id": "hfhGQb_ifULO"
      },
      "execution_count": 6,
      "outputs": []
    },
    {
      "cell_type": "code",
      "source": [
        "X_train_list.shape"
      ],
      "metadata": {
        "id": "Xqvln61AntMT",
        "colab": {
          "base_uri": "https://localhost:8080/"
        },
        "outputId": "19134539-992b-4361-ac62-b66227a454cd"
      },
      "execution_count": 7,
      "outputs": [
        {
          "output_type": "execute_result",
          "data": {
            "text/plain": [
              "(100, 3200, 20)"
            ]
          },
          "metadata": {},
          "execution_count": 7
        }
      ]
    },
    {
      "cell_type": "code",
      "source": [
        "np.random.seed(0)\n",
        "\n",
        "grid_n = 90\n",
        "gamma_list = [20, 40]\n",
        "lam_list = [0.1]\n",
        "\n",
        "nt = Delta * T\n",
        "B = 100\n",
        "\n",
        "run_time_d = np.zeros(B)\n",
        "loc_error_d = np.zeros(B)\n",
        "K_d = np.zeros(B)\n",
        "\n",
        "cp_best_list = []\n",
        "param_best_list = []\n",
        "cp_best_cand_list = []\n",
        "\n",
        "for b in range(B):\n",
        "    X_train = X_train_list[b]\n",
        "    Y_train = Y_train_list[b]\n",
        "    X_test = X_test_list[b]\n",
        "    Y_test = Y_test_list[b]\n",
        "\n",
        "    start_time = time.time()\n",
        "    dp_fit = dplr_cv_bt(grid_n, lam_list, gamma_list)\n",
        "    cp_best, param_best, cp_best_cand = dp_fit.fit((Y_train, X_train), (Y_test, X_test))    \n",
        "    run_time_d[b] = time.time() - start_time\n",
        "    loc_error_d[b] = cp_distance(cp_best, cp_truth)\n",
        "    K_d[b] = len(cp_best)\n",
        "\n",
        "    cp_best_list.append(cp_best)\n",
        "    param_best_list.append(param_best)\n",
        "    cp_best_cand_list.append(cp_best_cand)\n",
        "    print(b)\n",
        "\n",
        "\n",
        "print('---------- dplr -----------')\n",
        "print(\"avg loc error: {0}, avg time: {1}\".format(loc_error_d.mean(), run_time_d.mean()))\n",
        "print(\"std loc error: {0}, std time: {1}\".format(loc_error_d.std(), run_time_d.std()))\n",
        "print('K < K*: {0}, K = K*: {1}, K > K*: {2}'.format(sum(K_d < T - 1), sum(K_d == T - 1), sum(K_d > T - 1)))"
      ],
      "metadata": {
        "id": "Qmel4DHRxLGT",
        "colab": {
          "base_uri": "https://localhost:8080/"
        },
        "outputId": "0fbb94d9-4ed5-4a9c-d047-afb8f995c3dc"
      },
      "execution_count": 8,
      "outputs": [
        {
          "output_type": "stream",
          "name": "stdout",
          "text": [
            "0\n",
            "1\n",
            "2\n",
            "3\n",
            "4\n",
            "5\n",
            "6\n",
            "7\n",
            "8\n",
            "9\n",
            "10\n",
            "11\n",
            "12\n",
            "13\n",
            "14\n",
            "15\n",
            "16\n",
            "17\n",
            "18\n",
            "19\n",
            "20\n",
            "21\n",
            "22\n",
            "23\n",
            "24\n",
            "25\n",
            "26\n",
            "27\n",
            "28\n",
            "29\n",
            "30\n",
            "31\n",
            "32\n",
            "33\n",
            "34\n",
            "35\n",
            "36\n",
            "37\n",
            "38\n",
            "39\n",
            "40\n",
            "41\n",
            "42\n",
            "43\n",
            "44\n",
            "45\n",
            "46\n",
            "47\n",
            "48\n",
            "49\n",
            "50\n",
            "51\n",
            "52\n",
            "53\n",
            "54\n",
            "55\n",
            "56\n",
            "57\n",
            "58\n",
            "59\n",
            "60\n",
            "61\n",
            "62\n",
            "63\n",
            "64\n",
            "65\n",
            "66\n",
            "67\n",
            "68\n",
            "69\n",
            "70\n",
            "71\n",
            "72\n",
            "73\n",
            "74\n",
            "75\n",
            "76\n",
            "77\n",
            "78\n",
            "79\n",
            "80\n",
            "81\n",
            "82\n",
            "83\n",
            "84\n",
            "85\n",
            "86\n",
            "87\n",
            "88\n",
            "89\n",
            "90\n",
            "91\n",
            "92\n",
            "93\n",
            "94\n",
            "95\n",
            "96\n",
            "97\n",
            "98\n",
            "99\n",
            "---------- dplr -----------\n",
            "avg loc error: 9.0, avg time: 118.53355576276779\n",
            "std loc error: 9.9498743710662, std time: 2.243416145437494\n",
            "K < K*: 0, K = K*: 100, K > K*: 0\n"
          ]
        }
      ]
    },
    {
      "cell_type": "code",
      "source": [
        "loc_error_d"
      ],
      "metadata": {
        "id": "Qe8Pn9foJDJQ",
        "colab": {
          "base_uri": "https://localhost:8080/"
        },
        "outputId": "245cf807-2a31-4a8d-eda2-ba89512da7ee"
      },
      "execution_count": 9,
      "outputs": [
        {
          "output_type": "execute_result",
          "data": {
            "text/plain": [
              "array([ 2.,  5., 16.,  8.,  3.,  2., 11., 12.,  4.,  1., 15., 10.,  2.,\n",
              "        3., 12.,  1., 19.,  7., 20., 19.,  7.,  5.,  6., 35.,  8., 11.,\n",
              "        6.,  7.,  7.,  6., 11., 13., 31.,  2.,  1.,  3.,  5.,  7.,  4.,\n",
              "       13., 13.,  1.,  9.,  7.,  4.,  3.,  1.,  9.,  4.,  4.,  4., 10.,\n",
              "       10., 15.,  4., 22.,  6.,  4.,  3.,  2.,  2.,  2.,  5.,  7.,  9.,\n",
              "        1.,  6., 11., 26.,  6.,  9., 29.,  1., 13., 24.,  4., 10.,  1.,\n",
              "        8., 79., 11., 12.,  4.,  9., 28.,  5.,  2.,  0.,  3.,  9.,  3.,\n",
              "        3.,  8., 10.,  3., 15.,  1.,  9., 11.,  6.])"
            ]
          },
          "metadata": {},
          "execution_count": 9
        }
      ]
    },
    {
      "cell_type": "code",
      "source": [
        "cp_best_list"
      ],
      "metadata": {
        "id": "WrC-7R1GwSx7",
        "colab": {
          "base_uri": "https://localhost:8080/"
        },
        "outputId": "52a1c207-1043-490b-9d58-7fde60ac35ec"
      },
      "execution_count": 10,
      "outputs": [
        {
          "output_type": "execute_result",
          "data": {
            "text/plain": [
              "[[800, 1600, 2402],\n",
              " [799, 1600, 2395],\n",
              " [784, 1600, 2397],\n",
              " [804, 1608, 2406],\n",
              " [803, 1603, 2402],\n",
              " [802, 1602, 2401],\n",
              " [809, 1595, 2411],\n",
              " [800, 1612, 2402],\n",
              " [800, 1596, 2400],\n",
              " [800, 1601, 2400],\n",
              " [801, 1615, 2399],\n",
              " [804, 1596, 2390],\n",
              " [802, 1598, 2401],\n",
              " [800, 1602, 2397],\n",
              " [812, 1606, 2410],\n",
              " [800, 1601, 2400],\n",
              " [797, 1603, 2419],\n",
              " [803, 1593, 2397],\n",
              " [802, 1580, 2406],\n",
              " [800, 1619, 2387],\n",
              " [804, 1601, 2393],\n",
              " [800, 1600, 2395],\n",
              " [803, 1603, 2406],\n",
              " [803, 1565, 2396],\n",
              " [792, 1597, 2394],\n",
              " [791, 1605, 2411],\n",
              " [806, 1602, 2400],\n",
              " [801, 1600, 2393],\n",
              " [807, 1600, 2398],\n",
              " [802, 1596, 2394],\n",
              " [789, 1603, 2398],\n",
              " [799, 1606, 2387],\n",
              " [792, 1569, 2393],\n",
              " [801, 1601, 2398],\n",
              " [800, 1599, 2401],\n",
              " [800, 1600, 2397],\n",
              " [805, 1599, 2395],\n",
              " [805, 1607, 2394],\n",
              " [796, 1600, 2402],\n",
              " [808, 1600, 2387],\n",
              " [803, 1600, 2413],\n",
              " [801, 1601, 2399],\n",
              " [797, 1591, 2402],\n",
              " [799, 1605, 2393],\n",
              " [798, 1596, 2396],\n",
              " [800, 1600, 2403],\n",
              " [800, 1600, 2399],\n",
              " [792, 1591, 2403],\n",
              " [801, 1599, 2396],\n",
              " [804, 1599, 2399],\n",
              " [800, 1596, 2396],\n",
              " [810, 1603, 2395],\n",
              " [798, 1610, 2397],\n",
              " [801, 1602, 2415],\n",
              " [799, 1600, 2404],\n",
              " [799, 1622, 2399],\n",
              " [798, 1605, 2394],\n",
              " [796, 1598, 2400],\n",
              " [797, 1600, 2403],\n",
              " [802, 1600, 2400],\n",
              " [800, 1600, 2398],\n",
              " [800, 1602, 2400],\n",
              " [805, 1602, 2401],\n",
              " [793, 1599, 2399],\n",
              " [802, 1601, 2391],\n",
              " [800, 1599, 2401],\n",
              " [800, 1601, 2394],\n",
              " [800, 1600, 2411],\n",
              " [802, 1626, 2399],\n",
              " [797, 1606, 2401],\n",
              " [804, 1595, 2391],\n",
              " [783, 1601, 2429],\n",
              " [801, 1600, 2400],\n",
              " [787, 1598, 2398],\n",
              " [824, 1600, 2405],\n",
              " [799, 1600, 2404],\n",
              " [790, 1600, 2399],\n",
              " [801, 1600, 2399],\n",
              " [800, 1595, 2408],\n",
              " [800, 1679, 2400],\n",
              " [811, 1602, 2400],\n",
              " [801, 1610, 2412],\n",
              " [798, 1603, 2396],\n",
              " [791, 1597, 2401],\n",
              " [798, 1628, 2394],\n",
              " [798, 1602, 2395],\n",
              " [801, 1598, 2400],\n",
              " [800, 1600, 2400],\n",
              " [798, 1600, 2403],\n",
              " [800, 1609, 2400],\n",
              " [799, 1603, 2400],\n",
              " [800, 1603, 2400],\n",
              " [808, 1592, 2404],\n",
              " [803, 1590, 2399],\n",
              " [801, 1600, 2397],\n",
              " [815, 1608, 2389],\n",
              " [801, 1600, 2401],\n",
              " [808, 1609, 2391],\n",
              " [789, 1601, 2398],\n",
              " [806, 1595, 2396]]"
            ]
          },
          "metadata": {},
          "execution_count": 10
        }
      ]
    },
    {
      "cell_type": "code",
      "source": [
        "param_best_list"
      ],
      "metadata": {
        "colab": {
          "base_uri": "https://localhost:8080/"
        },
        "id": "_jzaXzN0miPs",
        "outputId": "051c2a74-a95b-4c68-aef4-d05bf3dcc6d9"
      },
      "execution_count": 11,
      "outputs": [
        {
          "output_type": "execute_result",
          "data": {
            "text/plain": [
              "[(0.1, 40),\n",
              " (0.1, 20),\n",
              " (0.1, 20),\n",
              " (0.1, 40),\n",
              " (0.1, 20),\n",
              " (0.1, 20),\n",
              " (0.1, 40),\n",
              " (0.1, 20),\n",
              " (0.1, 20),\n",
              " (0.1, 40),\n",
              " (0.1, 20),\n",
              " (0.1, 20),\n",
              " (0.1, 40),\n",
              " (0.1, 20),\n",
              " (0.1, 20),\n",
              " (0.1, 20),\n",
              " (0.1, 20),\n",
              " (0.1, 40),\n",
              " (0.1, 40),\n",
              " (0.1, 40),\n",
              " (0.1, 40),\n",
              " (0.1, 20),\n",
              " (0.1, 20),\n",
              " (0.1, 20),\n",
              " (0.1, 20),\n",
              " (0.1, 40),\n",
              " (0.1, 40),\n",
              " (0.1, 20),\n",
              " (0.1, 40),\n",
              " (0.1, 40),\n",
              " (0.1, 40),\n",
              " (0.1, 20),\n",
              " (0.1, 20),\n",
              " (0.1, 40),\n",
              " (0.1, 20),\n",
              " (0.1, 40),\n",
              " (0.1, 40),\n",
              " (0.1, 40),\n",
              " (0.1, 40),\n",
              " (0.1, 40),\n",
              " (0.1, 40),\n",
              " (0.1, 20),\n",
              " (0.1, 20),\n",
              " (0.1, 40),\n",
              " (0.1, 20),\n",
              " (0.1, 40),\n",
              " (0.1, 20),\n",
              " (0.1, 20),\n",
              " (0.1, 20),\n",
              " (0.1, 20),\n",
              " (0.1, 40),\n",
              " (0.1, 20),\n",
              " (0.1, 40),\n",
              " (0.1, 20),\n",
              " (0.1, 20),\n",
              " (0.1, 40),\n",
              " (0.1, 20),\n",
              " (0.1, 20),\n",
              " (0.1, 40),\n",
              " (0.1, 20),\n",
              " (0.1, 20),\n",
              " (0.1, 40),\n",
              " (0.1, 20),\n",
              " (0.1, 40),\n",
              " (0.1, 20),\n",
              " (0.1, 40),\n",
              " (0.1, 40),\n",
              " (0.1, 20),\n",
              " (0.1, 20),\n",
              " (0.1, 20),\n",
              " (0.1, 40),\n",
              " (0.1, 20),\n",
              " (0.1, 40),\n",
              " (0.1, 40),\n",
              " (0.1, 20),\n",
              " (0.1, 40),\n",
              " (0.1, 40),\n",
              " (0.1, 20),\n",
              " (0.1, 20),\n",
              " (0.1, 20),\n",
              " (0.1, 20),\n",
              " (0.1, 40),\n",
              " (0.1, 40),\n",
              " (0.1, 40),\n",
              " (0.1, 20),\n",
              " (0.1, 20),\n",
              " (0.1, 20),\n",
              " (0.1, 20),\n",
              " (0.1, 20),\n",
              " (0.1, 20),\n",
              " (0.1, 40),\n",
              " (0.1, 20),\n",
              " (0.1, 20),\n",
              " (0.1, 20),\n",
              " (0.1, 40),\n",
              " (0.1, 20),\n",
              " (0.1, 20),\n",
              " (0.1, 20),\n",
              " (0.1, 20),\n",
              " (0.1, 40)]"
            ]
          },
          "metadata": {},
          "execution_count": 11
        }
      ]
    },
    {
      "cell_type": "code",
      "source": [
        "import pickle\n",
        "with open(path + 'dplr_n' + str(n) + '_Delta' + str(Delta) + '_K' + str(T - 1) + '_grid' + str(grid_n) + '.pickle', 'wb') as f:\n",
        "    pickle.dump([cp_best_list, param_best_list, cp_best_cand_list, loc_error_d, run_time_d, K_d], f)"
      ],
      "metadata": {
        "id": "JUnKEsc4vGd0"
      },
      "execution_count": 12,
      "outputs": []
    }
  ]
}