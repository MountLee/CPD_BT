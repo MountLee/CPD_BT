{
  "nbformat": 4,
  "nbformat_minor": 0,
  "metadata": {
    "colab": {
      "name": "WBS-n100-Delta1000-K2",
      "provenance": [],
      "collapsed_sections": [],
      "toc_visible": true
    },
    "kernelspec": {
      "name": "python3",
      "display_name": "Python 3"
    },
    "language_info": {
      "name": "python"
    }
  },
  "cells": [
    {
      "cell_type": "code",
      "execution_count": 1,
      "metadata": {
        "id": "im-zBYvoLM2x",
        "colab": {
          "base_uri": "https://localhost:8080/"
        },
        "outputId": "2a5904ab-3568-47c5-8258-afe915ec036f"
      },
      "outputs": [
        {
          "output_type": "stream",
          "name": "stdout",
          "text": [
            "Mounted at /content/drive\n"
          ]
        }
      ],
      "source": [
        "from google.colab import drive\n",
        "drive.mount('/content/drive')"
      ]
    },
    {
      "cell_type": "code",
      "source": [
        "import os, sys\n",
        "sys.path.append('/content/drive/MyDrive/CPD_BT')"
      ],
      "metadata": {
        "id": "yADnUZVCNYL0"
      },
      "execution_count": 2,
      "outputs": []
    },
    {
      "cell_type": "code",
      "source": [
        "import numpy as np\n",
        "import matplotlib.pyplot as plt\n",
        "import scipy.stats as stats\n",
        "import random\n",
        "\n",
        "import itertools\n",
        "\n",
        "from bt_cpd import *\n",
        "\n",
        "import time\n",
        "import bisect\n",
        "\n",
        "import pandas as pd\n",
        "\n",
        "import statsmodels.api as sm\n",
        "from sklearn import linear_model\n",
        "\n",
        "from warnings import simplefilter\n",
        "from sklearn.exceptions import ConvergenceWarning\n",
        "simplefilter(\"ignore\", category=ConvergenceWarning)"
      ],
      "metadata": {
        "id": "uIKHDjhONeFr",
        "colab": {
          "base_uri": "https://localhost:8080/"
        },
        "outputId": "a5bd1cf7-8bfe-41a8-bafd-992af5b826e2"
      },
      "execution_count": 3,
      "outputs": [
        {
          "output_type": "stream",
          "name": "stderr",
          "text": [
            "/usr/local/lib/python3.7/dist-packages/statsmodels/tools/_testing.py:19: FutureWarning: pandas.util.testing is deprecated. Use the functions in the public API at pandas.testing instead.\n",
            "  import pandas.util.testing as tm\n"
          ]
        }
      ]
    },
    {
      "cell_type": "code",
      "source": [
        "T = 3\n",
        "Delta = 1000\n",
        "m = np.array([Delta] * T)\n",
        "cp_truth = np.cumsum(m)[:T-1]\n",
        "\n",
        "n = 100\n",
        "beta = np.zeros((T, n))\n",
        "\n",
        "t = 0.9\n",
        "kappa = np.log(t / (1 - t))\n",
        "delta = 1\n",
        "beta_ref = get_beta_with_gap(n, delta)\n",
        "beta_ref *= kappa / (np.max(beta_ref) - np.min(beta_ref))\n",
        "beta[0] = beta_ref[:]\n",
        "beta[1] = change_type(beta_ref, 1)\n",
        "beta[2] = change_type(beta_ref, 2)\n",
        "\n",
        "print(max(beta[0]) - min(beta[0]))\n",
        "\n",
        "diff = np.zeros(T - 1)\n",
        "for t in range(1, T):\n",
        "    diff[t - 1] = np.sum(np.abs(beta[t] - beta[t - 1])**2)**0.5\n",
        "print(diff)"
      ],
      "metadata": {
        "colab": {
          "base_uri": "https://localhost:8080/"
        },
        "id": "Ns9hvspTPlgL",
        "outputId": "137905d2-f448-4ddd-8a23-bd9d7a8dafa9"
      },
      "execution_count": 5,
      "outputs": [
        {
          "output_type": "stream",
          "name": "stdout",
          "text": [
            "2.1972245773362196\n",
            "[12.81317951 11.09709382]\n"
          ]
        }
      ]
    },
    {
      "cell_type": "code",
      "source": [
        "cp_truth"
      ],
      "metadata": {
        "colab": {
          "base_uri": "https://localhost:8080/"
        },
        "id": "FLFx8a-OI9XK",
        "outputId": "fd51da09-eac6-403e-8aaa-e5ded1040f31"
      },
      "execution_count": 6,
      "outputs": [
        {
          "output_type": "execute_result",
          "data": {
            "text/plain": [
              "array([1000, 2000])"
            ]
          },
          "metadata": {},
          "execution_count": 6
        }
      ]
    },
    {
      "cell_type": "code",
      "source": [
        "path = '/content/drive/MyDrive/CPD_BT/'\n",
        "with open(path + 'data_n' + str(n) + '_Delta' + str(Delta) + '_K' + str(T - 1) + '.npy', 'rb') as f:\n",
        "    X_train_list = np.load(f)\n",
        "    Y_train_list = np.load(f)\n",
        "    X_test_list = np.load(f)\n",
        "    Y_test_list = np.load(f)"
      ],
      "metadata": {
        "id": "hfhGQb_ifULO"
      },
      "execution_count": 8,
      "outputs": []
    },
    {
      "cell_type": "code",
      "source": [
        "X_train_list.shape"
      ],
      "metadata": {
        "colab": {
          "base_uri": "https://localhost:8080/"
        },
        "id": "jamQReEFMaod",
        "outputId": "6e78d221-cd7e-4d4a-c310-ac36add69bc5"
      },
      "execution_count": 9,
      "outputs": [
        {
          "output_type": "execute_result",
          "data": {
            "text/plain": [
              "(100, 3000, 100)"
            ]
          },
          "metadata": {},
          "execution_count": 9
        }
      ]
    },
    {
      "cell_type": "code",
      "source": [
        "np.random.seed(0)\n",
        "\n",
        "m_intervals = 50\n",
        "grid_n = 200\n",
        "gamma_list = [80, 100]\n",
        "lam_list = [0.1]\n",
        "\n",
        "nt = Delta * T\n",
        "B = 100\n",
        "\n",
        "run_time_wbs = np.zeros(B)\n",
        "loc_error_wbs = np.zeros(B)\n",
        "K_wbs = np.zeros(B)\n",
        "\n",
        "cp_best_list = []\n",
        "param_best_list = []\n",
        "\n",
        "for b in range(B):\n",
        "    X_train = X_train_list[b]\n",
        "    Y_train = Y_train_list[b]\n",
        "    X_test = X_test_list[b]\n",
        "    Y_test = Y_test_list[b]\n",
        "\n",
        "    start_time = time.time()\n",
        "    wbs_fit = wbs_cv_bt(m_intervals, grid_n, lam_list, gamma_list, smooth = 5, buffer = 5)\n",
        "    res = wbs_fit.fit((X_train, Y_train), (X_test, Y_test))\n",
        "    cp_best, cp_val, cusum_val, threshold_best, grid = res   \n",
        "    run_time_wbs[b] = time.time() - start_time\n",
        "    loc_error_wbs[b] = cp_distance(cp_best, cp_truth)\n",
        "    K_wbs[b] = len(cp_best)\n",
        "\n",
        "    cp_best_list.append(cp_best)\n",
        "    param_best_list.append(threshold_best)\n",
        "\n",
        "    print(b)\n",
        "\n",
        "print('---------- wbs -----------')\n",
        "print(\"avg loc error: {0}, avg time: {1}\".format(loc_error_wbs.mean(), run_time_wbs.mean()))\n",
        "print(\"std loc error: {0}, std time: {1}\".format(loc_error_wbs.std(), run_time_wbs.std()))\n",
        "print('K < K*: {0}, K = K*: {1}, K > K*: {2}'.format(sum(K_wbs < T - 1), sum(K_wbs == T - 1), sum(K_wbs > T - 1)))"
      ],
      "metadata": {
        "id": "Qmel4DHRxLGT",
        "colab": {
          "base_uri": "https://localhost:8080/"
        },
        "outputId": "080d8ad9-4996-4bcb-e020-a01d6807e910"
      },
      "execution_count": 10,
      "outputs": [
        {
          "output_type": "stream",
          "name": "stdout",
          "text": [
            "0\n",
            "1\n",
            "2\n",
            "3\n",
            "4\n",
            "5\n",
            "6\n",
            "7\n",
            "8\n",
            "9\n",
            "10\n",
            "11\n",
            "12\n",
            "13\n",
            "14\n",
            "15\n",
            "16\n",
            "17\n",
            "18\n",
            "19\n",
            "20\n",
            "21\n",
            "22\n",
            "23\n",
            "24\n",
            "25\n",
            "26\n",
            "27\n",
            "28\n",
            "29\n",
            "30\n",
            "31\n",
            "32\n",
            "33\n",
            "34\n",
            "35\n",
            "36\n",
            "37\n",
            "38\n",
            "39\n",
            "40\n",
            "41\n",
            "42\n",
            "43\n",
            "44\n",
            "45\n",
            "46\n",
            "47\n",
            "48\n",
            "49\n",
            "50\n",
            "51\n",
            "52\n",
            "53\n",
            "54\n",
            "55\n",
            "56\n",
            "57\n",
            "58\n",
            "59\n",
            "60\n",
            "61\n",
            "62\n",
            "63\n",
            "64\n",
            "65\n",
            "66\n",
            "67\n",
            "68\n",
            "69\n",
            "70\n",
            "71\n",
            "72\n",
            "73\n",
            "74\n",
            "75\n",
            "76\n",
            "77\n",
            "78\n",
            "79\n",
            "80\n",
            "81\n",
            "82\n",
            "83\n",
            "84\n",
            "85\n",
            "86\n",
            "87\n",
            "88\n",
            "89\n",
            "90\n",
            "91\n",
            "92\n",
            "93\n",
            "94\n",
            "95\n",
            "96\n",
            "97\n",
            "98\n",
            "99\n",
            "---------- wbs -----------\n",
            "avg loc error: 111.85, avg time: 215.91492897748947\n",
            "std loc error: 195.55645604274991, std time: 17.00618101664819\n",
            "K < K*: 0, K = K*: 79, K > K*: 21\n"
          ]
        }
      ]
    },
    {
      "cell_type": "code",
      "source": [
        "loc_error_wbs"
      ],
      "metadata": {
        "id": "Qe8Pn9foJDJQ",
        "colab": {
          "base_uri": "https://localhost:8080/"
        },
        "outputId": "3d1a208a-4f49-4cfe-e7ff-92e0d9e597f4"
      },
      "execution_count": 11,
      "outputs": [
        {
          "output_type": "execute_result",
          "data": {
            "text/plain": [
              "array([  5.,  10.,  40.,   5.,  10., 610.,  10.,   5., 370., 370.,  10.,\n",
              "        25.,   5.,  10.,   5.,   5.,  20.,  10.,   5.,  10.,  20.,  20.,\n",
              "        10., 685.,  65., 485., 370.,  25.,   5.,  10.,  50.,  10.,  10.,\n",
              "         5.,  25.,  10.,  10.,   5.,  10.,   5.,  50.,   5.,   5.,  50.,\n",
              "        10.,  10.,   5.,   5.,   5., 385.,   5.,   5.,  10.,  10., 340.,\n",
              "        10.,  25.,  55.,  10.,  20.,  55.,  10., 565.,  10., 610.,   5.,\n",
              "         5.,  20., 565.,  20., 445.,   5., 445., 295.,  10.,   5.,  10.,\n",
              "        10.,  10.,  10., 580., 625.,  25.,  20.,  10.,  10., 490., 520.,\n",
              "       470., 440.,  10., 385.,  20.,  10.,   5.,  10.,   5.,  10.,  25.,\n",
              "        10.])"
            ]
          },
          "metadata": {},
          "execution_count": 11
        }
      ]
    },
    {
      "cell_type": "code",
      "source": [
        "import pickle\n",
        "with open(path + 'wbs_n' + str(n) + '_Delta' + str(Delta) + '_K' + str(T - 1) + '_grid' + str(grid_n) + '.pickle', 'wb') as f:\n",
        "    pickle.dump([cp_best_list, param_best_list, loc_error_wbs, run_time_wbs, K_wbs], f)"
      ],
      "metadata": {
        "id": "JUnKEsc4vGd0"
      },
      "execution_count": 12,
      "outputs": []
    },
    {
      "cell_type": "code",
      "source": [
        ""
      ],
      "metadata": {
        "id": "-i7JsF4tMfut"
      },
      "execution_count": null,
      "outputs": []
    }
  ]
}