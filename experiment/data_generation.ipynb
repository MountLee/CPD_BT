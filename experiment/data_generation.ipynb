{
 "cells": [
  {
   "cell_type": "code",
   "execution_count": 1,
   "metadata": {
    "colab": {
     "base_uri": "https://localhost:8080/"
    },
    "executionInfo": {
     "elapsed": 16536,
     "status": "ok",
     "timestamp": 1652513632515,
     "user": {
      "displayName": "Wanshan Li",
      "userId": "04763723389758163402"
     },
     "user_tz": 240
    },
    "id": "im-zBYvoLM2x",
    "outputId": "816e6ee0-885d-434d-e689-e9071f17dae6"
   },
   "outputs": [
    {
     "name": "stdout",
     "output_type": "stream",
     "text": [
      "Mounted at /content/drive\n"
     ]
    }
   ],
   "source": [
    "from google.colab import drive\n",
    "drive.mount('/content/drive')"
   ]
  },
  {
   "cell_type": "code",
   "execution_count": 2,
   "metadata": {
    "executionInfo": {
     "elapsed": 10,
     "status": "ok",
     "timestamp": 1652513632516,
     "user": {
      "displayName": "Wanshan Li",
      "userId": "04763723389758163402"
     },
     "user_tz": 240
    },
    "id": "yADnUZVCNYL0"
   },
   "outputs": [],
   "source": [
    "import os, sys\n",
    "sys.path.append('/content/drive/MyDrive/CPD_BT')"
   ]
  },
  {
   "cell_type": "code",
   "execution_count": 3,
   "metadata": {
    "colab": {
     "base_uri": "https://localhost:8080/"
    },
    "executionInfo": {
     "elapsed": 1800,
     "status": "ok",
     "timestamp": 1652513634310,
     "user": {
      "displayName": "Wanshan Li",
      "userId": "04763723389758163402"
     },
     "user_tz": 240
    },
    "id": "uIKHDjhONeFr",
    "outputId": "fb8c32d3-d32a-42a0-9d27-364fa58b3b02"
   },
   "outputs": [
    {
     "name": "stderr",
     "output_type": "stream",
     "text": [
      "/usr/local/lib/python3.7/dist-packages/statsmodels/tools/_testing.py:19: FutureWarning: pandas.util.testing is deprecated. Use the functions in the public API at pandas.testing instead.\n",
      "  import pandas.util.testing as tm\n"
     ]
    }
   ],
   "source": [
    "import numpy as np\n",
    "import matplotlib.pyplot as plt\n",
    "import scipy.stats as stats\n",
    "import random\n",
    "\n",
    "import itertools\n",
    "\n",
    "from bt_cpd import *\n",
    "\n",
    "import time\n",
    "import bisect\n",
    "\n",
    "import pandas as pd\n",
    "\n",
    "import statsmodels.api as sm\n",
    "from sklearn import linear_model\n",
    "\n",
    "from warnings import simplefilter\n",
    "from sklearn.exceptions import ConvergenceWarning\n",
    "simplefilter(\"ignore\", category=ConvergenceWarning)"
   ]
  },
  {
   "cell_type": "code",
   "execution_count": null,
   "metadata": {
    "id": "utWmJgpkxSpt"
   },
   "outputs": [],
   "source": []
  },
  {
   "cell_type": "code",
   "execution_count": null,
   "metadata": {
    "colab": {
     "base_uri": "https://localhost:8080/"
    },
    "executionInfo": {
     "elapsed": 204,
     "status": "ok",
     "timestamp": 1652491600780,
     "user": {
      "displayName": "Wanshan Li",
      "userId": "04763723389758163402"
     },
     "user_tz": 240
    },
    "id": "U8N-4gOQxR7u",
    "outputId": "938b6887-26d3-43cd-9fec-fff36e408aad"
   },
   "outputs": [
    {
     "name": "stdout",
     "output_type": "stream",
     "text": [
      "[ 500 1000 1500]\n",
      "2.1972245773362196\n",
      "[4.43495185 3.86013011 4.43495185]\n"
     ]
    }
   ],
   "source": [
    "T = 4\n",
    "Delta = 500\n",
    "m = np.array([Delta] * T)\n",
    "cp_truth = np.cumsum(m)[:T-1]\n",
    "print(cp_truth)\n",
    "\n",
    "n = 10\n",
    "beta = np.zeros((T, n))\n",
    "\n",
    "t = 0.9\n",
    "kappa = np.log(t / (1 - t))\n",
    "delta = 1\n",
    "beta_ref = get_beta_with_gap(n, delta)\n",
    "beta_ref *= kappa / (np.max(beta_ref) - np.min(beta_ref))\n",
    "beta[0] = beta_ref[:]\n",
    "beta[1] = change_type(beta_ref, 1)\n",
    "beta[2] = change_type(beta_ref, 2)\n",
    "beta[3] = change_type(beta_ref, 3)\n",
    "\n",
    "print(max(beta[0]) - min(beta[0]))\n",
    "\n",
    "diff = np.zeros(T - 1)\n",
    "for t in range(1, T):\n",
    "    diff[t - 1] = np.sum(np.abs(beta[t] - beta[t - 1])**2)**0.5\n",
    "print(diff)"
   ]
  },
  {
   "cell_type": "code",
   "execution_count": null,
   "metadata": {
    "id": "BzXVWGzLxR73"
   },
   "outputs": [],
   "source": [
    "np.random.seed(0)\n",
    "\n",
    "nt = Delta * T\n",
    "B = 100\n",
    "X_train_list = np.zeros((B, nt, n))\n",
    "X_test_list = np.zeros((B, nt, n))\n",
    "Y_train_list = np.zeros((B, nt))\n",
    "Y_test_list = np.zeros((B, nt))\n",
    "\n",
    "for b in range(B):\n",
    "    nt, Y_train, X_train = generate_data_bt(m, T, beta)\n",
    "    nt, Y_test, X_test = generate_data_bt(m, T, beta)\n",
    "    X_train_list[b] = X_train\n",
    "    Y_train_list[b] = Y_train\n",
    "    X_test_list[b] = X_test\n",
    "    Y_test_list[b] = Y_test"
   ]
  },
  {
   "cell_type": "code",
   "execution_count": null,
   "metadata": {
    "id": "d4XfsNBhxR73"
   },
   "outputs": [],
   "source": [
    "path = '/content/drive/MyDrive/CPD_BT/'\n",
    "with open(path + 'data_n' + str(n) + '_Delta' + str(Delta) + '_K' + str(T - 1) + '.npy', 'wb') as f:\n",
    "    np.save(f, X_train_list)\n",
    "    np.save(f, Y_train_list)\n",
    "    np.save(f, X_test_list)\n",
    "    np.save(f, Y_test_list)"
   ]
  },
  {
   "cell_type": "code",
   "execution_count": null,
   "metadata": {
    "id": "Ejl-QXt00A6-"
   },
   "outputs": [],
   "source": []
  },
  {
   "cell_type": "code",
   "execution_count": null,
   "metadata": {
    "colab": {
     "base_uri": "https://localhost:8080/"
    },
    "executionInfo": {
     "elapsed": 125,
     "status": "ok",
     "timestamp": 1652491603917,
     "user": {
      "displayName": "Wanshan Li",
      "userId": "04763723389758163402"
     },
     "user_tz": 240
    },
    "id": "HQb38nDW7w9X",
    "outputId": "d9d5bb75-baac-4a51-ce5e-d9e408058ec5"
   },
   "outputs": [
    {
     "name": "stdout",
     "output_type": "stream",
     "text": [
      "[ 800 1600 2400]\n",
      "2.1972245773362196\n",
      "[5.96433002 5.17173002 5.96433002]\n"
     ]
    }
   ],
   "source": [
    "T = 4\n",
    "Delta = 800\n",
    "m = np.array([Delta] * T)\n",
    "cp_truth = np.cumsum(m)[:T-1]\n",
    "print(cp_truth)\n",
    "\n",
    "n = 20\n",
    "beta = np.zeros((T, n))\n",
    "\n",
    "t = 0.9\n",
    "kappa = np.log(t / (1 - t))\n",
    "delta = 1\n",
    "beta_ref = get_beta_with_gap(n, delta)\n",
    "beta_ref *= kappa / (np.max(beta_ref) - np.min(beta_ref))\n",
    "beta[0] = beta_ref[:]\n",
    "beta[1] = change_type(beta_ref, 1)\n",
    "beta[2] = change_type(beta_ref, 2)\n",
    "beta[3] = change_type(beta_ref, 3)\n",
    "\n",
    "print(max(beta[0]) - min(beta[0]))\n",
    "\n",
    "diff = np.zeros(T - 1)\n",
    "for t in range(1, T):\n",
    "    diff[t - 1] = np.sum(np.abs(beta[t] - beta[t - 1])**2)**0.5\n",
    "print(diff)"
   ]
  },
  {
   "cell_type": "code",
   "execution_count": null,
   "metadata": {
    "id": "y5GY8l6D7w9f"
   },
   "outputs": [],
   "source": [
    "np.random.seed(0)\n",
    "\n",
    "nt = Delta * T\n",
    "B = 100\n",
    "X_train_list = np.zeros((B, nt, n))\n",
    "X_test_list = np.zeros((B, nt, n))\n",
    "Y_train_list = np.zeros((B, nt))\n",
    "Y_test_list = np.zeros((B, nt))\n",
    "\n",
    "for b in range(B):\n",
    "    nt, Y_train, X_train = generate_data_bt(m, T, beta)\n",
    "    nt, Y_test, X_test = generate_data_bt(m, T, beta)\n",
    "    X_train_list[b] = X_train\n",
    "    Y_train_list[b] = Y_train\n",
    "    X_test_list[b] = X_test\n",
    "    Y_test_list[b] = Y_test"
   ]
  },
  {
   "cell_type": "code",
   "execution_count": null,
   "metadata": {
    "id": "yPBVHFRt7w9f"
   },
   "outputs": [],
   "source": [
    "path = '/content/drive/MyDrive/CPD_BT/'\n",
    "with open(path + 'data_n' + str(n) + '_Delta' + str(Delta) + '_K' + str(T - 1) + '.npy', 'wb') as f:\n",
    "    np.save(f, X_train_list)\n",
    "    np.save(f, Y_train_list)\n",
    "    np.save(f, X_test_list)\n",
    "    np.save(f, Y_test_list)"
   ]
  },
  {
   "cell_type": "code",
   "execution_count": null,
   "metadata": {
    "id": "B89dPKcz-CUO"
   },
   "outputs": [],
   "source": []
  },
  {
   "cell_type": "code",
   "execution_count": null,
   "metadata": {
    "colab": {
     "base_uri": "https://localhost:8080/"
    },
    "executionInfo": {
     "elapsed": 237,
     "status": "ok",
     "timestamp": 1652491622247,
     "user": {
      "displayName": "Wanshan Li",
      "userId": "04763723389758163402"
     },
     "user_tz": 240
    },
    "id": "BbvbiYOb_Zsg",
    "outputId": "224256e2-30c0-404f-c0b2-bca1c8d76eb7"
   },
   "outputs": [
    {
     "name": "stdout",
     "output_type": "stream",
     "text": [
      "[2000 4000 6000]\n",
      "2.1972245773362196\n",
      "[12.81317951 11.09709382 12.81317951]\n"
     ]
    }
   ],
   "source": [
    "T = 4\n",
    "Delta = 2000\n",
    "m = np.array([Delta] * T)\n",
    "cp_truth = np.cumsum(m)[:T-1]\n",
    "print(cp_truth)\n",
    "\n",
    "n = 100\n",
    "beta = np.zeros((T, n))\n",
    "\n",
    "t = 0.9\n",
    "kappa = np.log(t / (1 - t))\n",
    "delta = 1\n",
    "beta_ref = get_beta_with_gap(n, delta)\n",
    "beta_ref *= kappa / (np.max(beta_ref) - np.min(beta_ref))\n",
    "beta[0] = beta_ref[:]\n",
    "beta[1] = change_type(beta_ref, 1)\n",
    "beta[2] = change_type(beta_ref, 2)\n",
    "beta[3] = change_type(beta_ref, 3)\n",
    "\n",
    "print(max(beta[0]) - min(beta[0]))\n",
    "\n",
    "diff = np.zeros(T - 1)\n",
    "for t in range(1, T):\n",
    "    diff[t - 1] = np.sum(np.abs(beta[t] - beta[t - 1])**2)**0.5\n",
    "print(diff)"
   ]
  },
  {
   "cell_type": "code",
   "execution_count": null,
   "metadata": {
    "id": "1Q8141vl_Zsj"
   },
   "outputs": [],
   "source": [
    "np.random.seed(0)\n",
    "\n",
    "nt = Delta * T\n",
    "B = 100\n",
    "X_train_list = np.zeros((B, nt, n))\n",
    "X_test_list = np.zeros((B, nt, n))\n",
    "Y_train_list = np.zeros((B, nt))\n",
    "Y_test_list = np.zeros((B, nt))\n",
    "\n",
    "for b in range(B):\n",
    "    nt, Y_train, X_train = generate_data_bt(m, T, beta)\n",
    "    nt, Y_test, X_test = generate_data_bt(m, T, beta)\n",
    "    X_train_list[b] = X_train\n",
    "    Y_train_list[b] = Y_train\n",
    "    X_test_list[b] = X_test\n",
    "    Y_test_list[b] = Y_test"
   ]
  },
  {
   "cell_type": "code",
   "execution_count": null,
   "metadata": {
    "id": "zM8IXkbh_Zsk"
   },
   "outputs": [],
   "source": [
    "path = '/content/drive/MyDrive/CPD_BT/'\n",
    "with open(path + 'data_n' + str(n) + '_Delta' + str(Delta) + '_K' + str(T - 1) + '.npy', 'wb') as f:\n",
    "    np.save(f, X_train_list)\n",
    "    np.save(f, Y_train_list)\n",
    "    np.save(f, X_test_list)\n",
    "    np.save(f, Y_test_list)"
   ]
  },
  {
   "cell_type": "code",
   "execution_count": null,
   "metadata": {
    "id": "CATd1LMr0RW6"
   },
   "outputs": [],
   "source": []
  },
  {
   "cell_type": "code",
   "execution_count": 4,
   "metadata": {
    "colab": {
     "base_uri": "https://localhost:8080/"
    },
    "executionInfo": {
     "elapsed": 154,
     "status": "ok",
     "timestamp": 1652513645386,
     "user": {
      "displayName": "Wanshan Li",
      "userId": "04763723389758163402"
     },
     "user_tz": 240
    },
    "id": "CEtMzTeO0Qz8",
    "outputId": "5700a676-207a-4edd-fcfb-5d0d4575df74"
   },
   "outputs": [
    {
     "name": "stdout",
     "output_type": "stream",
     "text": [
      "[1000 2000]\n",
      "2.1972245773362196\n",
      "[12.81317951 11.09709382]\n"
     ]
    }
   ],
   "source": [
    "T = 3\n",
    "Delta = 1000\n",
    "m = np.array([Delta] * T)\n",
    "cp_truth = np.cumsum(m)[:T-1]\n",
    "print(cp_truth)\n",
    "\n",
    "n = 100\n",
    "beta = np.zeros((T, n))\n",
    "\n",
    "t = 0.9\n",
    "kappa = np.log(t / (1 - t))\n",
    "delta = 1\n",
    "beta_ref = get_beta_with_gap(n, delta)\n",
    "beta_ref *= kappa / (np.max(beta_ref) - np.min(beta_ref))\n",
    "beta[0] = beta_ref[:]\n",
    "beta[1] = change_type(beta_ref, 1)\n",
    "beta[2] = change_type(beta_ref, 2)\n",
    "\n",
    "print(max(beta[0]) - min(beta[0]))\n",
    "\n",
    "diff = np.zeros(T - 1)\n",
    "for t in range(1, T):\n",
    "    diff[t - 1] = np.sum(np.abs(beta[t] - beta[t - 1])**2)**0.5\n",
    "print(diff)"
   ]
  },
  {
   "cell_type": "code",
   "execution_count": 5,
   "metadata": {
    "executionInfo": {
     "elapsed": 2645,
     "status": "ok",
     "timestamp": 1652513650668,
     "user": {
      "displayName": "Wanshan Li",
      "userId": "04763723389758163402"
     },
     "user_tz": 240
    },
    "id": "eE9ghe2y0Qz9"
   },
   "outputs": [],
   "source": [
    "np.random.seed(0)\n",
    "\n",
    "nt = Delta * T\n",
    "B = 100\n",
    "X_train_list = np.zeros((B, nt, n))\n",
    "X_test_list = np.zeros((B, nt, n))\n",
    "Y_train_list = np.zeros((B, nt))\n",
    "Y_test_list = np.zeros((B, nt))\n",
    "\n",
    "for b in range(B):\n",
    "    nt, Y_train, X_train = generate_data_bt(m, T, beta)\n",
    "    nt, Y_test, X_test = generate_data_bt(m, T, beta)\n",
    "    X_train_list[b] = X_train\n",
    "    Y_train_list[b] = Y_train\n",
    "    X_test_list[b] = X_test\n",
    "    Y_test_list[b] = Y_test"
   ]
  },
  {
   "cell_type": "code",
   "execution_count": 6,
   "metadata": {
    "executionInfo": {
     "elapsed": 1846,
     "status": "ok",
     "timestamp": 1652513652689,
     "user": {
      "displayName": "Wanshan Li",
      "userId": "04763723389758163402"
     },
     "user_tz": 240
    },
    "id": "Cl29ilFA0Qz9"
   },
   "outputs": [],
   "source": [
    "path = '/content/drive/MyDrive/CPD_BT/'\n",
    "with open(path + 'data_n' + str(n) + '_Delta' + str(Delta) + '_K' + str(T - 1) + '.npy', 'wb') as f:\n",
    "    np.save(f, X_train_list)\n",
    "    np.save(f, Y_train_list)\n",
    "    np.save(f, X_test_list)\n",
    "    np.save(f, Y_test_list)"
   ]
  }
 ],
 "metadata": {
  "colab": {
   "authorship_tag": "ABX9TyPKjkXVIaGW+UElIhi9tvis",
   "collapsed_sections": [],
   "mount_file_id": "14lEbzs7IBs0DxnoMg7RT6fvZkwzX3EiA",
   "name": "data_generation.ipynb",
   "provenance": []
  },
  "kernelspec": {
   "display_name": "Python 3",
   "language": "python",
   "name": "python3"
  },
  "language_info": {
   "codemirror_mode": {
    "name": "ipython",
    "version": 3
   },
   "file_extension": ".py",
   "mimetype": "text/x-python",
   "name": "python",
   "nbconvert_exporter": "python",
   "pygments_lexer": "ipython3",
   "version": "3.7.4"
  }
 },
 "nbformat": 4,
 "nbformat_minor": 1
}
