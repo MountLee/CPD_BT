{
 "cells": [
  {
   "cell_type": "code",
   "execution_count": 1,
   "metadata": {
    "colab": {
     "base_uri": "https://localhost:8080/"
    },
    "id": "im-zBYvoLM2x",
    "outputId": "88c00cd2-c341-44cc-a14e-01595ee165fc"
   },
   "outputs": [
    {
     "name": "stdout",
     "output_type": "stream",
     "text": [
      "Mounted at /content/drive\n"
     ]
    }
   ],
   "source": [
    "from google.colab import drive\n",
    "drive.mount('/content/drive')"
   ]
  },
  {
   "cell_type": "code",
   "execution_count": 2,
   "metadata": {
    "id": "yADnUZVCNYL0"
   },
   "outputs": [],
   "source": [
    "import os, sys\n",
    "sys.path.append('/content/drive/MyDrive/CPD_BT')"
   ]
  },
  {
   "cell_type": "code",
   "execution_count": 3,
   "metadata": {
    "colab": {
     "base_uri": "https://localhost:8080/"
    },
    "id": "uIKHDjhONeFr",
    "outputId": "6dd351f7-b833-4e0e-f3dc-80158cd8e647"
   },
   "outputs": [
    {
     "name": "stderr",
     "output_type": "stream",
     "text": [
      "/usr/local/lib/python3.7/dist-packages/statsmodels/tools/_testing.py:19: FutureWarning: pandas.util.testing is deprecated. Use the functions in the public API at pandas.testing instead.\n",
      "  import pandas.util.testing as tm\n"
     ]
    }
   ],
   "source": [
    "import numpy as np\n",
    "import matplotlib.pyplot as plt\n",
    "import scipy.stats as stats\n",
    "import random\n",
    "\n",
    "import itertools\n",
    "\n",
    "from bt_cpd import *\n",
    "\n",
    "import time\n",
    "import bisect\n",
    "\n",
    "import pandas as pd\n",
    "\n",
    "import statsmodels.api as sm\n",
    "from sklearn import linear_model\n",
    "\n",
    "from warnings import simplefilter\n",
    "from sklearn.exceptions import ConvergenceWarning\n",
    "simplefilter(\"ignore\", category=ConvergenceWarning)"
   ]
  },
  {
   "cell_type": "code",
   "execution_count": 5,
   "metadata": {
    "colab": {
     "base_uri": "https://localhost:8080/"
    },
    "id": "Ns9hvspTPlgL",
    "outputId": "c946ea8a-57a8-4694-b84e-eb83d673f336"
   },
   "outputs": [
    {
     "name": "stdout",
     "output_type": "stream",
     "text": [
      "2.1972245773362196\n",
      "[12.81317951 11.09709382]\n"
     ]
    }
   ],
   "source": [
    "T = 3\n",
    "Delta = 1000\n",
    "m = np.array([Delta] * T)\n",
    "cp_truth = np.cumsum(m)[:T-1]\n",
    "\n",
    "n = 100\n",
    "beta = np.zeros((T, n))\n",
    "\n",
    "t = 0.9\n",
    "kappa = np.log(t / (1 - t))\n",
    "delta = 1\n",
    "beta_ref = get_beta_with_gap(n, delta)\n",
    "beta_ref *= kappa / (np.max(beta_ref) - np.min(beta_ref))\n",
    "beta[0] = beta_ref[:]\n",
    "beta[1] = change_type(beta_ref, 1)\n",
    "beta[2] = change_type(beta_ref, 2)\n",
    "\n",
    "print(max(beta[0]) - min(beta[0]))\n",
    "\n",
    "diff = np.zeros(T - 1)\n",
    "for t in range(1, T):\n",
    "    diff[t - 1] = np.sum(np.abs(beta[t] - beta[t - 1])**2)**0.5\n",
    "print(diff)"
   ]
  },
  {
   "cell_type": "code",
   "execution_count": 6,
   "metadata": {
    "colab": {
     "base_uri": "https://localhost:8080/"
    },
    "id": "FLFx8a-OI9XK",
    "outputId": "c1197083-7553-4978-83b7-85abe5524d5a"
   },
   "outputs": [
    {
     "data": {
      "text/plain": [
       "array([1000, 2000])"
      ]
     },
     "execution_count": 6,
     "metadata": {},
     "output_type": "execute_result"
    }
   ],
   "source": [
    "cp_truth"
   ]
  },
  {
   "cell_type": "code",
   "execution_count": 7,
   "metadata": {
    "id": "hfhGQb_ifULO"
   },
   "outputs": [],
   "source": [
    "path = '/content/drive/MyDrive/CPD_BT/'\n",
    "with open(path + 'data_n' + str(n) + '_Delta' + str(Delta) + '_K' + str(T - 1) + '.npy', 'rb') as f:\n",
    "    X_train_list = np.load(f)\n",
    "    Y_train_list = np.load(f)\n",
    "    X_test_list = np.load(f)\n",
    "    Y_test_list = np.load(f)"
   ]
  },
  {
   "cell_type": "code",
   "execution_count": 8,
   "metadata": {
    "colab": {
     "base_uri": "https://localhost:8080/"
    },
    "id": "Xqvln61AntMT",
    "outputId": "cb4a00b5-9c46-4ca7-83e6-0c78d50982ec"
   },
   "outputs": [
    {
     "data": {
      "text/plain": [
       "(100, 3000, 100)"
      ]
     },
     "execution_count": 8,
     "metadata": {},
     "output_type": "execute_result"
    }
   ],
   "source": [
    "X_train_list.shape"
   ]
  },
  {
   "cell_type": "code",
   "execution_count": 9,
   "metadata": {
    "colab": {
     "base_uri": "https://localhost:8080/"
    },
    "id": "Qmel4DHRxLGT",
    "outputId": "5c774986-491f-4afe-bd75-36ff2b73acc9"
   },
   "outputs": [
    {
     "name": "stdout",
     "output_type": "stream",
     "text": [
      "0\n",
      "1\n",
      "2\n",
      "3\n",
      "4\n",
      "5\n",
      "6\n",
      "7\n",
      "8\n",
      "9\n",
      "10\n",
      "11\n",
      "12\n",
      "13\n",
      "14\n",
      "15\n",
      "16\n",
      "17\n",
      "18\n",
      "19\n",
      "20\n",
      "21\n",
      "22\n",
      "23\n",
      "24\n",
      "25\n",
      "26\n",
      "27\n",
      "28\n",
      "29\n",
      "30\n",
      "31\n",
      "32\n",
      "33\n",
      "34\n",
      "35\n",
      "36\n",
      "37\n",
      "38\n",
      "39\n",
      "40\n",
      "41\n",
      "42\n",
      "43\n",
      "44\n",
      "45\n",
      "46\n",
      "47\n",
      "48\n",
      "49\n",
      "50\n",
      "51\n",
      "52\n",
      "53\n",
      "54\n",
      "55\n",
      "56\n",
      "57\n",
      "58\n",
      "59\n",
      "60\n",
      "61\n",
      "62\n",
      "63\n",
      "64\n",
      "65\n",
      "66\n",
      "67\n",
      "68\n",
      "69\n",
      "70\n",
      "71\n",
      "72\n",
      "73\n",
      "74\n",
      "75\n",
      "76\n",
      "77\n",
      "78\n",
      "79\n",
      "80\n",
      "81\n",
      "82\n",
      "83\n",
      "84\n",
      "85\n",
      "86\n",
      "87\n",
      "88\n",
      "89\n",
      "90\n",
      "91\n",
      "92\n",
      "93\n",
      "94\n",
      "95\n",
      "96\n",
      "97\n",
      "98\n",
      "99\n",
      "---------- dplr -----------\n",
      "avg loc error: 13.39, avg time: 167.41717215538026\n",
      "std loc error: 14.408952078482322, std time: 3.326477034997443\n",
      "K < K*: 0, K = K*: 100, K > K*: 0\n"
     ]
    }
   ],
   "source": [
    "np.random.seed(0)\n",
    "\n",
    "grid_n = 100\n",
    "gamma_list = [80, 100]\n",
    "lam_list = [0.1]\n",
    "\n",
    "nt = Delta * T\n",
    "B = 100\n",
    "\n",
    "run_time_d = np.zeros(B)\n",
    "loc_error_d = np.zeros(B)\n",
    "K_d = np.zeros(B)\n",
    "\n",
    "cp_best_list = []\n",
    "param_best_list = []\n",
    "cp_best_cand_list = []\n",
    "\n",
    "for b in range(B):\n",
    "    X_train = X_train_list[b]\n",
    "    Y_train = Y_train_list[b]\n",
    "    X_test = X_test_list[b]\n",
    "    Y_test = Y_test_list[b]\n",
    "\n",
    "    start_time = time.time()\n",
    "    dp_fit = dplr_cv_bt(grid_n, lam_list, gamma_list)\n",
    "    cp_best, param_best, cp_best_cand = dp_fit.fit((Y_train, X_train), (Y_test, X_test))    \n",
    "    run_time_d[b] = time.time() - start_time\n",
    "    loc_error_d[b] = cp_distance(cp_best, cp_truth)\n",
    "    K_d[b] = len(cp_best)\n",
    "\n",
    "    cp_best_list.append(cp_best)\n",
    "    param_best_list.append(param_best)\n",
    "    cp_best_cand_list.append(cp_best_cand)\n",
    "    print(b)\n",
    "\n",
    "\n",
    "print('---------- dplr -----------')\n",
    "print(\"avg loc error: {0}, avg time: {1}\".format(loc_error_d.mean(), run_time_d.mean()))\n",
    "print(\"std loc error: {0}, std time: {1}\".format(loc_error_d.std(), run_time_d.std()))\n",
    "print('K < K*: {0}, K = K*: {1}, K > K*: {2}'.format(sum(K_d < T - 1), sum(K_d == T - 1), sum(K_d > T - 1)))"
   ]
  },
  {
   "cell_type": "code",
   "execution_count": 10,
   "metadata": {
    "colab": {
     "base_uri": "https://localhost:8080/"
    },
    "id": "Qe8Pn9foJDJQ",
    "outputId": "7c70c318-53b0-4536-d33b-60d7a4f13af3"
   },
   "outputs": [
    {
     "data": {
      "text/plain": [
       "array([ 6.,  1., 33., 24.,  2., 15., 16., 13.,  4., 19.,  4., 23.,  4.,\n",
       "        9., 11.,  6., 30., 10.,  0., 30., 17., 22.,  5.,  6., 67.,  2.,\n",
       "        5., 15., 11., 17., 41., 20.,  3.,  5., 43.,  5., 52.,  5.,  4.,\n",
       "       11., 59., 10.,  0., 10.,  5., 13.,  7., 10.,  8.,  0.,  8.,  2.,\n",
       "        3., 30., 21.,  6., 25.,  7.,  3., 22., 12., 13.,  6., 40., 16.,\n",
       "        0.,  4.,  2.,  1., 11.,  5.,  4.,  9., 12.,  4.,  7.,  7.,  8.,\n",
       "        2., 18., 11., 19., 16.,  5.,  4.,  5., 18.,  6.,  9., 83., 38.,\n",
       "        2.,  1.,  4.,  9.,  9., 10., 12., 22., 10.])"
      ]
     },
     "execution_count": 10,
     "metadata": {},
     "output_type": "execute_result"
    }
   ],
   "source": [
    "loc_error_d"
   ]
  },
  {
   "cell_type": "code",
   "execution_count": 11,
   "metadata": {
    "colab": {
     "base_uri": "https://localhost:8080/"
    },
    "id": "WrC-7R1GwSx7",
    "outputId": "dff77df2-75c9-4287-d367-0c128c6e0499"
   },
   "outputs": [
    {
     "data": {
      "text/plain": [
       "[[1006, 2001],\n",
       " [1000, 2001],\n",
       " [1008, 2033],\n",
       " [1006, 2024],\n",
       " [1000, 1998],\n",
       " [1013, 1985],\n",
       " [996, 1984],\n",
       " [1000, 1987],\n",
       " [999, 1996],\n",
       " [1000, 2019],\n",
       " [997, 1996],\n",
       " [1000, 2023],\n",
       " [1004, 1997],\n",
       " [991, 1993],\n",
       " [1011, 2001],\n",
       " [1006, 1999],\n",
       " [1030, 2017],\n",
       " [990, 2003],\n",
       " [1000, 2000],\n",
       " [1002, 2030],\n",
       " [1017, 1989],\n",
       " [1017, 1978],\n",
       " [995, 2002],\n",
       " [994, 2006],\n",
       " [1000, 1933],\n",
       " [1000, 2002],\n",
       " [1005, 2004],\n",
       " [985, 1997],\n",
       " [1001, 1989],\n",
       " [996, 2017],\n",
       " [1041, 1997],\n",
       " [1002, 2020],\n",
       " [1000, 1997],\n",
       " [1005, 2000],\n",
       " [985, 1957],\n",
       " [995, 2002],\n",
       " [948, 2004],\n",
       " [1000, 1995],\n",
       " [996, 2002],\n",
       " [1002, 1989],\n",
       " [1059, 1998],\n",
       " [1004, 1990],\n",
       " [1000, 2000],\n",
       " [1010, 2000],\n",
       " [995, 1996],\n",
       " [998, 2013],\n",
       " [1007, 2004],\n",
       " [1010, 2000],\n",
       " [1008, 2000],\n",
       " [1000, 2000],\n",
       " [1008, 1997],\n",
       " [1000, 2002],\n",
       " [1000, 2003],\n",
       " [994, 1970],\n",
       " [979, 1987],\n",
       " [1000, 2006],\n",
       " [991, 2025],\n",
       " [1001, 2007],\n",
       " [997, 2001],\n",
       " [1022, 2007],\n",
       " [1009, 2012],\n",
       " [1011, 2013],\n",
       " [1000, 1994],\n",
       " [960, 1997],\n",
       " [1008, 1984],\n",
       " [1000, 2000],\n",
       " [1004, 2000],\n",
       " [998, 1998],\n",
       " [999, 2000],\n",
       " [1004, 1989],\n",
       " [1004, 2005],\n",
       " [1000, 2004],\n",
       " [1009, 2002],\n",
       " [1000, 2012],\n",
       " [999, 2004],\n",
       " [1004, 1993],\n",
       " [993, 2007],\n",
       " [992, 2007],\n",
       " [998, 2001],\n",
       " [983, 1982],\n",
       " [989, 1998],\n",
       " [981, 2000],\n",
       " [984, 1995],\n",
       " [1005, 2001],\n",
       " [996, 1996],\n",
       " [1001, 2005],\n",
       " [1018, 2003],\n",
       " [998, 2006],\n",
       " [991, 2001],\n",
       " [917, 2011],\n",
       " [962, 2009],\n",
       " [1001, 1998],\n",
       " [999, 1999],\n",
       " [1004, 2000],\n",
       " [1000, 1991],\n",
       " [991, 2000],\n",
       " [1010, 1995],\n",
       " [988, 1999],\n",
       " [1007, 1978],\n",
       " [1000, 2010]]"
      ]
     },
     "execution_count": 11,
     "metadata": {},
     "output_type": "execute_result"
    }
   ],
   "source": [
    "cp_best_list"
   ]
  },
  {
   "cell_type": "code",
   "execution_count": 12,
   "metadata": {
    "id": "JUnKEsc4vGd0"
   },
   "outputs": [],
   "source": [
    "import pickle\n",
    "with open(path + 'dplr_n' + str(n) + '_Delta' + str(Delta) + '_K' + str(T - 1) + '_grid' + str(grid_n) + '.pickle', 'wb') as f:\n",
    "    pickle.dump([cp_best_list, param_best_list, cp_best_cand_list, loc_error_d, run_time_d, K_d], f)"
   ]
  }
 ],
 "metadata": {
  "colab": {
   "collapsed_sections": [],
   "name": "DPLR-n100-Delta1000-K2",
   "provenance": [],
   "toc_visible": true
  },
  "kernelspec": {
   "display_name": "Python 3",
   "language": "python",
   "name": "python3"
  },
  "language_info": {
   "codemirror_mode": {
    "name": "ipython",
    "version": 3
   },
   "file_extension": ".py",
   "mimetype": "text/x-python",
   "name": "python",
   "nbconvert_exporter": "python",
   "pygments_lexer": "ipython3",
   "version": "3.7.4"
  }
 },
 "nbformat": 4,
 "nbformat_minor": 1
}
