{
  "nbformat": 4,
  "nbformat_minor": 0,
  "metadata": {
    "colab": {
      "name": "WBS-n100-Delta2000-K3",
      "provenance": [],
      "collapsed_sections": [],
      "toc_visible": true
    },
    "kernelspec": {
      "name": "python3",
      "display_name": "Python 3"
    },
    "language_info": {
      "name": "python"
    }
  },
  "cells": [
    {
      "cell_type": "code",
      "execution_count": 1,
      "metadata": {
        "id": "im-zBYvoLM2x",
        "colab": {
          "base_uri": "https://localhost:8080/"
        },
        "outputId": "9d121c71-bd70-4c18-fe21-364cb3b63942"
      },
      "outputs": [
        {
          "output_type": "stream",
          "name": "stdout",
          "text": [
            "Mounted at /content/drive\n"
          ]
        }
      ],
      "source": [
        "from google.colab import drive\n",
        "drive.mount('/content/drive')"
      ]
    },
    {
      "cell_type": "code",
      "source": [
        "import os, sys\n",
        "sys.path.append('/content/drive/MyDrive/CPD_BT')"
      ],
      "metadata": {
        "id": "yADnUZVCNYL0"
      },
      "execution_count": 2,
      "outputs": []
    },
    {
      "cell_type": "code",
      "source": [
        "import numpy as np\n",
        "import matplotlib.pyplot as plt\n",
        "import scipy.stats as stats\n",
        "import random\n",
        "\n",
        "import itertools\n",
        "\n",
        "from bt_cpd import *\n",
        "\n",
        "import time\n",
        "import bisect\n",
        "\n",
        "import pandas as pd\n",
        "\n",
        "import statsmodels.api as sm\n",
        "from sklearn import linear_model\n",
        "\n",
        "from warnings import simplefilter\n",
        "from sklearn.exceptions import ConvergenceWarning\n",
        "simplefilter(\"ignore\", category=ConvergenceWarning)"
      ],
      "metadata": {
        "id": "uIKHDjhONeFr",
        "colab": {
          "base_uri": "https://localhost:8080/"
        },
        "outputId": "62dc2e32-8871-408a-9ebc-49916a373fd7"
      },
      "execution_count": 3,
      "outputs": [
        {
          "output_type": "stream",
          "name": "stderr",
          "text": [
            "/usr/local/lib/python3.7/dist-packages/statsmodels/tools/_testing.py:19: FutureWarning: pandas.util.testing is deprecated. Use the functions in the public API at pandas.testing instead.\n",
            "  import pandas.util.testing as tm\n"
          ]
        }
      ]
    },
    {
      "cell_type": "code",
      "source": [
        "T = 4\n",
        "Delta = 2000\n",
        "m = np.array([Delta] * T)\n",
        "cp_truth = np.cumsum(m)[:T-1]\n",
        "\n",
        "n = 100\n",
        "beta = np.zeros((T, n))\n",
        "\n",
        "t = 0.9\n",
        "kappa = np.log(t / (1 - t))\n",
        "delta = 1\n",
        "beta_ref = get_beta_with_gap(n, delta)\n",
        "beta_ref *= kappa / (np.max(beta_ref) - np.min(beta_ref))\n",
        "beta[0] = beta_ref[:]\n",
        "beta[1] = change_type(beta_ref, 1)\n",
        "beta[2] = change_type(beta_ref, 2)\n",
        "beta[3] = change_type(beta_ref, 3)\n",
        "\n",
        "print(max(beta[0]) - min(beta[0]))\n",
        "\n",
        "diff = np.zeros(T - 1)\n",
        "for t in range(1, T):\n",
        "    diff[t - 1] = np.sum(np.abs(beta[t] - beta[t - 1])**2)**0.5\n",
        "print(diff)"
      ],
      "metadata": {
        "colab": {
          "base_uri": "https://localhost:8080/"
        },
        "id": "Ns9hvspTPlgL",
        "outputId": "4fa698ff-26f6-49d1-b7d3-c1d78409bf79"
      },
      "execution_count": 4,
      "outputs": [
        {
          "output_type": "stream",
          "name": "stdout",
          "text": [
            "2.1972245773362196\n",
            "[12.81317951 11.09709382 12.81317951]\n"
          ]
        }
      ]
    },
    {
      "cell_type": "code",
      "source": [
        "cp_truth"
      ],
      "metadata": {
        "colab": {
          "base_uri": "https://localhost:8080/"
        },
        "id": "FLFx8a-OI9XK",
        "outputId": "11863e76-5232-466d-cc76-e9713c9e5b66"
      },
      "execution_count": 5,
      "outputs": [
        {
          "output_type": "execute_result",
          "data": {
            "text/plain": [
              "array([2000, 4000, 6000])"
            ]
          },
          "metadata": {},
          "execution_count": 5
        }
      ]
    },
    {
      "cell_type": "code",
      "source": [
        "path = '/content/drive/MyDrive/CPD_BT/'\n",
        "with open(path + 'data_n' + str(n) + '_Delta' + str(Delta) + '_K' + str(T - 1) + '.npy', 'rb') as f:\n",
        "    X_train_list = np.load(f)\n",
        "    Y_train_list = np.load(f)\n",
        "    X_test_list = np.load(f)\n",
        "    Y_test_list = np.load(f)"
      ],
      "metadata": {
        "id": "hfhGQb_ifULO"
      },
      "execution_count": 6,
      "outputs": []
    },
    {
      "cell_type": "code",
      "source": [
        "X_train_list.shape"
      ],
      "metadata": {
        "colab": {
          "base_uri": "https://localhost:8080/"
        },
        "id": "jamQReEFMaod",
        "outputId": "76d90565-9679-4e5a-862b-e653dbead87e"
      },
      "execution_count": 7,
      "outputs": [
        {
          "output_type": "execute_result",
          "data": {
            "text/plain": [
              "(100, 8000, 100)"
            ]
          },
          "metadata": {},
          "execution_count": 7
        }
      ]
    },
    {
      "cell_type": "code",
      "source": [
        "np.random.seed(0)\n",
        "\n",
        "m_intervals = 50\n",
        "grid_n = 250\n",
        "gamma_list = [80, 100]\n",
        "lam_list = [0.1]\n",
        "\n",
        "nt = Delta * T\n",
        "B = 100\n",
        "\n",
        "run_time_wbs = np.zeros(B)\n",
        "loc_error_wbs = np.zeros(B)\n",
        "K_wbs = np.zeros(B)\n",
        "\n",
        "cp_best_list = []\n",
        "param_best_list = []\n",
        "\n",
        "for b in range(B):\n",
        "    X_train = X_train_list[b]\n",
        "    Y_train = Y_train_list[b]\n",
        "    X_test = X_test_list[b]\n",
        "    Y_test = Y_test_list[b]\n",
        "\n",
        "    start_time = time.time()\n",
        "    wbs_fit = wbs_cv_bt(m_intervals, grid_n, lam_list, gamma_list, smooth = 5, buffer = 5)\n",
        "    res = wbs_fit.fit((X_train, Y_train), (X_test, Y_test))\n",
        "    cp_best, cp_val, cusum_val, threshold_best, grid = res   \n",
        "    run_time_wbs[b] = time.time() - start_time\n",
        "    loc_error_wbs[b] = cp_distance(cp_best, cp_truth)\n",
        "    K_wbs[b] = len(cp_best)\n",
        "\n",
        "    cp_best_list.append(cp_best)\n",
        "    param_best_list.append(threshold_best)\n",
        "\n",
        "    print(b)\n",
        "\n",
        "print('---------- wbs -----------')\n",
        "print(\"avg loc error: {0}, avg time: {1}\".format(loc_error_wbs.mean(), run_time_wbs.mean()))\n",
        "print(\"std loc error: {0}, std time: {1}\".format(loc_error_wbs.std(), run_time_wbs.std()))\n",
        "print('K < K*: {0}, K = K*: {1}, K > K*: {2}'.format(sum(K_wbs < T - 1), sum(K_wbs == T - 1), sum(K_wbs > T - 1)))"
      ],
      "metadata": {
        "id": "Qmel4DHRxLGT",
        "colab": {
          "base_uri": "https://localhost:8080/"
        },
        "outputId": "3d40e15e-abb1-48c0-86da-a55f0b0d3b55"
      },
      "execution_count": 8,
      "outputs": [
        {
          "output_type": "stream",
          "name": "stdout",
          "text": [
            "0\n",
            "1\n",
            "2\n",
            "3\n",
            "4\n",
            "5\n",
            "6\n",
            "7\n",
            "8\n",
            "9\n",
            "10\n",
            "11\n",
            "12\n",
            "13\n",
            "14\n",
            "15\n",
            "16\n",
            "17\n",
            "18\n",
            "19\n",
            "20\n",
            "21\n",
            "22\n",
            "23\n",
            "24\n",
            "25\n",
            "26\n",
            "27\n",
            "28\n",
            "29\n",
            "30\n",
            "31\n",
            "32\n",
            "33\n",
            "34\n",
            "35\n",
            "36\n",
            "37\n",
            "38\n",
            "39\n",
            "40\n",
            "41\n",
            "42\n",
            "43\n",
            "44\n",
            "45\n",
            "46\n",
            "47\n",
            "48\n",
            "49\n",
            "50\n",
            "51\n",
            "52\n",
            "53\n",
            "54\n",
            "55\n",
            "56\n",
            "57\n",
            "58\n",
            "59\n",
            "60\n",
            "61\n",
            "62\n",
            "63\n",
            "64\n",
            "65\n",
            "66\n",
            "67\n",
            "68\n",
            "69\n",
            "70\n",
            "71\n",
            "72\n",
            "73\n",
            "74\n",
            "75\n",
            "76\n",
            "77\n",
            "78\n",
            "79\n",
            "80\n",
            "81\n",
            "82\n",
            "83\n",
            "84\n",
            "85\n",
            "86\n",
            "87\n",
            "88\n",
            "89\n",
            "90\n",
            "91\n",
            "92\n",
            "93\n",
            "94\n",
            "95\n",
            "96\n",
            "97\n",
            "98\n",
            "99\n",
            "---------- wbs -----------\n",
            "avg loc error: 412.32, avg time: 399.90618260145186\n",
            "std loc error: 495.53968317381, std time: 40.900529064217125\n",
            "K < K*: 0, K = K*: 57, K > K*: 43\n"
          ]
        }
      ]
    },
    {
      "cell_type": "code",
      "source": [
        "loc_error_wbs"
      ],
      "metadata": {
        "id": "Qe8Pn9foJDJQ",
        "colab": {
          "base_uri": "https://localhost:8080/"
        },
        "outputId": "d17a73c8-94c6-418d-a924-40770443ed79"
      },
      "execution_count": 9,
      "outputs": [
        {
          "output_type": "execute_result",
          "data": {
            "text/plain": [
              "array([ 528.,   16.,   16.,  784.,   16.,  560.,   16.,   16.,   16.,\n",
              "         16., 1040.,   32.,  944.,   16.,   16.,   16.,   16.,   16.,\n",
              "       1040., 1232., 1264.,   16.,   16., 1488.,  752.,   32.,   16.,\n",
              "         16., 1264.,   16.,   16.,   16.,   16., 1264.,  400.,  800.,\n",
              "        720.,  704.,   16., 1264.,  720.,  928.,  832.,   16., 1456.,\n",
              "         16.,   16.,  640.,   16.,   16.,  816.,   16., 1072.,   16.,\n",
              "        944.,   16.,   16.,  496.,   16.,   16.,  976.,   16.,   16.,\n",
              "        896.,   16.,   48.,  720.,   16.,   16.,   16., 1136.,   16.,\n",
              "         16.,   16., 1488., 1616.,   16.,   16., 1104.,  768.,  608.,\n",
              "       1392.,  864.,   16.,  800.,  592.,   16.,  944.,   16.,  768.,\n",
              "         16.,   16., 1104.,   16.,   16.,   16.,   16.,  528.,   16.,\n",
              "         16.])"
            ]
          },
          "metadata": {},
          "execution_count": 9
        }
      ]
    },
    {
      "cell_type": "code",
      "source": [
        "param_best_list"
      ],
      "metadata": {
        "colab": {
          "base_uri": "https://localhost:8080/"
        },
        "id": "QqKeqq3rVBmr",
        "outputId": "cbf422d9-2fbe-44db-e913-3ec53b1e9b80"
      },
      "execution_count": 10,
      "outputs": [
        {
          "output_type": "execute_result",
          "data": {
            "text/plain": [
              "[80,\n",
              " 100,\n",
              " 80,\n",
              " 80,\n",
              " 80,\n",
              " 80,\n",
              " 80,\n",
              " 80,\n",
              " 80,\n",
              " 100,\n",
              " 80,\n",
              " 80,\n",
              " 80,\n",
              " 100,\n",
              " 80,\n",
              " 100,\n",
              " 100,\n",
              " 100,\n",
              " 80,\n",
              " 80,\n",
              " 80,\n",
              " 80,\n",
              " 100,\n",
              " 80,\n",
              " 80,\n",
              " 100,\n",
              " 100,\n",
              " 100,\n",
              " 80,\n",
              " 100,\n",
              " 100,\n",
              " 80,\n",
              " 100,\n",
              " 80,\n",
              " 80,\n",
              " 80,\n",
              " 80,\n",
              " 80,\n",
              " 80,\n",
              " 80,\n",
              " 80,\n",
              " 80,\n",
              " 80,\n",
              " 100,\n",
              " 80,\n",
              " 80,\n",
              " 100,\n",
              " 80,\n",
              " 100,\n",
              " 100,\n",
              " 80,\n",
              " 80,\n",
              " 80,\n",
              " 100,\n",
              " 80,\n",
              " 80,\n",
              " 80,\n",
              " 80,\n",
              " 100,\n",
              " 80,\n",
              " 80,\n",
              " 80,\n",
              " 100,\n",
              " 80,\n",
              " 100,\n",
              " 100,\n",
              " 80,\n",
              " 80,\n",
              " 100,\n",
              " 100,\n",
              " 80,\n",
              " 100,\n",
              " 100,\n",
              " 80,\n",
              " 80,\n",
              " 80,\n",
              " 100,\n",
              " 80,\n",
              " 80,\n",
              " 80,\n",
              " 80,\n",
              " 80,\n",
              " 80,\n",
              " 100,\n",
              " 80,\n",
              " 80,\n",
              " 100,\n",
              " 80,\n",
              " 80,\n",
              " 80,\n",
              " 80,\n",
              " 100,\n",
              " 80,\n",
              " 100,\n",
              " 100,\n",
              " 100,\n",
              " 100,\n",
              " 80,\n",
              " 100,\n",
              " 100]"
            ]
          },
          "metadata": {},
          "execution_count": 10
        }
      ]
    },
    {
      "cell_type": "code",
      "source": [
        "cp_best_list"
      ],
      "metadata": {
        "id": "WrC-7R1GwSx7",
        "colab": {
          "base_uri": "https://localhost:8080/"
        },
        "outputId": "072190e7-4046-41aa-9af6-d4dbfd6c3955"
      },
      "execution_count": 11,
      "outputs": [
        {
          "output_type": "execute_result",
          "data": {
            "text/plain": [
              "[[1984, 4000, 5984, 6528],\n",
              " [1984, 4000, 5984],\n",
              " [1984, 4000, 5984],\n",
              " [2016, 2560, 4000, 6016, 6784],\n",
              " [1984, 4000, 5984],\n",
              " [1984, 2560, 4000, 6016],\n",
              " [1984, 4000, 6016],\n",
              " [2016, 4000, 5984],\n",
              " [1984, 4000, 6016],\n",
              " [2016, 4000, 5984],\n",
              " [1984, 4000, 5216, 5984, 7040],\n",
              " [1984, 3968, 6016],\n",
              " [1984, 4000, 5056, 5984],\n",
              " [1984, 4000, 6016],\n",
              " [1984, 4000, 5984],\n",
              " [1984, 4000, 5984],\n",
              " [2016, 4000, 5984],\n",
              " [1984, 4000, 5984],\n",
              " [2016, 4000, 5984, 6688, 7040],\n",
              " [768, 1504, 1984, 4000, 5152, 5984],\n",
              " [736, 2016, 3968, 5984],\n",
              " [2016, 4000, 5984],\n",
              " [2016, 4000, 5984],\n",
              " [1536, 2016, 4000, 5984, 7488],\n",
              " [2016, 4000, 5344, 6016, 6752],\n",
              " [1984, 3968, 5984],\n",
              " [1984, 4000, 5984],\n",
              " [2016, 4000, 6016],\n",
              " [736, 1984, 4000, 4416, 6016],\n",
              " [1984, 4000, 6016],\n",
              " [2016, 4000, 5984],\n",
              " [1984, 4000, 6016],\n",
              " [2016, 4000, 5984],\n",
              " [736, 1984, 4000, 5984, 6464],\n",
              " [1632, 1984, 4000, 5600, 6016],\n",
              " [1984, 3200, 4000, 5344, 5984],\n",
              " [2016, 4000, 6016, 6720],\n",
              " [2016, 3296, 4000, 5984],\n",
              " [1984, 4000, 6016],\n",
              " [1984, 4000, 5440, 6016, 7264],\n",
              " [2016, 4000, 5440, 5984, 6720],\n",
              " [2016, 3072, 4000, 4608, 6016],\n",
              " [1984, 4000, 4832, 5984],\n",
              " [2016, 4000, 5984],\n",
              " [2016, 4000, 5056, 6016, 7456],\n",
              " [2016, 4000, 5984],\n",
              " [1984, 4000, 5984],\n",
              " [1984, 3360, 4000, 6016],\n",
              " [2016, 4000, 5984],\n",
              " [1984, 4000, 5984],\n",
              " [1984, 2816, 4000, 6016, 6624],\n",
              " [1984, 4000, 5984],\n",
              " [1984, 4000, 6016, 7072],\n",
              " [1984, 4000, 6016],\n",
              " [1984, 2880, 4032, 4576, 5056, 5984],\n",
              " [2016, 4000, 5984],\n",
              " [1984, 4000, 5984],\n",
              " [1600, 2016, 4000, 5504, 5984],\n",
              " [2016, 4000, 5984],\n",
              " [1984, 4000, 6016],\n",
              " [2016, 4000, 4384, 5280, 5984, 6976],\n",
              " [2016, 4000, 5984],\n",
              " [1984, 4000, 6016],\n",
              " [1984, 4000, 4896, 6016],\n",
              " [1984, 4000, 6016],\n",
              " [1952, 4000, 5984],\n",
              " [1984, 4000, 5984, 6720],\n",
              " [1984, 4000, 5984],\n",
              " [1984, 4000, 6016],\n",
              " [1984, 4000, 6016],\n",
              " [2016, 3968, 6016, 7136],\n",
              " [2016, 4000, 5984],\n",
              " [1984, 4000, 6016],\n",
              " [2016, 4000, 6016],\n",
              " [1984, 4000, 5984, 7488],\n",
              " [1312, 2016, 4000, 5984, 6912, 7616],\n",
              " [1984, 4000, 6016],\n",
              " [2016, 4000, 5984],\n",
              " [1984, 4000, 5984, 7104],\n",
              " [1984, 4000, 4768, 5312, 5984],\n",
              " [1984, 3392, 4000, 5984],\n",
              " [608, 1984, 3968, 5984],\n",
              " [1984, 4000, 4864, 6016, 6592],\n",
              " [2016, 4000, 6016],\n",
              " [2016, 4000, 4800, 6016],\n",
              " [1408, 1952, 4000, 5984],\n",
              " [1984, 4000, 5984],\n",
              " [1056, 1984, 4000, 5984, 6400, 6752],\n",
              " [1984, 4000, 6016],\n",
              " [1984, 4000, 4768, 6016],\n",
              " [1984, 4000, 5984],\n",
              " [1984, 4000, 5984],\n",
              " [896, 1440, 1984, 4000, 6016, 6624],\n",
              " [1984, 4000, 6016],\n",
              " [1984, 4000, 5984],\n",
              " [1984, 4000, 5984],\n",
              " [1984, 4000, 5984],\n",
              " [1536, 1984, 4000, 5984, 6528],\n",
              " [1984, 4000, 6016],\n",
              " [1984, 4000, 6016]]"
            ]
          },
          "metadata": {},
          "execution_count": 11
        }
      ]
    },
    {
      "cell_type": "code",
      "source": [
        "import pickle\n",
        "with open(path + 'wbs_n' + str(n) + '_Delta' + str(Delta) + '_K' + str(T - 1) + '_grid' + str(grid_n) + '.pickle', 'wb') as f:\n",
        "    pickle.dump([cp_best_list, param_best_list, loc_error_wbs, run_time_wbs, K_wbs], f)"
      ],
      "metadata": {
        "id": "JUnKEsc4vGd0"
      },
      "execution_count": 12,
      "outputs": []
    },
    {
      "cell_type": "code",
      "source": [
        ""
      ],
      "metadata": {
        "id": "-i7JsF4tMfut"
      },
      "execution_count": null,
      "outputs": []
    }
  ]
}