{
  "nbformat": 4,
  "nbformat_minor": 0,
  "metadata": {
    "colab": {
      "name": "DPLR-n100-Delta2000-K3",
      "provenance": [],
      "collapsed_sections": [],
      "toc_visible": true
    },
    "kernelspec": {
      "name": "python3",
      "display_name": "Python 3"
    },
    "language_info": {
      "name": "python"
    }
  },
  "cells": [
    {
      "cell_type": "code",
      "execution_count": 1,
      "metadata": {
        "id": "im-zBYvoLM2x",
        "colab": {
          "base_uri": "https://localhost:8080/"
        },
        "outputId": "46b6262a-7793-4632-c7ce-97f3f0f6c95a"
      },
      "outputs": [
        {
          "output_type": "stream",
          "name": "stdout",
          "text": [
            "Mounted at /content/drive\n"
          ]
        }
      ],
      "source": [
        "from google.colab import drive\n",
        "drive.mount('/content/drive')"
      ]
    },
    {
      "cell_type": "code",
      "source": [
        "import os, sys\n",
        "sys.path.append('/content/drive/MyDrive/CPD_BT')"
      ],
      "metadata": {
        "id": "yADnUZVCNYL0"
      },
      "execution_count": 2,
      "outputs": []
    },
    {
      "cell_type": "code",
      "source": [
        "import numpy as np\n",
        "import matplotlib.pyplot as plt\n",
        "import scipy.stats as stats\n",
        "import random\n",
        "\n",
        "import itertools\n",
        "\n",
        "from bt_cpd import *\n",
        "\n",
        "import time\n",
        "import bisect\n",
        "\n",
        "import pandas as pd\n",
        "\n",
        "import statsmodels.api as sm\n",
        "from sklearn import linear_model\n",
        "\n",
        "from warnings import simplefilter\n",
        "from sklearn.exceptions import ConvergenceWarning\n",
        "simplefilter(\"ignore\", category=ConvergenceWarning)"
      ],
      "metadata": {
        "id": "uIKHDjhONeFr",
        "colab": {
          "base_uri": "https://localhost:8080/"
        },
        "outputId": "ae55893b-13f9-4a49-8759-081242a38de4"
      },
      "execution_count": 3,
      "outputs": [
        {
          "output_type": "stream",
          "name": "stderr",
          "text": [
            "/usr/local/lib/python3.7/dist-packages/statsmodels/tools/_testing.py:19: FutureWarning: pandas.util.testing is deprecated. Use the functions in the public API at pandas.testing instead.\n",
            "  import pandas.util.testing as tm\n"
          ]
        }
      ]
    },
    {
      "cell_type": "code",
      "source": [
        "T = 4\n",
        "Delta = 2000\n",
        "m = np.array([Delta] * T)\n",
        "cp_truth = np.cumsum(m)[:T-1]\n",
        "\n",
        "n = 100\n",
        "beta = np.zeros((T, n))\n",
        "\n",
        "t = 0.9\n",
        "kappa = np.log(t / (1 - t))\n",
        "delta = 1\n",
        "beta_ref = get_beta_with_gap(n, delta)\n",
        "beta_ref *= kappa / (np.max(beta_ref) - np.min(beta_ref))\n",
        "beta[0] = beta_ref[:]\n",
        "beta[1] = change_type(beta_ref, 1)\n",
        "beta[2] = change_type(beta_ref, 2)\n",
        "beta[3] = change_type(beta_ref, 3)\n",
        "\n",
        "print(max(beta[0]) - min(beta[0]))\n",
        "\n",
        "diff = np.zeros(T - 1)\n",
        "for t in range(1, T):\n",
        "    diff[t - 1] = np.sum(np.abs(beta[t] - beta[t - 1])**2)**0.5\n",
        "print(diff)"
      ],
      "metadata": {
        "id": "Ns9hvspTPlgL",
        "colab": {
          "base_uri": "https://localhost:8080/"
        },
        "outputId": "62a05f46-0773-4674-e4be-8618c378561f"
      },
      "execution_count": 4,
      "outputs": [
        {
          "output_type": "stream",
          "name": "stdout",
          "text": [
            "2.1972245773362196\n",
            "[12.81317951 11.09709382 12.81317951]\n"
          ]
        }
      ]
    },
    {
      "cell_type": "code",
      "source": [
        "cp_truth"
      ],
      "metadata": {
        "id": "FLFx8a-OI9XK",
        "colab": {
          "base_uri": "https://localhost:8080/"
        },
        "outputId": "93eb6c79-614e-4c5f-fb99-f439ff4d82dc"
      },
      "execution_count": 5,
      "outputs": [
        {
          "output_type": "execute_result",
          "data": {
            "text/plain": [
              "array([2000, 4000, 6000])"
            ]
          },
          "metadata": {},
          "execution_count": 5
        }
      ]
    },
    {
      "cell_type": "code",
      "source": [
        "path = '/content/drive/MyDrive/CPD_BT/'\n",
        "with open(path + 'data_n' + str(n) + '_Delta' + str(Delta) + '_K' + str(T - 1) + '.npy', 'rb') as f:\n",
        "    X_train_list = np.load(f)\n",
        "    Y_train_list = np.load(f)\n",
        "    X_test_list = np.load(f)\n",
        "    Y_test_list = np.load(f)"
      ],
      "metadata": {
        "id": "hfhGQb_ifULO"
      },
      "execution_count": 6,
      "outputs": []
    },
    {
      "cell_type": "code",
      "source": [
        "X_train_list.shape"
      ],
      "metadata": {
        "id": "Xqvln61AntMT",
        "colab": {
          "base_uri": "https://localhost:8080/"
        },
        "outputId": "f72401dd-f6e7-408a-a995-8b6f9e588ceb"
      },
      "execution_count": 7,
      "outputs": [
        {
          "output_type": "execute_result",
          "data": {
            "text/plain": [
              "(100, 8000, 100)"
            ]
          },
          "metadata": {},
          "execution_count": 7
        }
      ]
    },
    {
      "cell_type": "code",
      "source": [
        "np.random.seed(0)\n",
        "\n",
        "grid_n = 100\n",
        "gamma_list = [80, 100]\n",
        "lam_list = [0.1]\n",
        "\n",
        "nt = Delta * T\n",
        "B = 100\n",
        "\n",
        "run_time_d = np.zeros(B)\n",
        "loc_error_d = np.zeros(B)\n",
        "K_d = np.zeros(B)\n",
        "\n",
        "cp_best_list = []\n",
        "param_best_list = []\n",
        "cp_best_cand_list = []\n",
        "\n",
        "for b in range(B):\n",
        "    X_train = X_train_list[b]\n",
        "    Y_train = Y_train_list[b]\n",
        "    X_test = X_test_list[b]\n",
        "    Y_test = Y_test_list[b]\n",
        "\n",
        "    start_time = time.time()\n",
        "    dp_fit = dplr_cv_bt(grid_n, lam_list, gamma_list)\n",
        "    cp_best, param_best, cp_best_cand = dp_fit.fit((Y_train, X_train), (Y_test, X_test))    \n",
        "    run_time_d[b] = time.time() - start_time\n",
        "    loc_error_d[b] = cp_distance(cp_best, cp_truth)\n",
        "    K_d[b] = len(cp_best)\n",
        "\n",
        "    cp_best_list.append(cp_best)\n",
        "    param_best_list.append(param_best)\n",
        "    cp_best_cand_list.append(cp_best_cand)\n",
        "    print(b)\n",
        "\n",
        "\n",
        "print('---------- dplr -----------')\n",
        "print(\"avg loc error: {0}, avg time: {1}\".format(loc_error_d.mean(), run_time_d.mean()))\n",
        "print(\"std loc error: {0}, std time: {1}\".format(loc_error_d.std(), run_time_d.std()))\n",
        "print('K < K*: {0}, K = K*: {1}, K > K*: {2}'.format(sum(K_d < T - 1), sum(K_d == T - 1), sum(K_d > T - 1)))"
      ],
      "metadata": {
        "id": "Qmel4DHRxLGT",
        "colab": {
          "base_uri": "https://localhost:8080/"
        },
        "outputId": "a681998b-1400-47d8-f141-085b9e64f856"
      },
      "execution_count": 8,
      "outputs": [
        {
          "output_type": "stream",
          "name": "stdout",
          "text": [
            "0\n",
            "1\n",
            "2\n",
            "3\n",
            "4\n",
            "5\n",
            "6\n",
            "7\n",
            "8\n",
            "9\n",
            "10\n",
            "11\n",
            "12\n",
            "13\n",
            "14\n",
            "15\n",
            "16\n",
            "17\n",
            "18\n",
            "19\n",
            "20\n",
            "21\n",
            "22\n",
            "23\n",
            "24\n",
            "25\n",
            "26\n",
            "27\n",
            "28\n",
            "29\n",
            "30\n",
            "31\n",
            "32\n",
            "33\n",
            "34\n",
            "35\n",
            "36\n",
            "37\n",
            "38\n",
            "39\n",
            "40\n",
            "41\n",
            "42\n",
            "43\n",
            "44\n",
            "45\n",
            "46\n",
            "47\n",
            "48\n",
            "49\n",
            "50\n",
            "51\n",
            "52\n",
            "53\n",
            "54\n",
            "55\n",
            "56\n",
            "57\n",
            "58\n",
            "59\n",
            "60\n",
            "61\n",
            "62\n",
            "63\n",
            "64\n",
            "65\n",
            "66\n",
            "67\n",
            "68\n",
            "69\n",
            "70\n",
            "71\n",
            "72\n",
            "73\n",
            "74\n",
            "75\n",
            "76\n",
            "77\n",
            "78\n",
            "79\n",
            "80\n",
            "81\n",
            "82\n",
            "83\n",
            "84\n",
            "85\n",
            "86\n",
            "87\n",
            "88\n",
            "89\n",
            "90\n",
            "91\n",
            "92\n",
            "93\n",
            "94\n",
            "95\n",
            "96\n",
            "97\n",
            "98\n",
            "99\n",
            "---------- dplr -----------\n",
            "avg loc error: 12.44, avg time: 402.4263724064827\n",
            "std loc error: 12.065918945525866, std time: 7.381561277883988\n",
            "K < K*: 0, K = K*: 100, K > K*: 0\n"
          ]
        }
      ]
    },
    {
      "cell_type": "code",
      "source": [
        "loc_error_d"
      ],
      "metadata": {
        "id": "Qe8Pn9foJDJQ",
        "colab": {
          "base_uri": "https://localhost:8080/"
        },
        "outputId": "aaec75ed-9c3f-4007-db0d-032a9b401510"
      },
      "execution_count": 9,
      "outputs": [
        {
          "output_type": "execute_result",
          "data": {
            "text/plain": [
              "array([25.,  2., 12., 19.,  8.,  4.,  9., 14.,  2., 10., 56., 14., 10.,\n",
              "        1.,  5.,  6.,  5., 38.,  8., 15.,  9., 13., 11., 14., 13., 24.,\n",
              "        2.,  7.,  3.,  5.,  5., 10.,  5.,  8., 16., 25.,  4., 11., 11.,\n",
              "       66.,  7.,  6.,  7., 10.,  3.,  1., 11.,  4., 10., 22.,  5., 13.,\n",
              "        4., 20., 22.,  7., 12.,  4.,  7.,  3., 19.,  2., 12., 50., 12.,\n",
              "        4.,  6., 13.,  9., 10., 32.,  6.,  3.,  9.,  5.,  3., 16., 10.,\n",
              "       24.,  2., 12., 14.,  4., 61.,  4., 42., 15.,  8., 10., 22.,  3.,\n",
              "       15., 15.,  6., 15.,  3., 11., 11., 19.,  4.])"
            ]
          },
          "metadata": {},
          "execution_count": 9
        }
      ]
    },
    {
      "cell_type": "code",
      "source": [
        "cp_best_list"
      ],
      "metadata": {
        "id": "WrC-7R1GwSx7",
        "colab": {
          "base_uri": "https://localhost:8080/"
        },
        "outputId": "fd3539d8-46bd-4193-b8f5-038b9020c249"
      },
      "execution_count": 10,
      "outputs": [
        {
          "output_type": "execute_result",
          "data": {
            "text/plain": [
              "[[1975, 3999, 5996],\n",
              " [2000, 4002, 6002],\n",
              " [1988, 4001, 5993],\n",
              " [2005, 3985, 6019],\n",
              " [1992, 4008, 6000],\n",
              " [1996, 4000, 5999],\n",
              " [2000, 4009, 6006],\n",
              " [2005, 4007, 5986],\n",
              " [2001, 4000, 6002],\n",
              " [1997, 4010, 5996],\n",
              " [1993, 4056, 5983],\n",
              " [1993, 4009, 6014],\n",
              " [2001, 3994, 5990],\n",
              " [1999, 3999, 5999],\n",
              " [2003, 4003, 6005],\n",
              " [2000, 4001, 5994],\n",
              " [2005, 4000, 5997],\n",
              " [1998, 3962, 5995],\n",
              " [2008, 3999, 5996],\n",
              " [2015, 4000, 5998],\n",
              " [2006, 3991, 5998],\n",
              " [2013, 3994, 6000],\n",
              " [1998, 3991, 5989],\n",
              " [1994, 3996, 5986],\n",
              " [2013, 3999, 6000],\n",
              " [1995, 3976, 6000],\n",
              " [1999, 4002, 5998],\n",
              " [1995, 4002, 6007],\n",
              " [1997, 4003, 5999],\n",
              " [2000, 3997, 6005],\n",
              " [2002, 3996, 5995],\n",
              " [2006, 4000, 6010],\n",
              " [2005, 4005, 6001],\n",
              " [1995, 4001, 5992],\n",
              " [1996, 3984, 6001],\n",
              " [1975, 3980, 6000],\n",
              " [2000, 3997, 6004],\n",
              " [2011, 4006, 5999],\n",
              " [1999, 3989, 6007],\n",
              " [2001, 4066, 6004],\n",
              " [2005, 3993, 5999],\n",
              " [2006, 4002, 6003],\n",
              " [2001, 3995, 5993],\n",
              " [2000, 3990, 6002],\n",
              " [2003, 3999, 5999],\n",
              " [2001, 4000, 6000],\n",
              " [2011, 4000, 5997],\n",
              " [2001, 3996, 6000],\n",
              " [2010, 3990, 6001],\n",
              " [1990, 3978, 6001],\n",
              " [2002, 4000, 5995],\n",
              " [1987, 4005, 5996],\n",
              " [2004, 4001, 5999],\n",
              " [1980, 4018, 6000],\n",
              " [2000, 4022, 5999],\n",
              " [2001, 3995, 5993],\n",
              " [1988, 4003, 5997],\n",
              " [2004, 4003, 6002],\n",
              " [2007, 4005, 5998],\n",
              " [1999, 3997, 6001],\n",
              " [2000, 4000, 5981],\n",
              " [2001, 3998, 5998],\n",
              " [1998, 4000, 6012],\n",
              " [1987, 3950, 6007],\n",
              " [2001, 4012, 6000],\n",
              " [2004, 4002, 5998],\n",
              " [2004, 4006, 5998],\n",
              " [1999, 4013, 5996],\n",
              " [1998, 4000, 6009],\n",
              " [1990, 4001, 6005],\n",
              " [2000, 3968, 5991],\n",
              " [1998, 3999, 5994],\n",
              " [2003, 3998, 5999],\n",
              " [2009, 3999, 6000],\n",
              " [2005, 4003, 6000],\n",
              " [2000, 3999, 5997],\n",
              " [1984, 4003, 6000],\n",
              " [2000, 4008, 5990],\n",
              " [1980, 4023, 5976],\n",
              " [1999, 3999, 5998],\n",
              " [1988, 4002, 5989],\n",
              " [1997, 4014, 6000],\n",
              " [2000, 4003, 6004],\n",
              " [2003, 4061, 5994],\n",
              " [2003, 4003, 6004],\n",
              " [1958, 4000, 5999],\n",
              " [1999, 4015, 5992],\n",
              " [2001, 4008, 5997],\n",
              " [1990, 4010, 6010],\n",
              " [2006, 3993, 6022],\n",
              " [2000, 4003, 6000],\n",
              " [1985, 4002, 6002],\n",
              " [1985, 3997, 6005],\n",
              " [1994, 4000, 5995],\n",
              " [1985, 3995, 6000],\n",
              " [1999, 4002, 5997],\n",
              " [2000, 3989, 5989],\n",
              " [1989, 3995, 5993],\n",
              " [2019, 3994, 6001],\n",
              " [2004, 4003, 6004]]"
            ]
          },
          "metadata": {},
          "execution_count": 10
        }
      ]
    },
    {
      "cell_type": "code",
      "source": [
        "import pickle\n",
        "with open(path + 'dplr_n' + str(n) + '_Delta' + str(Delta) + '_K' + str(T - 1) + '_grid' + str(grid_n) + '.pickle', 'wb') as f:\n",
        "    pickle.dump([cp_best_list, param_best_list, cp_best_cand_list, loc_error_d, run_time_d, K_d], f)"
      ],
      "metadata": {
        "id": "JUnKEsc4vGd0"
      },
      "execution_count": 11,
      "outputs": []
    }
  ]
}